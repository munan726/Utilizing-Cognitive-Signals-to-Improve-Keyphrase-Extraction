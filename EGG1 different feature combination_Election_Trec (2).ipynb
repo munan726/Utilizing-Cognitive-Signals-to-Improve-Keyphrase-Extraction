{
  "cells": [
    {
      "cell_type": "code",
      "execution_count": null,
      "outputs": [],
      "source": [],
      "metadata": {
        "pycharm": {
          "name": "#%%\n"
        },
        "id": "V9AjhssVCBYZ"
      }
    },
    {
      "cell_type": "markdown",
      "source": [
        "只需要执行start training之前代码，然后执行EGG不同组合代码"
      ],
      "metadata": {
        "id": "gMtZpdTZybSs"
      }
    },
    {
      "cell_type": "markdown",
      "metadata": {
        "id": "shWyTmV3CBYa"
      },
      "source": [
        "#### load data"
      ]
    },
    {
      "cell_type": "code",
      "execution_count": null,
      "outputs": [],
      "source": [
        "import transformers\n",
        "import torch\n",
        "from transformers import BertModel, BertTokenizerFast"
      ],
      "metadata": {
        "pycharm": {
          "name": "#%%\n"
        },
        "id": "hivERBZfCBYb"
      }
    },
    {
      "cell_type": "code",
      "execution_count": null,
      "outputs": [],
      "source": [
        "weight = 'bert-base-uncased'\n",
        "device = torch.device('cuda:0' if torch.cuda.is_available() else 'cpu')\n",
        "max_len = 35"
      ],
      "metadata": {
        "pycharm": {
          "name": "#%%\n"
        },
        "id": "QsIpNKr6CBYc"
      }
    },
    {
      "cell_type": "code",
      "execution_count": null,
      "outputs": [],
      "source": [],
      "metadata": {
        "pycharm": {
          "name": "#%%\n"
        },
        "id": "y6b9lmrHCBYd"
      }
    },
    {
      "cell_type": "code",
      "execution_count": null,
      "metadata": {
        "id": "0UCq98J4CBYd"
      },
      "outputs": [],
      "source": [
        "import json\n",
        "\n",
        "\n",
        "train_path = '/content/drive/MyDrive/ner/datas/Election-Trec/train.json'\n",
        "test_path = '/content/drive/MyDrive/ner/datas/Election-Trec/test.json'\n",
        "train_file = json.load(open(train_path,'r',encoding='utf-8'))\n",
        "test_file = json.load(open(test_path, 'r', encoding='utf-8'))"
      ]
    },
    {
      "cell_type": "code",
      "source": [
        "from google.colab import drive\n",
        "drive.mount('/content/drive')"
      ],
      "metadata": {
        "colab": {
          "base_uri": "https://localhost:8080/"
        },
        "id": "D7UI6bKGHGu5",
        "outputId": "bec31fd6-329a-4d73-b02f-bdeea7b2f758"
      },
      "execution_count": null,
      "outputs": [
        {
          "output_type": "stream",
          "name": "stdout",
          "text": [
            "Mounted at /content/drive\n"
          ]
        }
      ]
    },
    {
      "cell_type": "code",
      "execution_count": null,
      "metadata": {
        "id": "FQycftaaCBYd"
      },
      "outputs": [],
      "source": [
        "# Append all words, eye-tracking signals, EEG signals and tags from training json to list\n",
        "train_sens, train_tags = [],[]\n",
        "train_Feature = []\n",
        "train_word_nums = []\n",
        "\n",
        "sens = ''\n",
        "nums = 0\n",
        "for key in train_file.keys():\n",
        "    tags = []\n",
        "    features = []\n",
        "    items = train_file[key]\n",
        "    sens = ''\n",
        "    nums = 0\n",
        "    for item in items:\n",
        "        sens += item[0]\n",
        "        sens += ' '\n",
        "        features.append(item[1:-1])               # ET+EEG: [1: -1]\n",
        "        tags.append(item[-1])\n",
        "        nums += 1\n",
        "    train_sens.append(sens.strip())\n",
        "    train_word_nums.append(nums)\n",
        "    train_Feature.append(features)\n",
        "    train_tags.append(tags)"
      ]
    },
    {
      "cell_type": "code",
      "execution_count": null,
      "metadata": {
        "id": "iVgSI1QgCBYe"
      },
      "outputs": [],
      "source": [
        "# Append all words, eye-tracking signals, EEG signals and tags from testing json to list\n",
        "test_sens, test_tags = [],[]\n",
        "test_Feature = []\n",
        "test_word_nums = []\n",
        "\n",
        "sens = ''\n",
        "nums = 0\n",
        "for key in test_file.keys():\n",
        "    tags = []\n",
        "    features = []\n",
        "    items = test_file[key]\n",
        "    sens = ''\n",
        "    nums = 0\n",
        "    for item in items:\n",
        "        sens += item[0]\n",
        "        sens += ' '\n",
        "        features.append(item[1:-1])                # ET+EEG: [1: -1]\n",
        "        tags.append(item[-1])\n",
        "        nums += 1\n",
        "    test_sens.append(sens.strip())\n",
        "    test_word_nums.append(nums)\n",
        "    test_Feature.append(features)\n",
        "    test_tags.append(tags)"
      ]
    },
    {
      "cell_type": "code",
      "execution_count": null,
      "metadata": {
        "colab": {
          "base_uri": "https://localhost:8080/"
        },
        "id": "W2vjI4VsCBYe",
        "outputId": "4ef9b8a8-2685-4941-8ec0-dcc3ee1d55d6"
      },
      "outputs": [
        {
          "output_type": "execute_result",
          "data": {
            "text/plain": [
              "3027"
            ]
          },
          "metadata": {},
          "execution_count": 8
        }
      ],
      "source": [
        "len(test_sens)"
      ]
    },
    {
      "cell_type": "markdown",
      "metadata": {
        "id": "oxFYjwlZCBYf"
      },
      "source": [
        "#### build dataset"
      ]
    },
    {
      "cell_type": "code",
      "execution_count": null,
      "metadata": {
        "id": "gOlrGF4oCBYf"
      },
      "outputs": [],
      "source": [
        "from torch.utils.data import Dataset, DataLoader"
      ]
    },
    {
      "cell_type": "code",
      "execution_count": null,
      "metadata": {
        "colab": {
          "base_uri": "https://localhost:8080/",
          "height": 274,
          "referenced_widgets": [
            "b5c14c8f499f4c469c1951bad667f19c",
            "39a9fe352d214969963c3b33d35c74bb",
            "d36d06a280ed4bce8c1a59fd9893da22",
            "f6ac4be0ccbc42a8994bf43f9ea1cf6a",
            "49679ebbd195488898ecae061602e817",
            "44c80b78ad524cad8507fbea1c8bfaf9",
            "cabd66ce13be4875bc93ce39b780e705",
            "4c3dab6b28b74c5a993af68dbd2a97dd",
            "fd0f7a40e7c445eb94b50bf4dd5344a2",
            "da485b05d3114c429eba44fa2bcf1499",
            "bf0cbd69a92545579569e396e25871e0",
            "20d450d3aa214c2696578c8a35c6ba13",
            "71da912b425b48c18446d79a07b5a8f4",
            "889af1dc133b474d817dd907cb786141",
            "c62ee48881834710a83536ea477c62d7",
            "6b50e28e53dc42ed82d3ff3e31b2cd51",
            "a67d133d2e154bb68f2c4f8148a2043a",
            "16b2a853baaf425eba0aa1d0c84419bc",
            "bda185cf32f6477597c91c00e1ef13e2",
            "d228d9467aad41b488e4d64af53ba9df",
            "296bf4a93e724e86a36b48a9037aca22",
            "ea446f7648d74c629ee61af93f208ed7",
            "1fcd6ec9e69e46fc939a019dfd2d936c",
            "4cc18343ba1e4399894fa5e1d93bda40",
            "e6bd1f7ded394d73807bdf2ef311c6ed",
            "f7b381800452409da7c96f5a1d00fc49",
            "a236cbd637ca4caeb82b19f7b3f8cc17",
            "cea9d5f068c84289b6194302b3fffca3",
            "3b05ae68f7a140ba95de1a733f15af41",
            "09e0a8da3dca4ccfbf0dd7fbe9ef10cb",
            "a5abcfa71df44500b579991c6c8b5359",
            "fd26a064752d4b0b84de726202149416",
            "dac4ada09a914f22a278c40243942631",
            "ab6accd5f6cc41838c17ed7fb0ed8f27",
            "0754ef5ef05f4c47b675befce7004f83",
            "7c367f4571324f86b4d7edc9510b6952",
            "fbb2f44452454557a5bcc849d3338685",
            "ae9711d9a9634644bc8756bac30567f0",
            "280dcf02afdf45e1bf7e361d119a59c5",
            "3374d027dd48425f87f66fd2af824646",
            "5e041cfe45ce4f91b15e4d0c143e3d95",
            "797c7560433d459e947e45e21697c748",
            "c18decfd88574968bffff06587c4cbc0",
            "8fa2a6aa55504ea8982f79b568a2b4ce"
          ]
        },
        "id": "ASM6-HnQCBYf",
        "outputId": "ce3f4a0e-3c9b-4369-c01c-8c908ecc3567"
      },
      "outputs": [
        {
          "output_type": "stream",
          "name": "stderr",
          "text": [
            "/usr/local/lib/python3.10/dist-packages/huggingface_hub/utils/_token.py:89: UserWarning: \n",
            "The secret `HF_TOKEN` does not exist in your Colab secrets.\n",
            "To authenticate with the Hugging Face Hub, create a token in your settings tab (https://huggingface.co/settings/tokens), set it as secret in your Google Colab and restart your session.\n",
            "You will be able to reuse this secret in all of your notebooks.\n",
            "Please note that authentication is recommended but still optional to access public models or datasets.\n",
            "  warnings.warn(\n"
          ]
        },
        {
          "output_type": "display_data",
          "data": {
            "text/plain": [
              "tokenizer_config.json:   0%|          | 0.00/48.0 [00:00<?, ?B/s]"
            ],
            "application/vnd.jupyter.widget-view+json": {
              "version_major": 2,
              "version_minor": 0,
              "model_id": "b5c14c8f499f4c469c1951bad667f19c"
            }
          },
          "metadata": {}
        },
        {
          "output_type": "display_data",
          "data": {
            "text/plain": [
              "vocab.txt:   0%|          | 0.00/232k [00:00<?, ?B/s]"
            ],
            "application/vnd.jupyter.widget-view+json": {
              "version_major": 2,
              "version_minor": 0,
              "model_id": "20d450d3aa214c2696578c8a35c6ba13"
            }
          },
          "metadata": {}
        },
        {
          "output_type": "display_data",
          "data": {
            "text/plain": [
              "tokenizer.json:   0%|          | 0.00/466k [00:00<?, ?B/s]"
            ],
            "application/vnd.jupyter.widget-view+json": {
              "version_major": 2,
              "version_minor": 0,
              "model_id": "1fcd6ec9e69e46fc939a019dfd2d936c"
            }
          },
          "metadata": {}
        },
        {
          "output_type": "display_data",
          "data": {
            "text/plain": [
              "config.json:   0%|          | 0.00/570 [00:00<?, ?B/s]"
            ],
            "application/vnd.jupyter.widget-view+json": {
              "version_major": 2,
              "version_minor": 0,
              "model_id": "ab6accd5f6cc41838c17ed7fb0ed8f27"
            }
          },
          "metadata": {}
        }
      ],
      "source": [
        "tokenizer = BertTokenizerFast.from_pretrained(weight)"
      ]
    },
    {
      "cell_type": "code",
      "execution_count": null,
      "metadata": {
        "id": "u5pb60D5CBYg"
      },
      "outputs": [],
      "source": [
        "label_to_ids = {'none': 0, 'B': 1, 'I': 2, 'E': 3, 'S': 4, \"O\": 5}\n",
        "# label_to_ids = {'O': 0, 'B': 1, 'I': 2, 'E': 3, 'S': 4}"
      ]
    },
    {
      "cell_type": "code",
      "execution_count": null,
      "metadata": {
        "id": "ToV8eWk7CBYg"
      },
      "outputs": [],
      "source": [
        "from tqdm import tqdm\n",
        "import numpy as np\n",
        "\n",
        "class MyDataset(Dataset):\n",
        "    def __init__(self, texts, old_features, tags):\n",
        "        self.texts = texts\n",
        "        self.tags = tags\n",
        "        self.old_features = old_features\n",
        "\n",
        "        self.labels = []\n",
        "        self.tokens = []\n",
        "        self.features = []\n",
        "\n",
        "        self.input_ids = None\n",
        "        self.attention_masks = None\n",
        "\n",
        "    def encode(self):\n",
        "        for i in tqdm(range(len(self.texts))):\n",
        "          text = self.texts[i]\n",
        "          tag = self.tags[i]\n",
        "          feature = self.old_features[i]\n",
        "          tags, tokens, features = align_label(text, tag, feature)\n",
        "          self.labels.append(tags)\n",
        "          self.tokens.append(tokens)\n",
        "          self.features.append(features)\n",
        "\n",
        "        self.features = np.array(self.features,float)\n",
        "        self.inputs = tokenizer(self.texts, max_length=max_len, add_special_tokens=True, padding='max_length', truncation=True, return_tensors='pt')\n",
        "        self.input_ids = self.inputs['input_ids']\n",
        "        self.attention_masks = self.inputs['attention_mask']\n",
        "\n",
        "    def __getitem__(self, idx):\n",
        "        return self.input_ids[idx,:], self.attention_masks[idx,:], self.tokens[idx], torch.tensor(self.features[idx],dtype=torch.float32), torch.tensor(self.labels[idx])\n",
        "\n",
        "    def __len__(self):\n",
        "        return len(self.input_ids)"
      ]
    },
    {
      "cell_type": "code",
      "execution_count": null,
      "outputs": [],
      "source": [
        "label_all_tokens = True\n",
        "\n",
        "\n",
        "\n",
        "def align_label(text, labels, features):\n",
        "    input = tokenizer(text, max_length=max_len, add_special_tokens=True, padding='max_length', truncation=True, return_tensors='pt')\n",
        "    word_ids = input.word_ids()\n",
        "    input_ids = input['input_ids']\n",
        "    tokens = tokenizer.convert_ids_to_tokens(input_ids[0])\n",
        "\n",
        "    previous_word_idx = None\n",
        "    new_labels, new_features = [], []\n",
        "    no_features = [0 for _ in range(1, 26)]\n",
        "\n",
        "    for word_idx in word_ids:\n",
        "        if word_idx is None:\n",
        "            new_labels.append('none')\n",
        "            new_features.append(no_features)\n",
        "        elif word_idx != previous_word_idx:\n",
        "            try:\n",
        "                new_labels.append(labels[word_idx])\n",
        "                new_features.append(features[word_idx])\n",
        "            except:\n",
        "                new_labels.append('none')\n",
        "                new_features.append(no_features)\n",
        "        else:\n",
        "            try:\n",
        "                new_labels.append(labels[word_idx] if label_all_tokens else 'none')\n",
        "                new_features.append(features[word_idx] if label_all_tokens else no_features)\n",
        "            except:\n",
        "                new_labels.append('none')\n",
        "                new_features.append(no_features)\n",
        "        previous_word_idx = word_idx\n",
        "\n",
        "    label_ids = [label_to_ids[label] for label in new_labels]\n",
        "    return label_ids, tokens, new_features\n"
      ],
      "metadata": {
        "pycharm": {
          "name": "#%%\n"
        },
        "id": "OJ_HkiBwCBYg"
      }
    },
    {
      "cell_type": "code",
      "execution_count": null,
      "metadata": {
        "colab": {
          "base_uri": "https://localhost:8080/"
        },
        "id": "om6L7dR3CBYg",
        "outputId": "8ff6413b-b916-4939-f3dc-4cb3aaa475b2"
      },
      "outputs": [
        {
          "output_type": "stream",
          "name": "stderr",
          "text": [
            "100%|██████████| 24210/24210 [00:08<00:00, 2808.83it/s]\n"
          ]
        }
      ],
      "source": [
        "train_dataset = MyDataset(train_sens, train_Feature, train_tags)\n",
        "train_dataset.encode()"
      ]
    },
    {
      "cell_type": "code",
      "execution_count": null,
      "metadata": {
        "colab": {
          "base_uri": "https://localhost:8080/"
        },
        "id": "2UE2ad7PCBYh",
        "outputId": "fd21325a-723b-4ca2-bfdc-6c296d778f77"
      },
      "outputs": [
        {
          "output_type": "stream",
          "name": "stderr",
          "text": [
            "100%|██████████| 3027/3027 [00:01<00:00, 2886.57it/s]\n"
          ]
        }
      ],
      "source": [
        "test_dataset = MyDataset(test_sens, test_Feature, test_tags)\n",
        "test_dataset.encode()"
      ]
    },
    {
      "cell_type": "code",
      "execution_count": null,
      "metadata": {
        "id": "ItkC1bL-CBYh"
      },
      "outputs": [],
      "source": [
        "train_dataloader = DataLoader(train_dataset, shuffle=True, batch_size=128)\n",
        "test_dataloader = DataLoader(test_dataset, shuffle=True, batch_size=128)"
      ]
    },
    {
      "cell_type": "markdown",
      "metadata": {
        "id": "HsP4K3m5CBYh"
      },
      "source": [
        "#### construct bert  model"
      ]
    },
    {
      "cell_type": "code",
      "execution_count": null,
      "metadata": {
        "id": "mG5BkpegCBYh"
      },
      "outputs": [],
      "source": [
        "import torch.nn as nn\n",
        "import torch\n",
        "\n",
        "\n",
        "\n",
        "import torch.nn as nn\n",
        "import torch\n",
        "\n",
        "class BertNerModel(nn.Module):\n",
        "    def __init__(self,num_labels):\n",
        "        super(BertNerModel,self).__init__()\n",
        "\n",
        "        self.bert = BertModel.from_pretrained(weight)\n",
        "        self.dropout = nn.Dropout(0.1)\n",
        "        self.classifier = nn.Linear(768+8,num_labels)\n",
        "\n",
        "    def forward(self,input_ids,attention_mask,extra_features,token_type_ids=None):\n",
        "        outputs = self.bert(input_ids, attention_mask=attention_mask, token_type_ids=token_type_ids)\n",
        "\n",
        "        pooled_output = outputs[0]\n",
        "        bert_outputs = self.dropout(pooled_output)\n",
        "        EGG = extra_features[:, :, -8:]\n",
        "        outputs = torch.concat((bert_outputs,EGG),-1)\n",
        "        # print(bert_outputs.shape)\n",
        "        # print(EGG.shape)\n",
        "        # print(outputs.shape)\n",
        "\n",
        "        # outputs = bert_outputs\n",
        "        outputs = self.classifier(outputs)\n",
        "\n",
        "        return outputs\n"
      ]
    },
    {
      "cell_type": "markdown",
      "metadata": {
        "id": "-LLSoMmaCBYh"
      },
      "source": [
        "#### evaluate"
      ]
    },
    {
      "cell_type": "code",
      "execution_count": null,
      "metadata": {
        "id": "D_Kda87kCBYh"
      },
      "outputs": [],
      "source": [
        "def TagConvert(raw_tags, words_set, poss=None):\n",
        "    true_tags = []\n",
        "    for i in range(raw_tags.shape[0]):\n",
        "      kw_list = []\n",
        "      nkw_list = \"\"\n",
        "      for j in range(len(raw_tags[i])):\n",
        "          item = raw_tags[i][j]\n",
        "          if item == 0:\n",
        "              continue\n",
        "          if poss !=None and j in poss[i]:\n",
        "              continue\n",
        "          # if item == 5:\n",
        "          #     continue\n",
        "          if item == 4:\n",
        "              kw_list.append(str(words_set[j][i]))\n",
        "          if item == 1:\n",
        "              nkw_list += str(words_set[j][i])\n",
        "          if item == 2:\n",
        "              nkw_list += \" \"\n",
        "              nkw_list += str(words_set[j][i])\n",
        "          if item == 3:\n",
        "              nkw_list += \" \"\n",
        "              nkw_list += str(words_set[j][i])\n",
        "              kw_list.append(nkw_list)\n",
        "              nkw_list = \"\"\n",
        "\n",
        "      true_tags.append(kw_list)\n",
        "    return true_tags"
      ]
    },
    {
      "cell_type": "code",
      "execution_count": null,
      "metadata": {
        "id": "smz-IIy6CBYi"
      },
      "outputs": [],
      "source": [
        "def evaluate(predict_data, target_data, topk=3):\n",
        "  TRUE_COUNT, PRED_COUNT, GOLD_COUNT = 0.0, 0.0, 0.0\n",
        "  for index, words in enumerate(predict_data):\n",
        "      y_pred, y_true = None, target_data[index]\n",
        "\n",
        "      if type(predict_data) == str:\n",
        "          words = sorted(words.items(), key=lambda item: (-item[1], item[0]))\n",
        "          y_pred = [i[0] for i in words]\n",
        "      elif type(predict_data) == list:\n",
        "          y_pred = words\n",
        "\n",
        "      y_pred = y_pred[0: topk]\n",
        "      TRUE_NUM = len(set(y_pred) & set(y_true))\n",
        "      TRUE_COUNT += TRUE_NUM\n",
        "      PRED_COUNT += len(y_pred)\n",
        "      GOLD_COUNT += len(y_true)\n",
        "  # compute P\n",
        "  if PRED_COUNT != 0:\n",
        "      p = (TRUE_COUNT / PRED_COUNT)\n",
        "  else:\n",
        "      p = 0\n",
        "  # compute R\n",
        "  if GOLD_COUNT != 0:\n",
        "      r = (TRUE_COUNT / GOLD_COUNT)\n",
        "  else:\n",
        "      r = 0\n",
        "  # compute F1\n",
        "  if (r + p) != 0:\n",
        "      f1 = ((2 * r * p) / (r + p))\n",
        "  else:\n",
        "      f1 = 0\n",
        "\n",
        "  p = round(p * 100, 2)\n",
        "  r = round(r * 100, 2)\n",
        "  f1 = round(f1 * 100, 2)\n",
        "\n",
        "  return p, r, f1"
      ]
    },
    {
      "cell_type": "code",
      "execution_count": null,
      "metadata": {
        "id": "EF70Ap6rCBYi"
      },
      "outputs": [],
      "source": [
        "import numpy as np\n",
        "\n",
        "def calculate_f1(y_pred, y_true):\n",
        "    # flatten and convert to numpy array\n",
        "    y_true = y_true.view(-1)\n",
        "    y_pred = y_pred.view(-1)\n",
        "    y_true = y_true.detach().cpu().numpy()\n",
        "    y_pred = y_pred.detach().cpu().numpy()\n",
        "\n",
        "    mask = np.where(y_true != 0)\n",
        "\n",
        "    y_true = y_true[mask]\n",
        "    y_pred = y_pred[mask]\n",
        "\n",
        "    return y_pred, y_true"
      ]
    },
    {
      "cell_type": "markdown",
      "metadata": {
        "id": "3xKZt3yaCBYi"
      },
      "source": [
        "#### start training"
      ]
    },
    {
      "cell_type": "code",
      "execution_count": null,
      "metadata": {
        "id": "h9urmITuCBYi",
        "outputId": "3578e7c3-5bb6-4184-fb53-f27d08e025cc"
      },
      "outputs": [
        {
          "name": "stderr",
          "output_type": "stream",
          "text": [
            "A parameter name that contains `beta` will be renamed internally to `bias`. Please use a different name to suppress this warning.\n",
            "A parameter name that contains `gamma` will be renamed internally to `weight`. Please use a different name to suppress this warning.\n",
            "A parameter name that contains `beta` will be renamed internally to `bias`. Please use a different name to suppress this warning.\n",
            "A parameter name that contains `gamma` will be renamed internally to `weight`. Please use a different name to suppress this warning.\n",
            "A parameter name that contains `beta` will be renamed internally to `bias`. Please use a different name to suppress this warning.\n",
            "A parameter name that contains `gamma` will be renamed internally to `weight`. Please use a different name to suppress this warning.\n",
            "A parameter name that contains `beta` will be renamed internally to `bias`. Please use a different name to suppress this warning.\n",
            "A parameter name that contains `gamma` will be renamed internally to `weight`. Please use a different name to suppress this warning.\n",
            "A parameter name that contains `beta` will be renamed internally to `bias`. Please use a different name to suppress this warning.\n",
            "A parameter name that contains `gamma` will be renamed internally to `weight`. Please use a different name to suppress this warning.\n",
            "A parameter name that contains `beta` will be renamed internally to `bias`. Please use a different name to suppress this warning.\n",
            "A parameter name that contains `gamma` will be renamed internally to `weight`. Please use a different name to suppress this warning.\n",
            "A parameter name that contains `beta` will be renamed internally to `bias`. Please use a different name to suppress this warning.\n",
            "A parameter name that contains `gamma` will be renamed internally to `weight`. Please use a different name to suppress this warning.\n",
            "A parameter name that contains `beta` will be renamed internally to `bias`. Please use a different name to suppress this warning.\n",
            "A parameter name that contains `gamma` will be renamed internally to `weight`. Please use a different name to suppress this warning.\n",
            "A parameter name that contains `beta` will be renamed internally to `bias`. Please use a different name to suppress this warning.\n",
            "A parameter name that contains `gamma` will be renamed internally to `weight`. Please use a different name to suppress this warning.\n",
            "A parameter name that contains `beta` will be renamed internally to `bias`. Please use a different name to suppress this warning.\n",
            "A parameter name that contains `gamma` will be renamed internally to `weight`. Please use a different name to suppress this warning.\n",
            "A parameter name that contains `beta` will be renamed internally to `bias`. Please use a different name to suppress this warning.\n",
            "A parameter name that contains `gamma` will be renamed internally to `weight`. Please use a different name to suppress this warning.\n",
            "A parameter name that contains `beta` will be renamed internally to `bias`. Please use a different name to suppress this warning.\n",
            "A parameter name that contains `gamma` will be renamed internally to `weight`. Please use a different name to suppress this warning.\n",
            "A parameter name that contains `beta` will be renamed internally to `bias`. Please use a different name to suppress this warning.\n",
            "A parameter name that contains `gamma` will be renamed internally to `weight`. Please use a different name to suppress this warning.\n",
            "A parameter name that contains `beta` will be renamed internally to `bias`. Please use a different name to suppress this warning.\n",
            "A parameter name that contains `gamma` will be renamed internally to `weight`. Please use a different name to suppress this warning.\n",
            "A parameter name that contains `beta` will be renamed internally to `bias`. Please use a different name to suppress this warning.\n",
            "A parameter name that contains `gamma` will be renamed internally to `weight`. Please use a different name to suppress this warning.\n",
            "A parameter name that contains `beta` will be renamed internally to `bias`. Please use a different name to suppress this warning.\n",
            "A parameter name that contains `gamma` will be renamed internally to `weight`. Please use a different name to suppress this warning.\n",
            "A parameter name that contains `beta` will be renamed internally to `bias`. Please use a different name to suppress this warning.\n",
            "A parameter name that contains `gamma` will be renamed internally to `weight`. Please use a different name to suppress this warning.\n",
            "A parameter name that contains `beta` will be renamed internally to `bias`. Please use a different name to suppress this warning.\n",
            "A parameter name that contains `gamma` will be renamed internally to `weight`. Please use a different name to suppress this warning.\n",
            "A parameter name that contains `beta` will be renamed internally to `bias`. Please use a different name to suppress this warning.\n",
            "A parameter name that contains `gamma` will be renamed internally to `weight`. Please use a different name to suppress this warning.\n",
            "A parameter name that contains `beta` will be renamed internally to `bias`. Please use a different name to suppress this warning.\n",
            "A parameter name that contains `gamma` will be renamed internally to `weight`. Please use a different name to suppress this warning.\n",
            "A parameter name that contains `beta` will be renamed internally to `bias`. Please use a different name to suppress this warning.\n",
            "A parameter name that contains `gamma` will be renamed internally to `weight`. Please use a different name to suppress this warning.\n",
            "A parameter name that contains `beta` will be renamed internally to `bias`. Please use a different name to suppress this warning.\n",
            "A parameter name that contains `gamma` will be renamed internally to `weight`. Please use a different name to suppress this warning.\n",
            "A parameter name that contains `beta` will be renamed internally to `bias`. Please use a different name to suppress this warning.\n",
            "A parameter name that contains `gamma` will be renamed internally to `weight`. Please use a different name to suppress this warning.\n",
            "A parameter name that contains `beta` will be renamed internally to `bias`. Please use a different name to suppress this warning.\n",
            "A parameter name that contains `gamma` will be renamed internally to `weight`. Please use a different name to suppress this warning.\n",
            "A parameter name that contains `beta` will be renamed internally to `bias`. Please use a different name to suppress this warning.\n",
            "A parameter name that contains `gamma` will be renamed internally to `weight`. Please use a different name to suppress this warning.\n",
            "A parameter name that contains `beta` will be renamed internally to `bias`. Please use a different name to suppress this warning.\n",
            "A parameter name that contains `gamma` will be renamed internally to `weight`. Please use a different name to suppress this warning.\n"
          ]
        }
      ],
      "source": [
        "from torch.nn import CrossEntropyLoss\n",
        "from torch.optim import Adam, AdamW\n",
        "\n",
        "model = BertNerModel(num_labels=6)\n",
        "model = model.to(device)\n",
        "\n",
        "optim = AdamW(model.parameters(),lr=5e-5,weight_decay=1e-2)\n",
        "loss_fn = CrossEntropyLoss(reduction='none', ignore_index=0)\n",
        "loss_fn = loss_fn.to(device)"
      ]
    },
    {
      "cell_type": "code",
      "execution_count": null,
      "metadata": {
        "colab": {
          "base_uri": "https://localhost:8080/"
        },
        "id": "u4g9i8u4CBYi",
        "outputId": "ce22e086-15d4-4bd7-ed15-c6c45e823eeb"
      },
      "outputs": [
        {
          "output_type": "stream",
          "name": "stdout",
          "text": [
            "cuda\n"
          ]
        }
      ],
      "source": [
        "import torch\n",
        "device = torch.device('cuda' if torch.cuda.is_available() else 'cpu')\n",
        "print(device)"
      ]
    },
    {
      "cell_type": "code",
      "execution_count": null,
      "metadata": {
        "id": "8sDT-k0ACBYj",
        "outputId": "ff88d336-903a-4045-e5ad-cedb44d81f13"
      },
      "outputs": [
        {
          "name": "stderr",
          "output_type": "stream",
          "text": [
            " 20%|██        | 1/5 [38:06<2:32:27, 2286.83s/it]"
          ]
        },
        {
          "name": "stdout",
          "output_type": "stream",
          "text": [
            "epoch1:  loss:0.20   train_f1_value:0.26  test_f1_value:0.53  kw_f1_value:59.86\n"
          ]
        },
        {
          "name": "stderr",
          "output_type": "stream",
          "text": [
            " 40%|████      | 2/5 [1:16:06<1:54:14, 2284.76s/it]"
          ]
        },
        {
          "name": "stdout",
          "output_type": "stream",
          "text": [
            "epoch2:  loss:0.10   train_f1_value:0.63  test_f1_value:0.67  kw_f1_value:68.35\n"
          ]
        },
        {
          "name": "stderr",
          "output_type": "stream",
          "text": [
            " 60%|██████    | 3/5 [1:53:44<1:15:53, 2276.63s/it]"
          ]
        },
        {
          "name": "stdout",
          "output_type": "stream",
          "text": [
            "epoch3:  loss:0.05   train_f1_value:0.81  test_f1_value:0.69  kw_f1_value:71.90\n"
          ]
        },
        {
          "name": "stderr",
          "output_type": "stream",
          "text": [
            " 80%|████████  | 4/5 [2:31:34<37:54, 2274.67s/it]  "
          ]
        },
        {
          "name": "stdout",
          "output_type": "stream",
          "text": [
            "epoch4:  loss:0.03   train_f1_value:0.89  test_f1_value:0.69  kw_f1_value:71.31\n"
          ]
        },
        {
          "name": "stderr",
          "output_type": "stream",
          "text": [
            "100%|██████████| 5/5 [3:09:32<00:00, 2274.52s/it]"
          ]
        },
        {
          "name": "stdout",
          "output_type": "stream",
          "text": [
            "epoch5:  loss:0.02   train_f1_value:0.93  test_f1_value:0.70  kw_f1_value:71.54\n"
          ]
        },
        {
          "name": "stderr",
          "output_type": "stream",
          "text": [
            "\n"
          ]
        }
      ],
      "source": [
        "from tqdm import tqdm\n",
        "import torch.nn.functional as F\n",
        "from sklearn.metrics import f1_score\n",
        "\n",
        "epochs = 5\n",
        "best_f1 = 0.0\n",
        "for epoch in tqdm(range(epochs)):\n",
        "    loss_value = 0.0\n",
        "    model.train()\n",
        "    label_true, label_pred = [], []\n",
        "    for i,batch in enumerate(train_dataloader):\n",
        "        optim.zero_grad()\n",
        "        input_ids, attention_masks, _, features, tags = batch\n",
        "        pred_tags = model(input_ids.to(device), attention_masks.to(device), features.to(device))\n",
        "\n",
        "        loss = loss_fn(pred_tags.permute(0,2,1),tags.to(device))\n",
        "        loss = loss.mean()\n",
        "        loss.backward()\n",
        "        optim.step()\n",
        "\n",
        "        pred_tags = F.softmax(pred_tags,dim=-1)\n",
        "        pred_tags = torch.argmax(pred_tags,dim=-1)\n",
        "\n",
        "        y_pred, y_true = calculate_f1(pred_tags, tags)\n",
        "        label_true.extend(y_true)\n",
        "        label_pred.extend(y_pred)\n",
        "\n",
        "        loss_value += loss.item()\n",
        "\n",
        "    label_train_f1 = f1_score(label_true, label_pred, average='macro')\n",
        "\n",
        "    model.eval()\n",
        "    kw_true, kw_pred = [], []\n",
        "    label_true, label_pred = [],[]\n",
        "    for i,batch in enumerate(test_dataloader):\n",
        "      input_ids, attention_masks, tokens, features, tags = batch\n",
        "      with torch.no_grad():\n",
        "          for module in model.modules():\n",
        "              if isinstance(module, nn.Dropout):\n",
        "                  module.p = 0\n",
        "                  module.train(False)\n",
        "          pred_tags = model(input_ids.to(device), attention_masks.to(device), features.to(device))\n",
        "          pred_tags = F.softmax(pred_tags,dim=-1)\n",
        "          pred_tags = torch.argmax(pred_tags,dim=-1)\n",
        "\n",
        "      y_pred, y_true = calculate_f1(pred_tags, tags)\n",
        "      label_true.extend(y_true)\n",
        "      label_pred.extend(y_pred)\n",
        "\n",
        "      # more balance evaluate\n",
        "      poss = []\n",
        "      for i in range(len(tags)):\n",
        "          pos = []\n",
        "          for j in range(len(tags[i])):\n",
        "              if tags[i][j] == 0:\n",
        "                  pos.append(j)\n",
        "          poss.append(pos)\n",
        "\n",
        "      kw_true.extend(TagConvert(tags,tokens))\n",
        "      kw_pred.extend(TagConvert(pred_tags,tokens,poss))\n",
        "\n",
        "    label_f1 = f1_score(label_true, label_pred, average='macro')\n",
        "    P, R, F1 = evaluate(kw_true, kw_pred)\n",
        "\n",
        "    if F1 > best_f1:\n",
        "        best_f1 = F1\n",
        "        torch.save(model.state_dict(),'./pretrain_pt/bert_EGG.pt')\n",
        "\n",
        "    print(\"epoch{}:  loss:{:.2f}   train_f1_value:{:.2f}  test_f1_value:{:.2f}  kw_f1_value:{:.2f}\".format(\n",
        "        epoch+1, loss_value / len(train_dataloader), label_train_f1, label_f1, F1\n",
        "    ))"
      ]
    },
    {
      "cell_type": "code",
      "execution_count": null,
      "outputs": [],
      "source": [],
      "metadata": {
        "pycharm": {
          "name": "#%%\n"
        },
        "id": "5KaklTDtCBYj"
      }
    },
    {
      "cell_type": "markdown",
      "metadata": {
        "id": "eTmD13NfCBYj"
      },
      "source": [
        "#### inference"
      ]
    },
    {
      "cell_type": "code",
      "execution_count": null,
      "metadata": {
        "id": "Z58fwV8aCBYj",
        "outputId": "6c6a01e1-baaa-48f9-e999-f8ed865a0594"
      },
      "outputs": [
        {
          "name": "stderr",
          "output_type": "stream",
          "text": [
            "A parameter name that contains `beta` will be renamed internally to `bias`. Please use a different name to suppress this warning.\n",
            "A parameter name that contains `gamma` will be renamed internally to `weight`. Please use a different name to suppress this warning.\n",
            "A parameter name that contains `beta` will be renamed internally to `bias`. Please use a different name to suppress this warning.\n",
            "A parameter name that contains `gamma` will be renamed internally to `weight`. Please use a different name to suppress this warning.\n",
            "A parameter name that contains `beta` will be renamed internally to `bias`. Please use a different name to suppress this warning.\n",
            "A parameter name that contains `gamma` will be renamed internally to `weight`. Please use a different name to suppress this warning.\n",
            "A parameter name that contains `beta` will be renamed internally to `bias`. Please use a different name to suppress this warning.\n",
            "A parameter name that contains `gamma` will be renamed internally to `weight`. Please use a different name to suppress this warning.\n",
            "A parameter name that contains `beta` will be renamed internally to `bias`. Please use a different name to suppress this warning.\n",
            "A parameter name that contains `gamma` will be renamed internally to `weight`. Please use a different name to suppress this warning.\n",
            "A parameter name that contains `beta` will be renamed internally to `bias`. Please use a different name to suppress this warning.\n",
            "A parameter name that contains `gamma` will be renamed internally to `weight`. Please use a different name to suppress this warning.\n",
            "A parameter name that contains `beta` will be renamed internally to `bias`. Please use a different name to suppress this warning.\n",
            "A parameter name that contains `gamma` will be renamed internally to `weight`. Please use a different name to suppress this warning.\n",
            "A parameter name that contains `beta` will be renamed internally to `bias`. Please use a different name to suppress this warning.\n",
            "A parameter name that contains `gamma` will be renamed internally to `weight`. Please use a different name to suppress this warning.\n",
            "A parameter name that contains `beta` will be renamed internally to `bias`. Please use a different name to suppress this warning.\n",
            "A parameter name that contains `gamma` will be renamed internally to `weight`. Please use a different name to suppress this warning.\n",
            "A parameter name that contains `beta` will be renamed internally to `bias`. Please use a different name to suppress this warning.\n",
            "A parameter name that contains `gamma` will be renamed internally to `weight`. Please use a different name to suppress this warning.\n",
            "A parameter name that contains `beta` will be renamed internally to `bias`. Please use a different name to suppress this warning.\n",
            "A parameter name that contains `gamma` will be renamed internally to `weight`. Please use a different name to suppress this warning.\n",
            "A parameter name that contains `beta` will be renamed internally to `bias`. Please use a different name to suppress this warning.\n",
            "A parameter name that contains `gamma` will be renamed internally to `weight`. Please use a different name to suppress this warning.\n",
            "A parameter name that contains `beta` will be renamed internally to `bias`. Please use a different name to suppress this warning.\n",
            "A parameter name that contains `gamma` will be renamed internally to `weight`. Please use a different name to suppress this warning.\n",
            "A parameter name that contains `beta` will be renamed internally to `bias`. Please use a different name to suppress this warning.\n",
            "A parameter name that contains `gamma` will be renamed internally to `weight`. Please use a different name to suppress this warning.\n",
            "A parameter name that contains `beta` will be renamed internally to `bias`. Please use a different name to suppress this warning.\n",
            "A parameter name that contains `gamma` will be renamed internally to `weight`. Please use a different name to suppress this warning.\n",
            "A parameter name that contains `beta` will be renamed internally to `bias`. Please use a different name to suppress this warning.\n",
            "A parameter name that contains `gamma` will be renamed internally to `weight`. Please use a different name to suppress this warning.\n",
            "A parameter name that contains `beta` will be renamed internally to `bias`. Please use a different name to suppress this warning.\n",
            "A parameter name that contains `gamma` will be renamed internally to `weight`. Please use a different name to suppress this warning.\n",
            "A parameter name that contains `beta` will be renamed internally to `bias`. Please use a different name to suppress this warning.\n",
            "A parameter name that contains `gamma` will be renamed internally to `weight`. Please use a different name to suppress this warning.\n",
            "A parameter name that contains `beta` will be renamed internally to `bias`. Please use a different name to suppress this warning.\n",
            "A parameter name that contains `gamma` will be renamed internally to `weight`. Please use a different name to suppress this warning.\n",
            "A parameter name that contains `beta` will be renamed internally to `bias`. Please use a different name to suppress this warning.\n",
            "A parameter name that contains `gamma` will be renamed internally to `weight`. Please use a different name to suppress this warning.\n",
            "A parameter name that contains `beta` will be renamed internally to `bias`. Please use a different name to suppress this warning.\n",
            "A parameter name that contains `gamma` will be renamed internally to `weight`. Please use a different name to suppress this warning.\n",
            "A parameter name that contains `beta` will be renamed internally to `bias`. Please use a different name to suppress this warning.\n",
            "A parameter name that contains `gamma` will be renamed internally to `weight`. Please use a different name to suppress this warning.\n",
            "A parameter name that contains `beta` will be renamed internally to `bias`. Please use a different name to suppress this warning.\n",
            "A parameter name that contains `gamma` will be renamed internally to `weight`. Please use a different name to suppress this warning.\n",
            "A parameter name that contains `beta` will be renamed internally to `bias`. Please use a different name to suppress this warning.\n",
            "A parameter name that contains `gamma` will be renamed internally to `weight`. Please use a different name to suppress this warning.\n",
            "A parameter name that contains `beta` will be renamed internally to `bias`. Please use a different name to suppress this warning.\n",
            "A parameter name that contains `gamma` will be renamed internally to `weight`. Please use a different name to suppress this warning.\n",
            "A parameter name that contains `beta` will be renamed internally to `bias`. Please use a different name to suppress this warning.\n",
            "A parameter name that contains `gamma` will be renamed internally to `weight`. Please use a different name to suppress this warning.\n"
          ]
        }
      ],
      "source": [
        "model = BertNerModel(num_labels=6)\n",
        "model.load_state_dict(torch.load('./pretrain_pt/bert_EGG.pt'))\n",
        "model = model.to(device)"
      ]
    },
    {
      "cell_type": "code",
      "execution_count": null,
      "outputs": [],
      "source": [],
      "metadata": {
        "pycharm": {
          "name": "#%%\n"
        },
        "id": "_-rXkDbMCBYj"
      }
    },
    {
      "cell_type": "code",
      "execution_count": null,
      "metadata": {
        "id": "MWagwga3CBYk"
      },
      "outputs": [],
      "source": [
        "from tqdm import tqdm\n",
        "import torch.nn.functional as F\n",
        "from sklearn.metrics import f1_score\n",
        "\n",
        "model.eval()\n",
        "kw_true, kw_pred = [], []\n",
        "label_true, label_pred = [],[]\n",
        "for i,batch in enumerate(test_dataloader):\n",
        "    input_ids, attention_masks, tokens, extra_features, tags = batch\n",
        "    with torch.no_grad():\n",
        "        for module in model.modules():\n",
        "            if isinstance(module, nn.Dropout):\n",
        "                module.p = 0\n",
        "                module.train(False)\n",
        "        #pred_tags = model(input_ids.to(device), attention_masks.to(device))\n",
        "        pred_tags = model(input_ids.to(device), attention_masks.to(device), extra_features.to(device))\n",
        "        pred_tags = F.softmax(pred_tags,dim=-1)\n",
        "        pred_tags = torch.argmax(pred_tags,dim=-1)\n",
        "\n",
        "    y_pred, y_true = calculate_f1(pred_tags, tags)\n",
        "    label_true.extend(y_true)\n",
        "    label_pred.extend(y_pred)\n",
        "\n",
        "    # more balance evaluate\n",
        "    poss = []\n",
        "    for i in range(len(tags)):\n",
        "        pos = []\n",
        "        for j in range(len(tags[i])):\n",
        "            if tags[i][j] == 0:\n",
        "                pos.append(j)\n",
        "        poss.append(pos)\n",
        "\n",
        "    kw_true.extend(TagConvert(tags,tokens))\n",
        "    kw_pred.extend(TagConvert(pred_tags,tokens,poss))\n",
        "\n",
        "label_f1 = f1_score(label_true, label_pred, average='macro')\n",
        "P, R, F1 = evaluate(kw_true, kw_pred)"
      ]
    },
    {
      "cell_type": "code",
      "execution_count": null,
      "metadata": {
        "id": "wHErJVLWCBYk",
        "outputId": "a32f31fa-861f-4175-d477-d5fd9119c62c"
      },
      "outputs": [
        {
          "name": "stdout",
          "output_type": "stream",
          "text": [
            "70.43\n",
            "73.43\n",
            "71.9\n"
          ]
        }
      ],
      "source": [
        "print(P)\n",
        "print(R)\n",
        "print(F1)"
      ]
    },
    {
      "cell_type": "code",
      "source": [
        "#######################################BERT+EEG组合"
      ],
      "metadata": {
        "id": "U6iXeeUcEVc6"
      },
      "execution_count": null,
      "outputs": []
    },
    {
      "cell_type": "code",
      "source": [
        "from torch.nn import CrossEntropyLoss\n",
        "from torch.optim import AdamW\n",
        "from tqdm import tqdm\n",
        "import torch.nn.functional as F\n",
        "from sklearn.metrics import f1_score\n",
        "import torch.nn as nn\n",
        "import torch\n",
        "\n",
        "# 定义模型类\n",
        "class BertNerModel(nn.Module):\n",
        "    def __init__(self, num_labels, eeg_combo_dim):\n",
        "        super(BertNerModel, self).__init__()\n",
        "        self.bert = BertModel.from_pretrained(weight)\n",
        "        self.dropout = nn.Dropout(0.1)\n",
        "        self.classifier = nn.Linear(768 + eeg_combo_dim, num_labels)\n",
        "\n",
        "    def forward(self, input_ids, attention_mask, extra_features, eeg_combo):\n",
        "        outputs = self.bert(input_ids, attention_mask=attention_mask)\n",
        "        bert_outputs = self.dropout(outputs[0])\n",
        "\n",
        "        # 动态选择 EEG 特征\n",
        "        if eeg_combo == 'EEG1':\n",
        "            eeg_features = extra_features[:, :, -8:-7]\n",
        "        elif eeg_combo == 'EEG2':\n",
        "            eeg_features = extra_features[:, :, -7:-6]\n",
        "        elif eeg_combo == 'EEG3':\n",
        "            eeg_features = extra_features[:, :, -6:-5]\n",
        "        elif eeg_combo == 'EEG4':\n",
        "            eeg_features = extra_features[:, :, -5:-4]\n",
        "        elif eeg_combo == 'EEG5':\n",
        "            eeg_features = extra_features[:, :, -4:-3]\n",
        "        elif eeg_combo == 'EEG6':\n",
        "            eeg_features = extra_features[:, :, -3:-2]\n",
        "        elif eeg_combo == 'EEG7':\n",
        "            eeg_features = extra_features[:, :, -2:-1]\n",
        "        elif eeg_combo == 'EEG8':\n",
        "            eeg_features = extra_features[:, :, -1:]\n",
        "        elif eeg_combo == 'EEG1.2':\n",
        "            eeg_features = extra_features[:, :, -8:-6]\n",
        "        elif eeg_combo == 'EEG2.3':\n",
        "            eeg_features = extra_features[:, :, -7:-5]\n",
        "        elif eeg_combo == 'EEG3.4':\n",
        "            eeg_features = extra_features[:, :, -6:-4]\n",
        "        elif eeg_combo == 'EEG4.5':\n",
        "            eeg_features = extra_features[:, :, -5:-3]\n",
        "        elif eeg_combo == 'EEG5.6':\n",
        "            eeg_features = extra_features[:, :, -4:-2]\n",
        "        elif eeg_combo == 'EEG6.7':\n",
        "            eeg_features = extra_features[:, :, -3:-1]\n",
        "        elif eeg_combo == 'EEG7.8':\n",
        "            eeg_features = extra_features[:, :, -2:]\n",
        "\n",
        "        outputs = torch.concat((bert_outputs, eeg_features), -1)\n",
        "        outputs = self.classifier(outputs)\n",
        "        return outputs\n",
        "\n",
        "# 训练和评估函数\n",
        "def train_and_evaluate(train_dataloader, test_dataloader, eeg_combo, num_labels=6, epochs=5, lr=5e-5):\n",
        "    eeg_combo_dim = len(eeg_combo.split('.'))  # EEG 组合维度\n",
        "\n",
        "    model = BertNerModel(num_labels=num_labels, eeg_combo_dim=eeg_combo_dim)\n",
        "    model = model.to(device)\n",
        "\n",
        "    optim = AdamW(model.parameters(), lr=lr, weight_decay=1e-2)\n",
        "    loss_fn = CrossEntropyLoss(reduction='none', ignore_index=0).to(device)\n",
        "\n",
        "    best_f1 = 0.0\n",
        "\n",
        "    # Training loop\n",
        "    for epoch in tqdm(range(epochs)):\n",
        "        loss_value = 0.0\n",
        "        model.train()\n",
        "        label_true, label_pred = [], []\n",
        "        for i, batch in enumerate(train_dataloader):\n",
        "            optim.zero_grad()\n",
        "            input_ids, attention_masks, _, features, tags = batch\n",
        "            pred_tags = model(input_ids.to(device), attention_masks.to(device), features.to(device), eeg_combo)\n",
        "\n",
        "            loss = loss_fn(pred_tags.permute(0, 2, 1), tags.to(device))\n",
        "            loss = loss.mean()\n",
        "            loss.backward()\n",
        "            optim.step()\n",
        "\n",
        "            pred_tags = F.softmax(pred_tags, dim=-1)\n",
        "            pred_tags = torch.argmax(pred_tags, dim=-1)\n",
        "\n",
        "            y_pred, y_true = calculate_f1(pred_tags, tags)\n",
        "            label_true.extend(y_true)\n",
        "            label_pred.extend(y_pred)\n",
        "\n",
        "            loss_value += loss.item()\n",
        "\n",
        "        label_train_f1 = f1_score(label_true, label_pred, average='macro')\n",
        "\n",
        "        # Evaluation loop\n",
        "        model.eval()\n",
        "        kw_true, kw_pred = [], []\n",
        "        label_true, label_pred = [], []\n",
        "        for i, batch in enumerate(test_dataloader):\n",
        "            input_ids, attention_masks, tokens, features, tags = batch\n",
        "            with torch.no_grad():\n",
        "                for module in model.modules():\n",
        "                    if isinstance(module, nn.Dropout):\n",
        "                        module.p = 0\n",
        "                        module.train(False)\n",
        "                pred_tags = model(input_ids.to(device), attention_masks.to(device), features.to(device), eeg_combo)\n",
        "                pred_tags = F.softmax(pred_tags, dim=-1)\n",
        "                pred_tags = torch.argmax(pred_tags, dim=-1)\n",
        "\n",
        "            y_pred, y_true = calculate_f1(pred_tags, tags)\n",
        "            label_true.extend(y_true)\n",
        "            label_pred.extend(y_pred)\n",
        "\n",
        "            poss = []\n",
        "            for i in range(len(tags)):\n",
        "                pos = []\n",
        "                for j in range(len(tags[i])):\n",
        "                    if tags[i][j] == 0:\n",
        "                        pos.append(j)\n",
        "                poss.append(pos)\n",
        "\n",
        "            kw_true.extend(TagConvert(tags, tokens))\n",
        "            kw_pred.extend(TagConvert(pred_tags, tokens, poss))\n",
        "\n",
        "        label_f1 = f1_score(label_true, label_pred, average='macro')\n",
        "        P, R, F1 = evaluate(kw_true, kw_pred)\n",
        "\n",
        "        # Save the best model for the given EEG combination\n",
        "        if F1 > best_f1:\n",
        "            best_f1 = F1\n",
        "            torch.save(model.state_dict(), f'/content/drive/MyDrive/ner/pretrain_pt/bert_{eeg_combo}.pt')\n",
        "\n",
        "        print(f\"epoch {epoch+1}: loss: {loss_value / len(train_dataloader):.2f} train_f1: {label_train_f1:.2f} test_f1: {label_f1:.2f} kw_f1: {F1:.2f}\")\n",
        "\n",
        "    return P, R, F1\n",
        "\n",
        "# 使用不同的 EEG 组合进行训练和评估\n",
        "eeg_combos = ['EEG1', 'EEG2', 'EEG3', 'EEG4', 'EEG5', 'EEG6', 'EEG7', 'EEG8',\n",
        "              'EEG1.2', 'EEG2.3', 'EEG3.4', 'EEG4.5', 'EEG5.6', 'EEG6.7', 'EEG7.8']\n",
        "\n",
        "for eeg_combo in eeg_combos:\n",
        "    print(f\"Training with EEG combo: {eeg_combo}\")\n",
        "    P, R, F1 = train_and_evaluate(train_dataloader, test_dataloader, eeg_combo)\n",
        "    print(f\"EEG combo: {eeg_combo} - Precision: {P:.2f}, Recall: {R:.2f}, F1 Score: {F1:.2f}\")\n"
      ],
      "metadata": {
        "colab": {
          "base_uri": "https://localhost:8080/"
        },
        "id": "sF0LUIpeETHz",
        "outputId": "dbcf8381-832a-4f74-db38-ca2c5e7ede68"
      },
      "execution_count": null,
      "outputs": [
        {
          "output_type": "stream",
          "name": "stdout",
          "text": [
            "Training with EEG combo: EEG1\n"
          ]
        },
        {
          "output_type": "stream",
          "name": "stderr",
          "text": [
            " 20%|██        | 1/5 [01:20<05:21, 80.45s/it]"
          ]
        },
        {
          "output_type": "stream",
          "name": "stdout",
          "text": [
            "epoch 1: loss: 0.21 train_f1: 0.25 test_f1: 0.45 kw_f1: 56.86\n"
          ]
        },
        {
          "output_type": "stream",
          "name": "stderr",
          "text": [
            "\r 40%|████      | 2/5 [02:40<04:01, 80.43s/it]"
          ]
        },
        {
          "output_type": "stream",
          "name": "stdout",
          "text": [
            "epoch 2: loss: 0.11 train_f1: 0.60 test_f1: 0.63 kw_f1: 67.64\n"
          ]
        },
        {
          "output_type": "stream",
          "name": "stderr",
          "text": [
            "\r 60%|██████    | 3/5 [04:01<02:40, 80.40s/it]"
          ]
        },
        {
          "output_type": "stream",
          "name": "stdout",
          "text": [
            "epoch 3: loss: 0.06 train_f1: 0.79 test_f1: 0.69 kw_f1: 70.84\n"
          ]
        },
        {
          "output_type": "stream",
          "name": "stderr",
          "text": [
            "\r 80%|████████  | 4/5 [05:20<01:19, 79.90s/it]"
          ]
        },
        {
          "output_type": "stream",
          "name": "stdout",
          "text": [
            "epoch 4: loss: 0.03 train_f1: 0.89 test_f1: 0.69 kw_f1: 70.35\n"
          ]
        },
        {
          "output_type": "stream",
          "name": "stderr",
          "text": [
            "100%|██████████| 5/5 [06:40<00:00, 80.02s/it]"
          ]
        },
        {
          "output_type": "stream",
          "name": "stdout",
          "text": [
            "epoch 5: loss: 0.02 train_f1: 0.92 test_f1: 0.70 kw_f1: 71.06\n",
            "EEG combo: EEG1 - Precision: 72.01, Recall: 70.14, F1 Score: 71.06\n",
            "Training with EEG combo: EEG2\n"
          ]
        },
        {
          "output_type": "stream",
          "name": "stderr",
          "text": [
            "\n",
            " 20%|██        | 1/5 [01:21<05:25, 81.41s/it]"
          ]
        },
        {
          "output_type": "stream",
          "name": "stdout",
          "text": [
            "epoch 1: loss: 0.19 train_f1: 0.27 test_f1: 0.47 kw_f1: 56.59\n"
          ]
        },
        {
          "output_type": "stream",
          "name": "stderr",
          "text": [
            "\r 40%|████      | 2/5 [02:41<04:01, 80.58s/it]"
          ]
        },
        {
          "output_type": "stream",
          "name": "stdout",
          "text": [
            "epoch 2: loss: 0.10 train_f1: 0.64 test_f1: 0.67 kw_f1: 69.43\n"
          ]
        },
        {
          "output_type": "stream",
          "name": "stderr",
          "text": [
            "\r 60%|██████    | 3/5 [04:00<02:40, 80.08s/it]"
          ]
        },
        {
          "output_type": "stream",
          "name": "stdout",
          "text": [
            "epoch 3: loss: 0.05 train_f1: 0.81 test_f1: 0.69 kw_f1: 70.49\n"
          ]
        },
        {
          "output_type": "stream",
          "name": "stderr",
          "text": [
            "\r 80%|████████  | 4/5 [05:19<01:19, 79.46s/it]"
          ]
        },
        {
          "output_type": "stream",
          "name": "stdout",
          "text": [
            "epoch 4: loss: 0.03 train_f1: 0.89 test_f1: 0.70 kw_f1: 70.46\n"
          ]
        },
        {
          "output_type": "stream",
          "name": "stderr",
          "text": [
            "100%|██████████| 5/5 [06:37<00:00, 79.55s/it]"
          ]
        },
        {
          "output_type": "stream",
          "name": "stdout",
          "text": [
            "epoch 5: loss: 0.02 train_f1: 0.93 test_f1: 0.69 kw_f1: 70.25\n",
            "EEG combo: EEG2 - Precision: 73.39, Recall: 67.38, F1 Score: 70.25\n",
            "Training with EEG combo: EEG3\n"
          ]
        },
        {
          "output_type": "stream",
          "name": "stderr",
          "text": [
            "\n",
            " 20%|██        | 1/5 [01:20<05:21, 80.45s/it]"
          ]
        },
        {
          "output_type": "stream",
          "name": "stdout",
          "text": [
            "epoch 1: loss: 0.20 train_f1: 0.27 test_f1: 0.51 kw_f1: 57.46\n"
          ]
        },
        {
          "output_type": "stream",
          "name": "stderr",
          "text": [
            "\r 40%|████      | 2/5 [02:39<03:59, 79.92s/it]"
          ]
        },
        {
          "output_type": "stream",
          "name": "stdout",
          "text": [
            "epoch 2: loss: 0.10 train_f1: 0.64 test_f1: 0.67 kw_f1: 67.77\n"
          ]
        },
        {
          "output_type": "stream",
          "name": "stderr",
          "text": [
            "\r 60%|██████    | 3/5 [03:59<02:39, 79.68s/it]"
          ]
        },
        {
          "output_type": "stream",
          "name": "stdout",
          "text": [
            "epoch 3: loss: 0.05 train_f1: 0.82 test_f1: 0.69 kw_f1: 70.83\n"
          ]
        },
        {
          "output_type": "stream",
          "name": "stderr",
          "text": [
            "\r 80%|████████  | 4/5 [05:17<01:19, 79.22s/it]"
          ]
        },
        {
          "output_type": "stream",
          "name": "stdout",
          "text": [
            "epoch 4: loss: 0.03 train_f1: 0.89 test_f1: 0.70 kw_f1: 70.78\n"
          ]
        },
        {
          "output_type": "stream",
          "name": "stderr",
          "text": [
            "100%|██████████| 5/5 [06:37<00:00, 79.49s/it]"
          ]
        },
        {
          "output_type": "stream",
          "name": "stdout",
          "text": [
            "epoch 5: loss: 0.02 train_f1: 0.93 test_f1: 0.72 kw_f1: 72.38\n",
            "EEG combo: EEG3 - Precision: 74.55, Recall: 70.33, F1 Score: 72.38\n",
            "Training with EEG combo: EEG4\n"
          ]
        },
        {
          "output_type": "stream",
          "name": "stderr",
          "text": [
            "\n",
            " 20%|██        | 1/5 [01:20<05:20, 80.02s/it]"
          ]
        },
        {
          "output_type": "stream",
          "name": "stdout",
          "text": [
            "epoch 1: loss: 0.20 train_f1: 0.26 test_f1: 0.47 kw_f1: 57.79\n"
          ]
        },
        {
          "output_type": "stream",
          "name": "stderr",
          "text": [
            "\r 40%|████      | 2/5 [02:39<03:59, 79.78s/it]"
          ]
        },
        {
          "output_type": "stream",
          "name": "stdout",
          "text": [
            "epoch 2: loss: 0.11 train_f1: 0.60 test_f1: 0.67 kw_f1: 69.57\n"
          ]
        },
        {
          "output_type": "stream",
          "name": "stderr",
          "text": [
            "\r 60%|██████    | 3/5 [03:59<02:39, 79.94s/it]"
          ]
        },
        {
          "output_type": "stream",
          "name": "stdout",
          "text": [
            "epoch 3: loss: 0.06 train_f1: 0.80 test_f1: 0.69 kw_f1: 70.92\n"
          ]
        },
        {
          "output_type": "stream",
          "name": "stderr",
          "text": [
            "\r 80%|████████  | 4/5 [05:18<01:19, 79.42s/it]"
          ]
        },
        {
          "output_type": "stream",
          "name": "stdout",
          "text": [
            "epoch 4: loss: 0.03 train_f1: 0.88 test_f1: 0.70 kw_f1: 70.47\n"
          ]
        },
        {
          "output_type": "stream",
          "name": "stderr",
          "text": [
            "100%|██████████| 5/5 [06:37<00:00, 79.42s/it]"
          ]
        },
        {
          "output_type": "stream",
          "name": "stdout",
          "text": [
            "epoch 5: loss: 0.02 train_f1: 0.92 test_f1: 0.69 kw_f1: 70.02\n",
            "EEG combo: EEG4 - Precision: 73.02, Recall: 67.26, F1 Score: 70.02\n",
            "Training with EEG combo: EEG5\n"
          ]
        },
        {
          "output_type": "stream",
          "name": "stderr",
          "text": [
            "\n",
            " 20%|██        | 1/5 [01:20<05:20, 80.13s/it]"
          ]
        },
        {
          "output_type": "stream",
          "name": "stdout",
          "text": [
            "epoch 1: loss: 0.20 train_f1: 0.28 test_f1: 0.52 kw_f1: 61.51\n"
          ]
        },
        {
          "output_type": "stream",
          "name": "stderr",
          "text": [
            "\r 40%|████      | 2/5 [02:40<04:00, 80.11s/it]"
          ]
        },
        {
          "output_type": "stream",
          "name": "stdout",
          "text": [
            "epoch 2: loss: 0.09 train_f1: 0.65 test_f1: 0.68 kw_f1: 68.16\n"
          ]
        },
        {
          "output_type": "stream",
          "name": "stderr",
          "text": [
            "\r 60%|██████    | 3/5 [04:00<02:40, 80.05s/it]"
          ]
        },
        {
          "output_type": "stream",
          "name": "stdout",
          "text": [
            "epoch 3: loss: 0.05 train_f1: 0.83 test_f1: 0.71 kw_f1: 71.57\n"
          ]
        },
        {
          "output_type": "stream",
          "name": "stderr",
          "text": [
            "\r 80%|████████  | 4/5 [05:20<01:20, 80.09s/it]"
          ]
        },
        {
          "output_type": "stream",
          "name": "stdout",
          "text": [
            "epoch 4: loss: 0.03 train_f1: 0.90 test_f1: 0.71 kw_f1: 71.98\n"
          ]
        },
        {
          "output_type": "stream",
          "name": "stderr",
          "text": [
            "100%|██████████| 5/5 [06:40<00:00, 80.01s/it]"
          ]
        },
        {
          "output_type": "stream",
          "name": "stdout",
          "text": [
            "epoch 5: loss: 0.02 train_f1: 0.93 test_f1: 0.70 kw_f1: 71.50\n",
            "EEG combo: EEG5 - Precision: 72.13, Recall: 70.87, F1 Score: 71.50\n",
            "Training with EEG combo: EEG6\n"
          ]
        },
        {
          "output_type": "stream",
          "name": "stderr",
          "text": [
            "\n",
            " 20%|██        | 1/5 [01:20<05:21, 80.30s/it]"
          ]
        },
        {
          "output_type": "stream",
          "name": "stdout",
          "text": [
            "epoch 1: loss: 0.20 train_f1: 0.27 test_f1: 0.52 kw_f1: 61.36\n"
          ]
        },
        {
          "output_type": "stream",
          "name": "stderr",
          "text": [
            "\r 40%|████      | 2/5 [02:40<04:00, 80.17s/it]"
          ]
        },
        {
          "output_type": "stream",
          "name": "stdout",
          "text": [
            "epoch 2: loss: 0.10 train_f1: 0.62 test_f1: 0.66 kw_f1: 68.59\n"
          ]
        },
        {
          "output_type": "stream",
          "name": "stderr",
          "text": [
            "\r 60%|██████    | 3/5 [04:00<02:40, 80.08s/it]"
          ]
        },
        {
          "output_type": "stream",
          "name": "stdout",
          "text": [
            "epoch 3: loss: 0.05 train_f1: 0.81 test_f1: 0.65 kw_f1: 69.58\n"
          ]
        },
        {
          "output_type": "stream",
          "name": "stderr",
          "text": [
            "\r 80%|████████  | 4/5 [05:20<01:20, 80.10s/it]"
          ]
        },
        {
          "output_type": "stream",
          "name": "stdout",
          "text": [
            "epoch 4: loss: 0.03 train_f1: 0.89 test_f1: 0.70 kw_f1: 71.20\n"
          ]
        },
        {
          "output_type": "stream",
          "name": "stderr",
          "text": [
            "100%|██████████| 5/5 [06:40<00:00, 80.08s/it]"
          ]
        },
        {
          "output_type": "stream",
          "name": "stdout",
          "text": [
            "epoch 5: loss: 0.02 train_f1: 0.92 test_f1: 0.71 kw_f1: 72.02\n",
            "EEG combo: EEG6 - Precision: 73.69, Recall: 70.42, F1 Score: 72.02\n",
            "Training with EEG combo: EEG7\n"
          ]
        },
        {
          "output_type": "stream",
          "name": "stderr",
          "text": [
            "\n",
            " 20%|██        | 1/5 [01:20<05:21, 80.44s/it]"
          ]
        },
        {
          "output_type": "stream",
          "name": "stdout",
          "text": [
            "epoch 1: loss: 0.19 train_f1: 0.32 test_f1: 0.61 kw_f1: 64.59\n"
          ]
        },
        {
          "output_type": "stream",
          "name": "stderr",
          "text": [
            "\r 40%|████      | 2/5 [02:40<04:00, 80.26s/it]"
          ]
        },
        {
          "output_type": "stream",
          "name": "stdout",
          "text": [
            "epoch 2: loss: 0.09 train_f1: 0.69 test_f1: 0.67 kw_f1: 70.05\n"
          ]
        },
        {
          "output_type": "stream",
          "name": "stderr",
          "text": [
            "\r 60%|██████    | 3/5 [04:00<02:40, 80.25s/it]"
          ]
        },
        {
          "output_type": "stream",
          "name": "stdout",
          "text": [
            "epoch 3: loss: 0.05 train_f1: 0.84 test_f1: 0.71 kw_f1: 71.77\n"
          ]
        },
        {
          "output_type": "stream",
          "name": "stderr",
          "text": [
            "\r 80%|████████  | 4/5 [05:20<01:20, 80.20s/it]"
          ]
        },
        {
          "output_type": "stream",
          "name": "stdout",
          "text": [
            "epoch 4: loss: 0.03 train_f1: 0.91 test_f1: 0.71 kw_f1: 72.41\n"
          ]
        },
        {
          "output_type": "stream",
          "name": "stderr",
          "text": [
            "100%|██████████| 5/5 [06:39<00:00, 79.97s/it]"
          ]
        },
        {
          "output_type": "stream",
          "name": "stdout",
          "text": [
            "epoch 5: loss: 0.02 train_f1: 0.93 test_f1: 0.72 kw_f1: 71.50\n",
            "EEG combo: EEG7 - Precision: 74.66, Recall: 68.61, F1 Score: 71.50\n",
            "Training with EEG combo: EEG8\n"
          ]
        },
        {
          "output_type": "stream",
          "name": "stderr",
          "text": [
            "\n",
            " 20%|██        | 1/5 [01:20<05:21, 80.27s/it]"
          ]
        },
        {
          "output_type": "stream",
          "name": "stdout",
          "text": [
            "epoch 1: loss: 0.21 train_f1: 0.25 test_f1: 0.47 kw_f1: 57.83\n"
          ]
        },
        {
          "output_type": "stream",
          "name": "stderr",
          "text": [
            "\r 40%|████      | 2/5 [02:39<03:59, 79.87s/it]"
          ]
        },
        {
          "output_type": "stream",
          "name": "stdout",
          "text": [
            "epoch 2: loss: 0.11 train_f1: 0.60 test_f1: 0.64 kw_f1: 68.75\n"
          ]
        },
        {
          "output_type": "stream",
          "name": "stderr",
          "text": [
            "\r 60%|██████    | 3/5 [03:58<02:38, 79.37s/it]"
          ]
        },
        {
          "output_type": "stream",
          "name": "stdout",
          "text": [
            "epoch 3: loss: 0.06 train_f1: 0.80 test_f1: 0.67 kw_f1: 68.17\n"
          ]
        },
        {
          "output_type": "stream",
          "name": "stderr",
          "text": [
            "\r 80%|████████  | 4/5 [05:18<01:19, 79.63s/it]"
          ]
        },
        {
          "output_type": "stream",
          "name": "stdout",
          "text": [
            "epoch 4: loss: 0.03 train_f1: 0.88 test_f1: 0.71 kw_f1: 71.57\n"
          ]
        },
        {
          "output_type": "stream",
          "name": "stderr",
          "text": [
            "100%|██████████| 5/5 [06:37<00:00, 79.52s/it]"
          ]
        },
        {
          "output_type": "stream",
          "name": "stdout",
          "text": [
            "epoch 5: loss: 0.02 train_f1: 0.93 test_f1: 0.70 kw_f1: 70.92\n",
            "EEG combo: EEG8 - Precision: 71.42, Recall: 70.42, F1 Score: 70.92\n",
            "Training with EEG combo: EEG1.2\n"
          ]
        },
        {
          "output_type": "stream",
          "name": "stderr",
          "text": [
            "\n",
            " 20%|██        | 1/5 [01:20<05:21, 80.39s/it]"
          ]
        },
        {
          "output_type": "stream",
          "name": "stdout",
          "text": [
            "epoch 1: loss: 0.20 train_f1: 0.27 test_f1: 0.49 kw_f1: 60.04\n"
          ]
        },
        {
          "output_type": "stream",
          "name": "stderr",
          "text": [
            "\r 40%|████      | 2/5 [02:40<04:00, 80.30s/it]"
          ]
        },
        {
          "output_type": "stream",
          "name": "stdout",
          "text": [
            "epoch 2: loss: 0.10 train_f1: 0.64 test_f1: 0.69 kw_f1: 67.78\n"
          ]
        },
        {
          "output_type": "stream",
          "name": "stderr",
          "text": [
            "\r 60%|██████    | 3/5 [04:01<02:41, 80.56s/it]"
          ]
        },
        {
          "output_type": "stream",
          "name": "stdout",
          "text": [
            "epoch 3: loss: 0.05 train_f1: 0.81 test_f1: 0.71 kw_f1: 71.77\n"
          ]
        },
        {
          "output_type": "stream",
          "name": "stderr",
          "text": [
            "\r 80%|████████  | 4/5 [05:21<01:20, 80.42s/it]"
          ]
        },
        {
          "output_type": "stream",
          "name": "stdout",
          "text": [
            "epoch 4: loss: 0.03 train_f1: 0.89 test_f1: 0.71 kw_f1: 71.93\n"
          ]
        },
        {
          "output_type": "stream",
          "name": "stderr",
          "text": [
            "100%|██████████| 5/5 [06:41<00:00, 80.37s/it]"
          ]
        },
        {
          "output_type": "stream",
          "name": "stdout",
          "text": [
            "epoch 5: loss: 0.02 train_f1: 0.93 test_f1: 0.72 kw_f1: 72.50\n",
            "EEG combo: EEG1.2 - Precision: 73.98, Recall: 71.08, F1 Score: 72.50\n",
            "Training with EEG combo: EEG2.3\n"
          ]
        },
        {
          "output_type": "stream",
          "name": "stderr",
          "text": [
            "\n",
            " 20%|██        | 1/5 [01:20<05:20, 80.01s/it]"
          ]
        },
        {
          "output_type": "stream",
          "name": "stdout",
          "text": [
            "epoch 1: loss: 0.19 train_f1: 0.31 test_f1: 0.59 kw_f1: 62.08\n"
          ]
        },
        {
          "output_type": "stream",
          "name": "stderr",
          "text": [
            "\r 40%|████      | 2/5 [02:39<03:59, 79.79s/it]"
          ]
        },
        {
          "output_type": "stream",
          "name": "stdout",
          "text": [
            "epoch 2: loss: 0.09 train_f1: 0.68 test_f1: 0.68 kw_f1: 69.90\n"
          ]
        },
        {
          "output_type": "stream",
          "name": "stderr",
          "text": [
            "\r 60%|██████    | 3/5 [03:59<02:39, 79.66s/it]"
          ]
        },
        {
          "output_type": "stream",
          "name": "stdout",
          "text": [
            "epoch 3: loss: 0.05 train_f1: 0.83 test_f1: 0.69 kw_f1: 71.09\n"
          ]
        },
        {
          "output_type": "stream",
          "name": "stderr",
          "text": [
            "\r 80%|████████  | 4/5 [05:18<01:19, 79.61s/it]"
          ]
        },
        {
          "output_type": "stream",
          "name": "stdout",
          "text": [
            "epoch 4: loss: 0.03 train_f1: 0.90 test_f1: 0.70 kw_f1: 72.10\n"
          ]
        },
        {
          "output_type": "stream",
          "name": "stderr",
          "text": [
            "100%|██████████| 5/5 [06:37<00:00, 79.41s/it]"
          ]
        },
        {
          "output_type": "stream",
          "name": "stdout",
          "text": [
            "epoch 5: loss: 0.02 train_f1: 0.93 test_f1: 0.71 kw_f1: 71.55\n",
            "EEG combo: EEG2.3 - Precision: 71.85, Recall: 71.26, F1 Score: 71.55\n",
            "Training with EEG combo: EEG3.4\n"
          ]
        },
        {
          "output_type": "stream",
          "name": "stderr",
          "text": [
            "\n",
            " 20%|██        | 1/5 [01:20<05:20, 80.01s/it]"
          ]
        },
        {
          "output_type": "stream",
          "name": "stdout",
          "text": [
            "epoch 1: loss: 0.19 train_f1: 0.30 test_f1: 0.55 kw_f1: 60.05\n"
          ]
        },
        {
          "output_type": "stream",
          "name": "stderr",
          "text": [
            "\r 40%|████      | 2/5 [02:39<03:59, 79.72s/it]"
          ]
        },
        {
          "output_type": "stream",
          "name": "stdout",
          "text": [
            "epoch 2: loss: 0.09 train_f1: 0.67 test_f1: 0.69 kw_f1: 70.09\n"
          ]
        },
        {
          "output_type": "stream",
          "name": "stderr",
          "text": [
            "\r 60%|██████    | 3/5 [03:59<02:39, 79.85s/it]"
          ]
        },
        {
          "output_type": "stream",
          "name": "stdout",
          "text": [
            "epoch 3: loss: 0.05 train_f1: 0.83 test_f1: 0.71 kw_f1: 71.21\n"
          ]
        },
        {
          "output_type": "stream",
          "name": "stderr",
          "text": [
            "\r 80%|████████  | 4/5 [05:19<01:19, 79.83s/it]"
          ]
        },
        {
          "output_type": "stream",
          "name": "stdout",
          "text": [
            "epoch 4: loss: 0.03 train_f1: 0.90 test_f1: 0.70 kw_f1: 72.48\n"
          ]
        },
        {
          "output_type": "stream",
          "name": "stderr",
          "text": [
            "100%|██████████| 5/5 [06:38<00:00, 79.60s/it]"
          ]
        },
        {
          "output_type": "stream",
          "name": "stdout",
          "text": [
            "epoch 5: loss: 0.02 train_f1: 0.93 test_f1: 0.71 kw_f1: 71.30\n",
            "EEG combo: EEG3.4 - Precision: 72.61, Recall: 70.05, F1 Score: 71.30\n",
            "Training with EEG combo: EEG4.5\n"
          ]
        },
        {
          "output_type": "stream",
          "name": "stderr",
          "text": [
            "\n",
            " 20%|██        | 1/5 [01:19<05:19, 79.89s/it]"
          ]
        },
        {
          "output_type": "stream",
          "name": "stdout",
          "text": [
            "epoch 1: loss: 0.19 train_f1: 0.29 test_f1: 0.57 kw_f1: 62.14\n"
          ]
        },
        {
          "output_type": "stream",
          "name": "stderr",
          "text": [
            "\r 40%|████      | 2/5 [02:39<03:59, 79.88s/it]"
          ]
        },
        {
          "output_type": "stream",
          "name": "stdout",
          "text": [
            "epoch 2: loss: 0.09 train_f1: 0.67 test_f1: 0.68 kw_f1: 70.29\n"
          ]
        },
        {
          "output_type": "stream",
          "name": "stderr",
          "text": [
            "\r 60%|██████    | 3/5 [03:59<02:39, 79.86s/it]"
          ]
        },
        {
          "output_type": "stream",
          "name": "stdout",
          "text": [
            "epoch 3: loss: 0.05 train_f1: 0.83 test_f1: 0.70 kw_f1: 71.26\n"
          ]
        },
        {
          "output_type": "stream",
          "name": "stderr",
          "text": [
            "\r 80%|████████  | 4/5 [05:18<01:19, 79.41s/it]"
          ]
        },
        {
          "output_type": "stream",
          "name": "stdout",
          "text": [
            "epoch 4: loss: 0.03 train_f1: 0.90 test_f1: 0.70 kw_f1: 71.13\n"
          ]
        },
        {
          "output_type": "stream",
          "name": "stderr",
          "text": [
            "100%|██████████| 5/5 [06:38<00:00, 79.65s/it]"
          ]
        },
        {
          "output_type": "stream",
          "name": "stdout",
          "text": [
            "epoch 5: loss: 0.02 train_f1: 0.93 test_f1: 0.70 kw_f1: 71.66\n",
            "EEG combo: EEG4.5 - Precision: 73.61, Recall: 69.82, F1 Score: 71.66\n",
            "Training with EEG combo: EEG5.6\n"
          ]
        },
        {
          "output_type": "stream",
          "name": "stderr",
          "text": [
            "\n",
            " 20%|██        | 1/5 [01:20<05:23, 80.99s/it]"
          ]
        },
        {
          "output_type": "stream",
          "name": "stdout",
          "text": [
            "epoch 1: loss: 0.19 train_f1: 0.29 test_f1: 0.57 kw_f1: 62.09\n"
          ]
        },
        {
          "output_type": "stream",
          "name": "stderr",
          "text": [
            "\r 40%|████      | 2/5 [02:41<04:01, 80.44s/it]"
          ]
        },
        {
          "output_type": "stream",
          "name": "stdout",
          "text": [
            "epoch 2: loss: 0.09 train_f1: 0.67 test_f1: 0.64 kw_f1: 68.95\n"
          ]
        },
        {
          "output_type": "stream",
          "name": "stderr",
          "text": [
            "\r 60%|██████    | 3/5 [04:01<02:40, 80.29s/it]"
          ]
        },
        {
          "output_type": "stream",
          "name": "stdout",
          "text": [
            "epoch 3: loss: 0.05 train_f1: 0.83 test_f1: 0.71 kw_f1: 71.34\n"
          ]
        },
        {
          "output_type": "stream",
          "name": "stderr",
          "text": [
            "\r 80%|████████  | 4/5 [05:21<01:20, 80.24s/it]"
          ]
        },
        {
          "output_type": "stream",
          "name": "stdout",
          "text": [
            "epoch 4: loss: 0.03 train_f1: 0.90 test_f1: 0.72 kw_f1: 72.51\n"
          ]
        },
        {
          "output_type": "stream",
          "name": "stderr",
          "text": [
            "100%|██████████| 5/5 [06:40<00:00, 80.06s/it]"
          ]
        },
        {
          "output_type": "stream",
          "name": "stdout",
          "text": [
            "epoch 5: loss: 0.02 train_f1: 0.93 test_f1: 0.72 kw_f1: 72.23\n",
            "EEG combo: EEG5.6 - Precision: 73.98, Recall: 70.57, F1 Score: 72.23\n",
            "Training with EEG combo: EEG6.7\n"
          ]
        },
        {
          "output_type": "stream",
          "name": "stderr",
          "text": [
            "\n",
            " 20%|██        | 1/5 [01:20<05:21, 80.36s/it]"
          ]
        },
        {
          "output_type": "stream",
          "name": "stdout",
          "text": [
            "epoch 1: loss: 0.20 train_f1: 0.26 test_f1: 0.49 kw_f1: 58.68\n"
          ]
        },
        {
          "output_type": "stream",
          "name": "stderr",
          "text": [
            "\r 40%|████      | 2/5 [02:40<04:00, 80.13s/it]"
          ]
        },
        {
          "output_type": "stream",
          "name": "stdout",
          "text": [
            "epoch 2: loss: 0.10 train_f1: 0.63 test_f1: 0.65 kw_f1: 69.32\n"
          ]
        },
        {
          "output_type": "stream",
          "name": "stderr",
          "text": [
            "\r 60%|██████    | 3/5 [04:00<02:40, 80.06s/it]"
          ]
        },
        {
          "output_type": "stream",
          "name": "stdout",
          "text": [
            "epoch 3: loss: 0.05 train_f1: 0.81 test_f1: 0.70 kw_f1: 70.08\n"
          ]
        },
        {
          "output_type": "stream",
          "name": "stderr",
          "text": [
            "\r 80%|████████  | 4/5 [05:20<01:20, 80.08s/it]"
          ]
        },
        {
          "output_type": "stream",
          "name": "stdout",
          "text": [
            "epoch 4: loss: 0.03 train_f1: 0.89 test_f1: 0.72 kw_f1: 72.34\n"
          ]
        },
        {
          "output_type": "stream",
          "name": "stderr",
          "text": [
            "100%|██████████| 5/5 [06:39<00:00, 79.90s/it]"
          ]
        },
        {
          "output_type": "stream",
          "name": "stdout",
          "text": [
            "epoch 5: loss: 0.02 train_f1: 0.92 test_f1: 0.72 kw_f1: 71.58\n",
            "EEG combo: EEG6.7 - Precision: 75.19, Recall: 68.30, F1 Score: 71.58\n",
            "Training with EEG combo: EEG7.8\n"
          ]
        },
        {
          "output_type": "stream",
          "name": "stderr",
          "text": [
            "\n",
            " 20%|██        | 1/5 [01:20<05:21, 80.43s/it]"
          ]
        },
        {
          "output_type": "stream",
          "name": "stdout",
          "text": [
            "epoch 1: loss: 0.19 train_f1: 0.30 test_f1: 0.57 kw_f1: 63.28\n"
          ]
        },
        {
          "output_type": "stream",
          "name": "stderr",
          "text": [
            "\r 40%|████      | 2/5 [02:40<04:00, 80.07s/it]"
          ]
        },
        {
          "output_type": "stream",
          "name": "stdout",
          "text": [
            "epoch 2: loss: 0.09 train_f1: 0.68 test_f1: 0.67 kw_f1: 69.86\n"
          ]
        },
        {
          "output_type": "stream",
          "name": "stderr",
          "text": [
            "\r 60%|██████    | 3/5 [03:59<02:39, 79.83s/it]"
          ]
        },
        {
          "output_type": "stream",
          "name": "stdout",
          "text": [
            "epoch 3: loss: 0.05 train_f1: 0.83 test_f1: 0.70 kw_f1: 71.15\n"
          ]
        },
        {
          "output_type": "stream",
          "name": "stderr",
          "text": [
            "\r 80%|████████  | 4/5 [05:19<01:19, 79.81s/it]"
          ]
        },
        {
          "output_type": "stream",
          "name": "stdout",
          "text": [
            "epoch 4: loss: 0.03 train_f1: 0.90 test_f1: 0.71 kw_f1: 71.91\n"
          ]
        },
        {
          "output_type": "stream",
          "name": "stderr",
          "text": [
            "100%|██████████| 5/5 [06:39<00:00, 79.88s/it]"
          ]
        },
        {
          "output_type": "stream",
          "name": "stdout",
          "text": [
            "epoch 5: loss: 0.02 train_f1: 0.93 test_f1: 0.73 kw_f1: 72.41\n",
            "EEG combo: EEG7.8 - Precision: 74.49, Recall: 70.43, F1 Score: 72.41\n"
          ]
        },
        {
          "output_type": "stream",
          "name": "stderr",
          "text": [
            "\n"
          ]
        }
      ]
    },
    {
      "cell_type": "code",
      "execution_count": null,
      "outputs": [],
      "source": [
        "##############################################"
      ],
      "metadata": {
        "pycharm": {
          "name": "#%%\n"
        },
        "id": "IRb9Ho7MCBYk"
      }
    },
    {
      "cell_type": "code",
      "execution_count": null,
      "outputs": [],
      "source": [
        "fs_num = 25  # 定义额外特征的数量"
      ],
      "metadata": {
        "pycharm": {
          "name": "#%%\n"
        },
        "id": "g8ds1J_QCBYk"
      }
    },
    {
      "cell_type": "code",
      "execution_count": null,
      "outputs": [],
      "source": [
        "#####################"
      ],
      "metadata": {
        "pycharm": {
          "name": "#%%\n"
        },
        "id": "6tfd5G2hCBYt"
      }
    },
    {
      "cell_type": "markdown",
      "source": [],
      "metadata": {
        "id": "ubgwRkn5yY_2"
      }
    },
    {
      "cell_type": "code",
      "execution_count": null,
      "outputs": [],
      "source": [
        "class Attention(nn.Module):\n",
        "    def __init__(self, hidden_dim):\n",
        "        super(Attention, self).__init__()\n",
        "        self.att_weight = nn.Parameter(torch.Tensor(hidden_dim, 1))\n",
        "        nn.init.xavier_uniform_(self.att_weight)\n",
        "        self.tanh = nn.Tanh()\n",
        "\n",
        "    def attention_layer(self, h, mask):\n",
        "        att_weight = self.att_weight.expand(mask.shape[0], -1, -1)  # B*H*1\n",
        "        att_score = torch.bmm(self.tanh(h), att_weight)  # B*L*H  *  B*H*1 -> B*L*1\n",
        "\n",
        "        # mask, remove the effect of 'PAD'\n",
        "        mask = mask.unsqueeze(dim=-1)  # B*L*1\n",
        "        att_score = att_score.masked_fill(mask.eq(0), float('-inf'))  # B*L*1\n",
        "        att_weight = F.softmax(att_score, dim=1)  # B*L*1\n",
        "\n",
        "        reps = h * att_weight  # B*L*H *  B*L*1 -> B*L*H\n",
        "        reps = self.tanh(reps)  # B*L*H\n",
        "        return reps, att_weight\n",
        "\n",
        "\n",
        "class BertNerModelWithAttention(nn.Module):\n",
        "    def __init__(self, num_labels):\n",
        "        super(BertNerModelWithAttention, self).__init__()\n",
        "        self.bert = BertModel.from_pretrained(weight)\n",
        "        self.dropout = nn.Dropout(0.1)\n",
        "        self.layernorm = nn.LayerNorm(normalized_shape=768)  # 使用BERT的输出维度进行LayerNorm\n",
        "        self.relu = nn.ReLU()\n",
        "        self.linear_dropout = nn.Dropout(0.1)\n",
        "        self.attention = Attention(768)\n",
        "        self.classifier = nn.Linear(768 + 8, num_labels)  # 修改为18维\n",
        "\n",
        "    def forward(self, input_ids, attention_mask, extra_features, token_type_ids=None):\n",
        "        outputs = self.bert(input_ids, attention_mask=attention_mask, token_type_ids=token_type_ids)\n",
        "        sequence_output = outputs[0]  # [batch_size, seq_len, hidden_dim]\n",
        "        sequence_output = self.dropout(sequence_output)\n",
        "\n",
        "        # 添加LayerNorm、ReLU和Dropout操作\n",
        "        normalized_output = self.layernorm(sequence_output)\n",
        "        activated_output = self.relu(normalized_output)\n",
        "        dropout_output = self.linear_dropout(activated_output)\n",
        "\n",
        "        context_vector, attention_weights = self.attention.attention_layer(dropout_output, attention_mask)  # [batch_size, seq_len, hidden_dim]\n",
        "\n",
        "        # 只使用前18个ET特征\n",
        "        et_features = extra_features[:, :, -8:]  # 提取前18维度的特征\n",
        "\n",
        "        # 直接拼接 context_vector 和 et_features\n",
        "        combined_output = torch.cat((context_vector, et_features), dim=-1)  # [batch_size, seq_len, hidden_dim + 18]\n",
        "        logits = self.classifier(combined_output)  # [batch_size, seq_len, num_labels]\n",
        "\n",
        "        return logits, attention_weights\n"
      ],
      "metadata": {
        "pycharm": {
          "name": "#%%\n"
        },
        "id": "xynUO2qzCBYu"
      }
    },
    {
      "cell_type": "code",
      "execution_count": null,
      "outputs": [
        {
          "name": "stderr",
          "output_type": "stream",
          "text": [
            "A parameter name that contains `beta` will be renamed internally to `bias`. Please use a different name to suppress this warning.\n",
            "A parameter name that contains `gamma` will be renamed internally to `weight`. Please use a different name to suppress this warning.\n",
            "A parameter name that contains `beta` will be renamed internally to `bias`. Please use a different name to suppress this warning.\n",
            "A parameter name that contains `gamma` will be renamed internally to `weight`. Please use a different name to suppress this warning.\n",
            "A parameter name that contains `beta` will be renamed internally to `bias`. Please use a different name to suppress this warning.\n",
            "A parameter name that contains `gamma` will be renamed internally to `weight`. Please use a different name to suppress this warning.\n",
            "A parameter name that contains `beta` will be renamed internally to `bias`. Please use a different name to suppress this warning.\n",
            "A parameter name that contains `gamma` will be renamed internally to `weight`. Please use a different name to suppress this warning.\n",
            "A parameter name that contains `beta` will be renamed internally to `bias`. Please use a different name to suppress this warning.\n",
            "A parameter name that contains `gamma` will be renamed internally to `weight`. Please use a different name to suppress this warning.\n",
            "A parameter name that contains `beta` will be renamed internally to `bias`. Please use a different name to suppress this warning.\n",
            "A parameter name that contains `gamma` will be renamed internally to `weight`. Please use a different name to suppress this warning.\n",
            "A parameter name that contains `beta` will be renamed internally to `bias`. Please use a different name to suppress this warning.\n",
            "A parameter name that contains `gamma` will be renamed internally to `weight`. Please use a different name to suppress this warning.\n",
            "A parameter name that contains `beta` will be renamed internally to `bias`. Please use a different name to suppress this warning.\n",
            "A parameter name that contains `gamma` will be renamed internally to `weight`. Please use a different name to suppress this warning.\n",
            "A parameter name that contains `beta` will be renamed internally to `bias`. Please use a different name to suppress this warning.\n",
            "A parameter name that contains `gamma` will be renamed internally to `weight`. Please use a different name to suppress this warning.\n",
            "A parameter name that contains `beta` will be renamed internally to `bias`. Please use a different name to suppress this warning.\n",
            "A parameter name that contains `gamma` will be renamed internally to `weight`. Please use a different name to suppress this warning.\n",
            "A parameter name that contains `beta` will be renamed internally to `bias`. Please use a different name to suppress this warning.\n",
            "A parameter name that contains `gamma` will be renamed internally to `weight`. Please use a different name to suppress this warning.\n",
            "A parameter name that contains `beta` will be renamed internally to `bias`. Please use a different name to suppress this warning.\n",
            "A parameter name that contains `gamma` will be renamed internally to `weight`. Please use a different name to suppress this warning.\n",
            "A parameter name that contains `beta` will be renamed internally to `bias`. Please use a different name to suppress this warning.\n",
            "A parameter name that contains `gamma` will be renamed internally to `weight`. Please use a different name to suppress this warning.\n",
            "A parameter name that contains `beta` will be renamed internally to `bias`. Please use a different name to suppress this warning.\n",
            "A parameter name that contains `gamma` will be renamed internally to `weight`. Please use a different name to suppress this warning.\n",
            "A parameter name that contains `beta` will be renamed internally to `bias`. Please use a different name to suppress this warning.\n",
            "A parameter name that contains `gamma` will be renamed internally to `weight`. Please use a different name to suppress this warning.\n",
            "A parameter name that contains `beta` will be renamed internally to `bias`. Please use a different name to suppress this warning.\n",
            "A parameter name that contains `gamma` will be renamed internally to `weight`. Please use a different name to suppress this warning.\n",
            "A parameter name that contains `beta` will be renamed internally to `bias`. Please use a different name to suppress this warning.\n",
            "A parameter name that contains `gamma` will be renamed internally to `weight`. Please use a different name to suppress this warning.\n",
            "A parameter name that contains `beta` will be renamed internally to `bias`. Please use a different name to suppress this warning.\n",
            "A parameter name that contains `gamma` will be renamed internally to `weight`. Please use a different name to suppress this warning.\n",
            "A parameter name that contains `beta` will be renamed internally to `bias`. Please use a different name to suppress this warning.\n",
            "A parameter name that contains `gamma` will be renamed internally to `weight`. Please use a different name to suppress this warning.\n",
            "A parameter name that contains `beta` will be renamed internally to `bias`. Please use a different name to suppress this warning.\n",
            "A parameter name that contains `gamma` will be renamed internally to `weight`. Please use a different name to suppress this warning.\n",
            "A parameter name that contains `beta` will be renamed internally to `bias`. Please use a different name to suppress this warning.\n",
            "A parameter name that contains `gamma` will be renamed internally to `weight`. Please use a different name to suppress this warning.\n",
            "A parameter name that contains `beta` will be renamed internally to `bias`. Please use a different name to suppress this warning.\n",
            "A parameter name that contains `gamma` will be renamed internally to `weight`. Please use a different name to suppress this warning.\n",
            "A parameter name that contains `beta` will be renamed internally to `bias`. Please use a different name to suppress this warning.\n",
            "A parameter name that contains `gamma` will be renamed internally to `weight`. Please use a different name to suppress this warning.\n",
            "A parameter name that contains `beta` will be renamed internally to `bias`. Please use a different name to suppress this warning.\n",
            "A parameter name that contains `gamma` will be renamed internally to `weight`. Please use a different name to suppress this warning.\n",
            "A parameter name that contains `beta` will be renamed internally to `bias`. Please use a different name to suppress this warning.\n",
            "A parameter name that contains `gamma` will be renamed internally to `weight`. Please use a different name to suppress this warning.\n",
            "A parameter name that contains `beta` will be renamed internally to `bias`. Please use a different name to suppress this warning.\n",
            "A parameter name that contains `gamma` will be renamed internally to `weight`. Please use a different name to suppress this warning.\n"
          ]
        }
      ],
      "source": [
        "from torch.nn import CrossEntropyLoss\n",
        "from torch.optim import AdamW\n",
        "from sklearn.metrics import f1_score\n",
        "\n",
        "# model = BertNerModelWithSoftAttention(num_labels=6)\n",
        "# model = model.to(device)\n",
        "\n",
        "\n",
        "model = BertNerModelWithAttention(num_labels=6)\n",
        "model = model.to(device)\n",
        "\n",
        "\n",
        "#optim = AdamW(model.parameters(), lr=5e-5, weight_decay=1e-2)\n",
        "optim = AdamW(model.parameters(), lr=1e-5, weight_decay=1e-2)  # 尝试降低学习率\n",
        "\n",
        "loss_fn = CrossEntropyLoss(reduction='none', ignore_index=0)\n",
        "loss_fn = loss_fn.to(device)\n",
        "\n",
        "epochs = 5\n",
        "best_f1 = 0.0\n",
        "num_labels = 6"
      ],
      "metadata": {
        "pycharm": {
          "name": "#%%\n"
        },
        "id": "BmYizQdTCBYu",
        "outputId": "af854bd6-2549-4ce3-aa36-529df02ec413"
      }
    },
    {
      "cell_type": "code",
      "execution_count": null,
      "outputs": [
        {
          "name": "stderr",
          "output_type": "stream",
          "text": [
            "  0%|          | 0/5 [00:00<?, ?it/s]F:\\anaconda\\lib\\site-packages\\transformers\\models\\bert\\modeling_bert.py:439: UserWarning: 1Torch was not compiled with flash attention. (Triggered internally at C:\\actions-runner\\_work\\pytorch\\pytorch\\builder\\windows\\pytorch\\aten\\src\\ATen\\native\\transformers\\cuda\\sdp_utils.cpp:455.)\n",
            "  attn_output = torch.nn.functional.scaled_dot_product_attention(\n",
            " 20%|██        | 1/5 [01:59<07:57, 119.42s/it]"
          ]
        },
        {
          "name": "stdout",
          "output_type": "stream",
          "text": [
            "epoch1:  loss:0.98   train_f1_value:0.16  test_f1_value:0.16  kw_f1_value:1.50\n"
          ]
        },
        {
          "name": "stderr",
          "output_type": "stream",
          "text": [
            " 40%|████      | 2/5 [03:57<05:56, 119.00s/it]"
          ]
        },
        {
          "name": "stdout",
          "output_type": "stream",
          "text": [
            "epoch2:  loss:0.89   train_f1_value:0.16  test_f1_value:0.19  kw_f1_value:1.37\n"
          ]
        },
        {
          "name": "stderr",
          "output_type": "stream",
          "text": [
            " 60%|██████    | 3/5 [05:55<03:57, 118.84s/it]"
          ]
        },
        {
          "name": "stdout",
          "output_type": "stream",
          "text": [
            "epoch3:  loss:0.85   train_f1_value:0.16  test_f1_value:0.19  kw_f1_value:0.00\n"
          ]
        },
        {
          "name": "stderr",
          "output_type": "stream",
          "text": [
            " 80%|████████  | 4/5 [07:54<01:58, 118.72s/it]"
          ]
        },
        {
          "name": "stdout",
          "output_type": "stream",
          "text": [
            "epoch4:  loss:0.81   train_f1_value:0.19  test_f1_value:0.19  kw_f1_value:0.00\n"
          ]
        },
        {
          "name": "stderr",
          "output_type": "stream",
          "text": [
            "100%|██████████| 5/5 [09:50<00:00, 118.04s/it]"
          ]
        },
        {
          "name": "stdout",
          "output_type": "stream",
          "text": [
            "epoch5:  loss:0.78   train_f1_value:0.19  test_f1_value:0.19  kw_f1_value:0.00\n"
          ]
        },
        {
          "name": "stderr",
          "output_type": "stream",
          "text": [
            "\n"
          ]
        }
      ],
      "source": [
        "# 训练模型\n",
        "import torch.nn.functional as F\n",
        "\n",
        "epochs = 5\n",
        "best_f1 = 0.0\n",
        "for epoch in tqdm(range(epochs)):\n",
        "    loss_value = 0.0\n",
        "    model.train()\n",
        "    label_true, label_pred = [], []\n",
        "    for i, batch in enumerate(train_dataloader):\n",
        "        optim.zero_grad()\n",
        "        input_ids, attention_masks, _, features, tags = batch\n",
        "        pred_tags, _ = model(input_ids.to(device), attention_masks.to(device), features.to(device))\n",
        "\n",
        "        loss = loss_fn(pred_tags.permute(0, 2, 1), tags.to(device))\n",
        "        loss = loss.mean()\n",
        "        loss.backward()\n",
        "        optim.step()\n",
        "\n",
        "        pred_tags = F.softmax(pred_tags, dim=-1)\n",
        "        pred_tags = torch.argmax(pred_tags, dim=-1)\n",
        "\n",
        "        y_pred, y_true = calculate_f1(pred_tags, tags)\n",
        "        label_true.extend(y_true)\n",
        "        label_pred.extend(y_pred)\n",
        "\n",
        "        loss_value += loss.item()\n",
        "\n",
        "    label_train_f1 = f1_score(label_true, label_pred, average='macro')\n",
        "\n",
        "    model.eval()\n",
        "    kw_true, kw_pred = [], []\n",
        "    label_true, label_pred = [], []\n",
        "    for i, batch in enumerate(test_dataloader):\n",
        "        input_ids, attention_masks, tokens, features, tags = batch\n",
        "        with torch.no_grad():\n",
        "            for module in model.modules():\n",
        "                if isinstance(module, nn.Dropout):\n",
        "                    module.p = 0\n",
        "                    module.train(False)\n",
        "            pred_tags, _ = model(input_ids.to(device), attention_masks.to(device), features.to(device))\n",
        "            pred_tags = F.softmax(pred_tags, dim=-1)\n",
        "            pred_tags = torch.argmax(pred_tags, dim=-1)\n",
        "\n",
        "        y_pred, y_true = calculate_f1(pred_tags, tags)\n",
        "        label_true.extend(y_true)\n",
        "        label_pred.extend(y_pred)\n",
        "\n",
        "        poss = []\n",
        "        for i in range(len(tags)):\n",
        "            pos = []\n",
        "            for j in range(len(tags[i])):\n",
        "                if tags[i][j] == 0:\n",
        "                    pos.append(j)\n",
        "            poss.append(pos)\n",
        "\n",
        "        kw_true.extend(TagConvert(tags, tokens))\n",
        "        kw_pred.extend(TagConvert(pred_tags, tokens, poss))\n",
        "\n",
        "    label_f1 = f1_score(label_true, label_pred, average='macro')\n",
        "    P, R, F1 = evaluate(kw_true, kw_pred)\n",
        "\n",
        "    if F1 > best_f1:\n",
        "        best_f1 = F1\n",
        "        torch.save(model.state_dict(), './pretrain_pt/bert_with_soft_EGG.pt')\n",
        "\n",
        "    print(\"epoch{}:  loss:{:.2f}   train_f1_value:{:.2f}  test_f1_value:{:.2f}  kw_f1_value:{:.2f}\".format(\n",
        "        epoch + 1, loss_value / len(train_dataloader), label_train_f1, label_f1, F1\n",
        "    ))\n"
      ],
      "metadata": {
        "pycharm": {
          "name": "#%%\n"
        },
        "id": "Htg3BCMkCBYu",
        "outputId": "8ef74e25-8397-427d-ab5d-2a123e091524"
      }
    },
    {
      "cell_type": "code",
      "execution_count": null,
      "outputs": [
        {
          "name": "stderr",
          "output_type": "stream",
          "text": [
            "A parameter name that contains `beta` will be renamed internally to `bias`. Please use a different name to suppress this warning.\n",
            "A parameter name that contains `gamma` will be renamed internally to `weight`. Please use a different name to suppress this warning.\n",
            "A parameter name that contains `beta` will be renamed internally to `bias`. Please use a different name to suppress this warning.\n",
            "A parameter name that contains `gamma` will be renamed internally to `weight`. Please use a different name to suppress this warning.\n",
            "A parameter name that contains `beta` will be renamed internally to `bias`. Please use a different name to suppress this warning.\n",
            "A parameter name that contains `gamma` will be renamed internally to `weight`. Please use a different name to suppress this warning.\n",
            "A parameter name that contains `beta` will be renamed internally to `bias`. Please use a different name to suppress this warning.\n",
            "A parameter name that contains `gamma` will be renamed internally to `weight`. Please use a different name to suppress this warning.\n",
            "A parameter name that contains `beta` will be renamed internally to `bias`. Please use a different name to suppress this warning.\n",
            "A parameter name that contains `gamma` will be renamed internally to `weight`. Please use a different name to suppress this warning.\n",
            "A parameter name that contains `beta` will be renamed internally to `bias`. Please use a different name to suppress this warning.\n",
            "A parameter name that contains `gamma` will be renamed internally to `weight`. Please use a different name to suppress this warning.\n",
            "A parameter name that contains `beta` will be renamed internally to `bias`. Please use a different name to suppress this warning.\n",
            "A parameter name that contains `gamma` will be renamed internally to `weight`. Please use a different name to suppress this warning.\n",
            "A parameter name that contains `beta` will be renamed internally to `bias`. Please use a different name to suppress this warning.\n",
            "A parameter name that contains `gamma` will be renamed internally to `weight`. Please use a different name to suppress this warning.\n",
            "A parameter name that contains `beta` will be renamed internally to `bias`. Please use a different name to suppress this warning.\n",
            "A parameter name that contains `gamma` will be renamed internally to `weight`. Please use a different name to suppress this warning.\n",
            "A parameter name that contains `beta` will be renamed internally to `bias`. Please use a different name to suppress this warning.\n",
            "A parameter name that contains `gamma` will be renamed internally to `weight`. Please use a different name to suppress this warning.\n",
            "A parameter name that contains `beta` will be renamed internally to `bias`. Please use a different name to suppress this warning.\n",
            "A parameter name that contains `gamma` will be renamed internally to `weight`. Please use a different name to suppress this warning.\n",
            "A parameter name that contains `beta` will be renamed internally to `bias`. Please use a different name to suppress this warning.\n",
            "A parameter name that contains `gamma` will be renamed internally to `weight`. Please use a different name to suppress this warning.\n",
            "A parameter name that contains `beta` will be renamed internally to `bias`. Please use a different name to suppress this warning.\n",
            "A parameter name that contains `gamma` will be renamed internally to `weight`. Please use a different name to suppress this warning.\n",
            "A parameter name that contains `beta` will be renamed internally to `bias`. Please use a different name to suppress this warning.\n",
            "A parameter name that contains `gamma` will be renamed internally to `weight`. Please use a different name to suppress this warning.\n",
            "A parameter name that contains `beta` will be renamed internally to `bias`. Please use a different name to suppress this warning.\n",
            "A parameter name that contains `gamma` will be renamed internally to `weight`. Please use a different name to suppress this warning.\n",
            "A parameter name that contains `beta` will be renamed internally to `bias`. Please use a different name to suppress this warning.\n",
            "A parameter name that contains `gamma` will be renamed internally to `weight`. Please use a different name to suppress this warning.\n",
            "A parameter name that contains `beta` will be renamed internally to `bias`. Please use a different name to suppress this warning.\n",
            "A parameter name that contains `gamma` will be renamed internally to `weight`. Please use a different name to suppress this warning.\n",
            "A parameter name that contains `beta` will be renamed internally to `bias`. Please use a different name to suppress this warning.\n",
            "A parameter name that contains `gamma` will be renamed internally to `weight`. Please use a different name to suppress this warning.\n",
            "A parameter name that contains `beta` will be renamed internally to `bias`. Please use a different name to suppress this warning.\n",
            "A parameter name that contains `gamma` will be renamed internally to `weight`. Please use a different name to suppress this warning.\n",
            "A parameter name that contains `beta` will be renamed internally to `bias`. Please use a different name to suppress this warning.\n",
            "A parameter name that contains `gamma` will be renamed internally to `weight`. Please use a different name to suppress this warning.\n",
            "A parameter name that contains `beta` will be renamed internally to `bias`. Please use a different name to suppress this warning.\n",
            "A parameter name that contains `gamma` will be renamed internally to `weight`. Please use a different name to suppress this warning.\n",
            "A parameter name that contains `beta` will be renamed internally to `bias`. Please use a different name to suppress this warning.\n",
            "A parameter name that contains `gamma` will be renamed internally to `weight`. Please use a different name to suppress this warning.\n",
            "A parameter name that contains `beta` will be renamed internally to `bias`. Please use a different name to suppress this warning.\n",
            "A parameter name that contains `gamma` will be renamed internally to `weight`. Please use a different name to suppress this warning.\n",
            "A parameter name that contains `beta` will be renamed internally to `bias`. Please use a different name to suppress this warning.\n",
            "A parameter name that contains `gamma` will be renamed internally to `weight`. Please use a different name to suppress this warning.\n",
            "A parameter name that contains `beta` will be renamed internally to `bias`. Please use a different name to suppress this warning.\n",
            "A parameter name that contains `gamma` will be renamed internally to `weight`. Please use a different name to suppress this warning.\n",
            "A parameter name that contains `beta` will be renamed internally to `bias`. Please use a different name to suppress this warning.\n",
            "A parameter name that contains `gamma` will be renamed internally to `weight`. Please use a different name to suppress this warning.\n"
          ]
        }
      ],
      "source": [
        "model = BertNerModelWithAttention(num_labels=6)\n",
        "model.load_state_dict(torch.load('./pretrain_pt/bert_with_soft_EGG.pt'))\n",
        "model = model.to(device)"
      ],
      "metadata": {
        "pycharm": {
          "name": "#%%\n"
        },
        "id": "a944PVZhCBYv",
        "outputId": "14623373-b637-48c0-9f40-c84ce00feaf3"
      }
    },
    {
      "cell_type": "code",
      "execution_count": null,
      "outputs": [
        {
          "name": "stdout",
          "output_type": "stream",
          "text": [
            "Label F1 Score: 0.16\n",
            "Precision: 1.37\n",
            "Recall: 1.66\n",
            "F1 Score: 1.50\n"
          ]
        }
      ],
      "source": [
        "import torch\n",
        "import torch.nn.functional as F\n",
        "from sklearn.metrics import f1_score\n",
        "from torch.utils.data import DataLoader\n",
        "import torch.nn as nn\n",
        "\n",
        "# 加载最佳模型权重\n",
        "model.load_state_dict(torch.load('./pretrain_pt/bert_with_soft_EGG.pt'))\n",
        "model.eval()\n",
        "\n",
        "\n",
        "def inference_and_evaluate(test_dataloader, model, device):\n",
        "    kw_true, kw_pred = [], []\n",
        "    label_true, label_pred = [], []\n",
        "\n",
        "    for i, batch in enumerate(test_dataloader):\n",
        "        input_ids, attention_masks, tokens, features, tags = batch\n",
        "        with torch.no_grad():\n",
        "            for module in model.modules():\n",
        "                if isinstance(module, nn.Dropout):\n",
        "                    module.p = 0\n",
        "                    module.train(False)\n",
        "            outputs = model(input_ids.to(device), attention_masks.to(device), features.to(device))\n",
        "            pred_tags = outputs[0] if isinstance(outputs, tuple) else outputs  # Handle tuple output\n",
        "            pred_tags = F.softmax(pred_tags, dim=-1)\n",
        "            pred_tags = torch.argmax(pred_tags, dim=-1)\n",
        "\n",
        "        y_pred, y_true = calculate_f1(pred_tags, tags)\n",
        "        label_true.extend(y_true)\n",
        "        label_pred.extend(y_pred)\n",
        "\n",
        "        # more balance evaluate\n",
        "        poss = []\n",
        "        for i in range(len(tags)):\n",
        "            pos = []\n",
        "            for j in range(len(tags[i])):\n",
        "                if tags[i][j] == 0:\n",
        "                    pos.append(j)\n",
        "            poss.append(pos)\n",
        "\n",
        "        kw_true.extend(TagConvert(tags, tokens))\n",
        "        kw_pred.extend(TagConvert(pred_tags, tokens, poss))\n",
        "\n",
        "    label_f1 = f1_score(label_true, label_pred, average='macro')\n",
        "    P, R, F1 = evaluate(kw_true, kw_pred)\n",
        "\n",
        "    return label_f1, P, R, F1\n",
        "\n",
        "# 调用推理和评价函数\n",
        "label_f1, P, R, F1 = inference_and_evaluate(test_dataloader, model, device)\n",
        "\n",
        "print(f\"Label F1 Score: {label_f1:.2f}\")\n",
        "print(f\"Precision: {P:.2f}\")\n",
        "print(f\"Recall: {R:.2f}\")\n",
        "print(f\"F1 Score: {F1:.2f}\")\n"
      ],
      "metadata": {
        "pycharm": {
          "name": "#%%\n"
        },
        "id": "ycDwqJEtCBYv",
        "outputId": "7c6d2257-c62c-42f5-e158-5613bab3bea4"
      }
    },
    {
      "cell_type": "code",
      "source": [
        "#################################soft——不同EGG组合"
      ],
      "metadata": {
        "id": "vMBzt3baKmMr"
      },
      "execution_count": null,
      "outputs": []
    },
    {
      "cell_type": "code",
      "source": [
        "from torch.nn import CrossEntropyLoss\n",
        "from torch.optim import AdamW\n",
        "from tqdm import tqdm\n",
        "import torch.nn.functional as F\n",
        "from sklearn.metrics import f1_score\n",
        "import torch.nn as nn\n",
        "import torch\n",
        "\n",
        "# Attention 和 BertNerModelWithAttention 定义\n",
        "class Attention(nn.Module):\n",
        "    def __init__(self, hidden_dim):\n",
        "        super(Attention, self).__init__()\n",
        "        self.att_weight = nn.Parameter(torch.Tensor(hidden_dim, 1))\n",
        "        nn.init.xavier_uniform_(self.att_weight)\n",
        "        self.tanh = nn.Tanh()\n",
        "\n",
        "    def attention_layer(self, h, mask):\n",
        "        att_weight = self.att_weight.expand(mask.shape[0], -1, -1)  # B*H*1\n",
        "        att_score = torch.bmm(self.tanh(h), att_weight)  # B*L*H  *  B*H*1 -> B*L*1\n",
        "\n",
        "        # mask, remove the effect of 'PAD'\n",
        "        mask = mask.unsqueeze(dim=-1)  # B*L*1\n",
        "        att_score = att_score.masked_fill(mask.eq(0), float('-inf'))  # B*L*1\n",
        "        att_weight = F.softmax(att_score, dim=1)  # B*L*1\n",
        "\n",
        "        reps = h * att_weight  # B*L*H *  B*L*1 -> B*L*H\n",
        "        reps = self.tanh(reps)  # B*L*H\n",
        "        return reps, att_weight\n",
        "\n",
        "\n",
        "class BertNerModelWithAttention(nn.Module):\n",
        "    def __init__(self, num_labels, eeg_combo_dim):\n",
        "        super(BertNerModelWithAttention, self).__init__()\n",
        "        self.bert = BertModel.from_pretrained(weight)\n",
        "        self.dropout = nn.Dropout(0.1)\n",
        "        self.layernorm = nn.LayerNorm(normalized_shape=768)  # 使用BERT的输出维度进行LayerNorm\n",
        "        self.relu = nn.ReLU()\n",
        "        self.linear_dropout = nn.Dropout(0.1)\n",
        "        self.attention = Attention(768)\n",
        "        self.classifier = nn.Linear(768 + eeg_combo_dim, num_labels)\n",
        "\n",
        "    def forward(self, input_ids, attention_mask, extra_features, eeg_combo):\n",
        "        outputs = self.bert(input_ids, attention_mask=attention_mask)\n",
        "        sequence_output = outputs[0]  # [batch_size, seq_len, hidden_dim]\n",
        "        sequence_output = self.dropout(sequence_output)\n",
        "\n",
        "        # 添加LayerNorm、ReLU和Dropout操作\n",
        "        normalized_output = self.layernorm(sequence_output)\n",
        "        activated_output = self.relu(normalized_output)\n",
        "        dropout_output = self.linear_dropout(activated_output)\n",
        "\n",
        "        context_vector, attention_weights = self.attention.attention_layer(dropout_output, attention_mask)  # [batch_size, seq_len, hidden_dim]\n",
        "\n",
        "        # 动态选择 EEG 特征\n",
        "        if eeg_combo == 'EEG1':\n",
        "            eeg_features = extra_features[:, :, -8:-7]\n",
        "        elif eeg_combo == 'EEG2':\n",
        "            eeg_features = extra_features[:, :, -7:-6]\n",
        "        elif eeg_combo == 'EEG3':\n",
        "            eeg_features = extra_features[:, :, -6:-5]\n",
        "        elif eeg_combo == 'EEG4':\n",
        "            eeg_features = extra_features[:, :, -5:-4]\n",
        "        elif eeg_combo == 'EEG5':\n",
        "            eeg_features = extra_features[:, :, -4:-3]\n",
        "        elif eeg_combo == 'EEG6':\n",
        "            eeg_features = extra_features[:, :, -3:-2]\n",
        "        elif eeg_combo == 'EEG7':\n",
        "            eeg_features = extra_features[:, :, -2:-1]\n",
        "        elif eeg_combo == 'EEG8':\n",
        "            eeg_features = extra_features[:, :, -1:]\n",
        "        elif eeg_combo == 'EEG1.2':\n",
        "            eeg_features = extra_features[:, :, -8:-6]\n",
        "        elif eeg_combo == 'EEG2.3':\n",
        "            eeg_features = extra_features[:, :, -7:-5]\n",
        "        elif eeg_combo == 'EEG3.4':\n",
        "            eeg_features = extra_features[:, :, -6:-4]\n",
        "        elif eeg_combo == 'EEG4.5':\n",
        "            eeg_features = extra_features[:, :, -5:-3]\n",
        "        elif eeg_combo == 'EEG5.6':\n",
        "            eeg_features = extra_features[:, :, -4:-2]\n",
        "        elif eeg_combo == 'EEG6.7':\n",
        "            eeg_features = extra_features[:, :, -3:-1]\n",
        "        elif eeg_combo == 'EEG7.8':\n",
        "            eeg_features = extra_features[:, :, -2:]\n",
        "\n",
        "        combined_output = torch.cat((context_vector, eeg_features), dim=-1)  # [batch_size, seq_len, hidden_dim + eeg_combo_dim]\n",
        "        logits = self.classifier(combined_output)  # [batch_size, seq_len, num_labels]\n",
        "\n",
        "        return logits, attention_weights\n",
        "\n",
        "# 训练和评估函数\n",
        "def train_and_evaluate(train_dataloader, test_dataloader, eeg_combo, num_labels=6, epochs=5, lr=5e-5):\n",
        "    eeg_combo_dim = len(eeg_combo.split('.'))  # EEG 组合维度\n",
        "\n",
        "    model = BertNerModelWithAttention(num_labels=num_labels, eeg_combo_dim=eeg_combo_dim)\n",
        "    model = model.to(device)\n",
        "\n",
        "    optim = AdamW(model.parameters(), lr=lr, weight_decay=1e-2)\n",
        "    loss_fn = CrossEntropyLoss(reduction='none', ignore_index=0).to(device)\n",
        "\n",
        "    best_f1 = 0.0\n",
        "\n",
        "    # Training loop\n",
        "    for epoch in tqdm(range(epochs)):\n",
        "        loss_value = 0.0\n",
        "        model.train()\n",
        "        label_true, label_pred = [], []\n",
        "        for i, batch in enumerate(train_dataloader):\n",
        "            optim.zero_grad()\n",
        "            input_ids, attention_masks, _, features, tags = batch\n",
        "            pred_tags, _ = model(input_ids.to(device), attention_masks.to(device), features.to(device), eeg_combo)\n",
        "\n",
        "            loss = loss_fn(pred_tags.permute(0, 2, 1), tags.to(device))\n",
        "            loss = loss.mean()\n",
        "            loss.backward()\n",
        "            optim.step()\n",
        "\n",
        "            pred_tags = F.softmax(pred_tags, dim=-1)\n",
        "            pred_tags = torch.argmax(pred_tags, dim=-1)\n",
        "\n",
        "            y_pred, y_true = calculate_f1(pred_tags, tags)\n",
        "            label_true.extend(y_true)\n",
        "            label_pred.extend(y_pred)\n",
        "\n",
        "            loss_value += loss.item()\n",
        "\n",
        "        label_train_f1 = f1_score(label_true, label_pred, average='macro')\n",
        "\n",
        "        # Evaluation loop\n",
        "        model.eval()\n",
        "        kw_true, kw_pred = [], []\n",
        "        label_true, label_pred = [], []\n",
        "        for i, batch in enumerate(test_dataloader):\n",
        "            input_ids, attention_masks, tokens, features, tags = batch\n",
        "            with torch.no_grad():\n",
        "                for module in model.modules():\n",
        "                    if isinstance(module, nn.Dropout):\n",
        "                        module.p = 0\n",
        "                        module.train(False)\n",
        "                pred_tags, _ = model(input_ids.to(device), attention_masks.to(device), features.to(device), eeg_combo)\n",
        "                pred_tags = F.softmax(pred_tags, dim=-1)\n",
        "                pred_tags = torch.argmax(pred_tags, dim=-1)\n",
        "\n",
        "            y_pred, y_true = calculate_f1(pred_tags, tags)\n",
        "            label_true.extend(y_true)\n",
        "            label_pred.extend(y_pred)\n",
        "\n",
        "            poss = []\n",
        "            for i in range(len(tags)):\n",
        "                pos = []\n",
        "                for j in range(len(tags[i])):\n",
        "                    if tags[i][j] == 0:\n",
        "                        pos.append(j)\n",
        "                poss.append(pos)\n",
        "\n",
        "            kw_true.extend(TagConvert(tags, tokens))\n",
        "            kw_pred.extend(TagConvert(pred_tags, tokens, poss))\n",
        "\n",
        "        label_f1 = f1_score(label_true, label_pred, average='macro')\n",
        "        P, R, F1 = evaluate(kw_true, kw_pred)\n",
        "\n",
        "        # Save the best model for the given EEG combination\n",
        "        if F1 > best_f1:\n",
        "            best_f1 = F1\n",
        "            torch.save(model.state_dict(), f'/content/drive/MyDrive/ner/pretrain_pt/bert_soft_{eeg_combo}.pt')\n",
        "        print(f\"epoch {epoch+1}: loss: {loss_value / len(train_dataloader):.2f} train_f1: {label_train_f1:.2f} test_f1: {label_f1:.2f} kw_f1: {F1:.2f}\")\n",
        "\n",
        "    return P, R, F1\n",
        "\n",
        "# 使用不同的 EEG 组合进行训练和评估\n",
        "eeg_combos = ['EEG1', 'EEG2', 'EEG3', 'EEG4', 'EEG5', 'EEG6', 'EEG7', 'EEG8',\n",
        "              'EEG1.2', 'EEG2.3', 'EEG3.4', 'EEG4.5', 'EEG5.6', 'EEG6.7', 'EEG7.8']\n",
        "\n",
        "for eeg_combo in eeg_combos:\n",
        "    print(f\"Training with EEG combo: {eeg_combo}\")\n",
        "    P, R, F1 = train_and_evaluate(train_dataloader, test_dataloader, eeg_combo)\n",
        "    print(f\"EEG combo: {eeg_combo} - Precision: {P:.2f}, Recall: {R:.2f}, F1 Score: {F1:.2f}\")\n"
      ],
      "metadata": {
        "colab": {
          "base_uri": "https://localhost:8080/",
          "height": 1000,
          "referenced_widgets": [
            "fbaf2a2a9a7c4964993ed7775f4f5c28",
            "3fa9c482ec9e47bb927ba2f351b04542",
            "567b5c14bd80483c986629222242ca76",
            "581b608708b945f683d48dbad1a56c8a",
            "297d256840e04317945ef21ffd35b3c8",
            "055c4868364b4bfea88636ec119c7e3a",
            "2ba6d58853a244c3bdd9f181530c9734",
            "894218738cbf435a9d731d041addb642",
            "ee240004d45f483dbd629aa88eeb03e1",
            "f437a4cdd74644328f7e55f56559a07e",
            "27fe867707924c24925b0587e7e2776a"
          ]
        },
        "id": "mEsfzsgQKrwR",
        "outputId": "80695d49-fbb5-4396-fb0c-c4b96b5a19ef"
      },
      "execution_count": null,
      "outputs": [
        {
          "output_type": "stream",
          "name": "stdout",
          "text": [
            "Training with EEG combo: EEG1\n"
          ]
        },
        {
          "output_type": "display_data",
          "data": {
            "text/plain": [
              "model.safetensors:  83%|########3 | 367M/440M [00:00<?, ?B/s]"
            ],
            "application/vnd.jupyter.widget-view+json": {
              "version_major": 2,
              "version_minor": 0,
              "model_id": "fbaf2a2a9a7c4964993ed7775f4f5c28"
            }
          },
          "metadata": {}
        },
        {
          "output_type": "stream",
          "name": "stderr",
          "text": [
            "\n",
            "  0%|          | 0/5 [00:00<?, ?it/s]\u001b[A\n",
            " 20%|██        | 1/5 [01:20<05:21, 80.26s/it]\u001b[A"
          ]
        },
        {
          "output_type": "stream",
          "name": "stdout",
          "text": [
            "epoch 1: loss: 0.92 train_f1: 0.16 test_f1: 0.20 kw_f1: 0.00\n"
          ]
        },
        {
          "output_type": "stream",
          "name": "stderr",
          "text": [
            "\n",
            " 40%|████      | 2/5 [02:39<03:58, 79.50s/it]\u001b[A"
          ]
        },
        {
          "output_type": "stream",
          "name": "stdout",
          "text": [
            "epoch 2: loss: 0.75 train_f1: 0.21 test_f1: 0.22 kw_f1: 0.00\n"
          ]
        },
        {
          "output_type": "stream",
          "name": "stderr",
          "text": [
            "\n",
            " 60%|██████    | 3/5 [03:58<02:38, 79.27s/it]\u001b[A"
          ]
        },
        {
          "output_type": "stream",
          "name": "stdout",
          "text": [
            "epoch 3: loss: 0.63 train_f1: 0.22 test_f1: 0.19 kw_f1: 0.00\n"
          ]
        },
        {
          "output_type": "stream",
          "name": "stderr",
          "text": [
            "\n",
            " 80%|████████  | 4/5 [05:17<01:19, 79.24s/it]\u001b[A"
          ]
        },
        {
          "output_type": "stream",
          "name": "stdout",
          "text": [
            "epoch 4: loss: 0.53 train_f1: 0.19 test_f1: 0.19 kw_f1: 0.00\n"
          ]
        },
        {
          "output_type": "stream",
          "name": "stderr",
          "text": [
            "\n",
            "100%|██████████| 5/5 [06:36<00:00, 79.28s/it]"
          ]
        },
        {
          "output_type": "stream",
          "name": "stdout",
          "text": [
            "epoch 5: loss: 0.45 train_f1: 0.19 test_f1: 0.19 kw_f1: 0.00\n",
            "EEG combo: EEG1 - Precision: 0.00, Recall: 0.00, F1 Score: 0.00\n",
            "Training with EEG combo: EEG2\n"
          ]
        },
        {
          "output_type": "stream",
          "name": "stderr",
          "text": [
            "\n",
            "\n",
            "  0%|          | 0/5 [00:00<?, ?it/s]\u001b[A\n",
            " 20%|██        | 1/5 [01:19<05:18, 79.52s/it]\u001b[A"
          ]
        },
        {
          "output_type": "stream",
          "name": "stdout",
          "text": [
            "epoch 1: loss: 0.90 train_f1: 0.23 test_f1: 0.19 kw_f1: 0.00\n"
          ]
        },
        {
          "output_type": "stream",
          "name": "stderr",
          "text": [
            "\n",
            " 40%|████      | 2/5 [02:38<03:57, 79.18s/it]\u001b[A"
          ]
        },
        {
          "output_type": "stream",
          "name": "stdout",
          "text": [
            "epoch 2: loss: 0.73 train_f1: 0.19 test_f1: 0.19 kw_f1: 0.00\n"
          ]
        },
        {
          "output_type": "stream",
          "name": "stderr",
          "text": [
            "\n",
            " 60%|██████    | 3/5 [03:57<02:37, 79.00s/it]\u001b[A"
          ]
        },
        {
          "output_type": "stream",
          "name": "stdout",
          "text": [
            "epoch 3: loss: 0.62 train_f1: 0.19 test_f1: 0.19 kw_f1: 0.00\n"
          ]
        },
        {
          "output_type": "stream",
          "name": "stderr",
          "text": [
            "\n",
            " 80%|████████  | 4/5 [05:16<01:19, 79.28s/it]\u001b[A"
          ]
        },
        {
          "output_type": "stream",
          "name": "stdout",
          "text": [
            "epoch 4: loss: 0.52 train_f1: 0.19 test_f1: 0.19 kw_f1: 0.00\n"
          ]
        },
        {
          "output_type": "stream",
          "name": "stderr",
          "text": [
            "\n",
            "100%|██████████| 5/5 [06:36<00:00, 79.22s/it]"
          ]
        },
        {
          "output_type": "stream",
          "name": "stdout",
          "text": [
            "epoch 5: loss: 0.45 train_f1: 0.19 test_f1: 0.19 kw_f1: 0.00\n",
            "EEG combo: EEG2 - Precision: 0.00, Recall: 0.00, F1 Score: 0.00\n",
            "Training with EEG combo: EEG3\n"
          ]
        },
        {
          "output_type": "stream",
          "name": "stderr",
          "text": [
            "\n",
            "\n",
            "  0%|          | 0/5 [00:00<?, ?it/s]\u001b[A\n",
            " 20%|██        | 1/5 [01:20<05:21, 80.44s/it]\u001b[A"
          ]
        },
        {
          "output_type": "stream",
          "name": "stdout",
          "text": [
            "epoch 1: loss: 0.91 train_f1: 0.16 test_f1: 0.19 kw_f1: 2.93\n"
          ]
        },
        {
          "output_type": "stream",
          "name": "stderr",
          "text": [
            "\n",
            " 40%|████      | 2/5 [02:39<03:58, 79.59s/it]\u001b[A"
          ]
        },
        {
          "output_type": "stream",
          "name": "stdout",
          "text": [
            "epoch 2: loss: 0.75 train_f1: 0.19 test_f1: 0.19 kw_f1: 0.00\n"
          ]
        },
        {
          "output_type": "stream",
          "name": "stderr",
          "text": [
            "\n",
            " 60%|██████    | 3/5 [03:58<02:38, 79.38s/it]\u001b[A"
          ]
        },
        {
          "output_type": "stream",
          "name": "stdout",
          "text": [
            "epoch 3: loss: 0.63 train_f1: 0.19 test_f1: 0.19 kw_f1: 0.00\n"
          ]
        },
        {
          "output_type": "stream",
          "name": "stderr",
          "text": [
            "\n",
            " 80%|████████  | 4/5 [05:17<01:19, 79.27s/it]\u001b[A"
          ]
        },
        {
          "output_type": "stream",
          "name": "stdout",
          "text": [
            "epoch 4: loss: 0.53 train_f1: 0.19 test_f1: 0.19 kw_f1: 0.00\n"
          ]
        },
        {
          "output_type": "stream",
          "name": "stderr",
          "text": [
            "\n",
            "100%|██████████| 5/5 [06:36<00:00, 79.38s/it]"
          ]
        },
        {
          "output_type": "stream",
          "name": "stdout",
          "text": [
            "epoch 5: loss: 0.45 train_f1: 0.19 test_f1: 0.19 kw_f1: 0.00\n",
            "EEG combo: EEG3 - Precision: 0.00, Recall: 0.00, F1 Score: 0.00\n",
            "Training with EEG combo: EEG4\n"
          ]
        },
        {
          "output_type": "stream",
          "name": "stderr",
          "text": [
            "\n",
            "\n",
            "  0%|          | 0/5 [00:00<?, ?it/s]\u001b[A\n",
            " 20%|██        | 1/5 [01:19<05:17, 79.43s/it]\u001b[A"
          ]
        },
        {
          "output_type": "stream",
          "name": "stdout",
          "text": [
            "epoch 1: loss: 0.90 train_f1: 0.16 test_f1: 0.19 kw_f1: 0.00\n"
          ]
        },
        {
          "output_type": "stream",
          "name": "stderr",
          "text": [
            "\n",
            " 40%|████      | 2/5 [02:39<03:58, 79.63s/it]\u001b[A"
          ]
        },
        {
          "output_type": "stream",
          "name": "stdout",
          "text": [
            "epoch 2: loss: 0.73 train_f1: 0.19 test_f1: 0.19 kw_f1: 0.00\n"
          ]
        },
        {
          "output_type": "stream",
          "name": "stderr",
          "text": [
            "\n",
            " 60%|██████    | 3/5 [03:58<02:38, 79.42s/it]\u001b[A"
          ]
        },
        {
          "output_type": "stream",
          "name": "stdout",
          "text": [
            "epoch 3: loss: 0.61 train_f1: 0.19 test_f1: 0.19 kw_f1: 0.00\n"
          ]
        },
        {
          "output_type": "stream",
          "name": "stderr",
          "text": [
            "\n",
            " 80%|████████  | 4/5 [05:17<01:19, 79.29s/it]\u001b[A"
          ]
        },
        {
          "output_type": "stream",
          "name": "stdout",
          "text": [
            "epoch 4: loss: 0.51 train_f1: 0.19 test_f1: 0.19 kw_f1: 0.00\n"
          ]
        },
        {
          "output_type": "stream",
          "name": "stderr",
          "text": [
            "\n",
            "100%|██████████| 5/5 [06:36<00:00, 79.31s/it]"
          ]
        },
        {
          "output_type": "stream",
          "name": "stdout",
          "text": [
            "epoch 5: loss: 0.44 train_f1: 0.19 test_f1: 0.19 kw_f1: 0.00\n",
            "EEG combo: EEG4 - Precision: 0.00, Recall: 0.00, F1 Score: 0.00\n",
            "Training with EEG combo: EEG5\n"
          ]
        },
        {
          "output_type": "stream",
          "name": "stderr",
          "text": [
            "\n",
            "\n",
            "  0%|          | 0/5 [00:00<?, ?it/s]\u001b[A\n",
            " 20%|██        | 1/5 [01:19<05:18, 79.58s/it]\u001b[A"
          ]
        },
        {
          "output_type": "stream",
          "name": "stdout",
          "text": [
            "epoch 1: loss: 0.90 train_f1: 0.16 test_f1: 0.19 kw_f1: 0.00\n"
          ]
        },
        {
          "output_type": "stream",
          "name": "stderr",
          "text": [
            "\n",
            " 40%|████      | 2/5 [02:38<03:57, 79.30s/it]\u001b[A"
          ]
        },
        {
          "output_type": "stream",
          "name": "stdout",
          "text": [
            "epoch 2: loss: 0.73 train_f1: 0.19 test_f1: 0.19 kw_f1: 0.00\n"
          ]
        },
        {
          "output_type": "stream",
          "name": "stderr",
          "text": [
            "\n",
            " 60%|██████    | 3/5 [03:57<02:38, 79.19s/it]\u001b[A"
          ]
        },
        {
          "output_type": "stream",
          "name": "stdout",
          "text": [
            "epoch 3: loss: 0.61 train_f1: 0.19 test_f1: 0.19 kw_f1: 0.00\n"
          ]
        },
        {
          "output_type": "stream",
          "name": "stderr",
          "text": [
            "\n",
            " 80%|████████  | 4/5 [05:16<01:19, 79.11s/it]\u001b[A"
          ]
        },
        {
          "output_type": "stream",
          "name": "stdout",
          "text": [
            "epoch 4: loss: 0.52 train_f1: 0.19 test_f1: 0.19 kw_f1: 0.00\n"
          ]
        },
        {
          "output_type": "stream",
          "name": "stderr",
          "text": [
            "\n",
            "100%|██████████| 5/5 [06:35<00:00, 79.12s/it]"
          ]
        },
        {
          "output_type": "stream",
          "name": "stdout",
          "text": [
            "epoch 5: loss: 0.44 train_f1: 0.19 test_f1: 0.19 kw_f1: 0.00\n",
            "EEG combo: EEG5 - Precision: 0.00, Recall: 0.00, F1 Score: 0.00\n",
            "Training with EEG combo: EEG6\n"
          ]
        },
        {
          "output_type": "stream",
          "name": "stderr",
          "text": [
            "\n",
            "\n",
            "  0%|          | 0/5 [00:00<?, ?it/s]\u001b[A\n",
            " 20%|██        | 1/5 [01:19<05:17, 79.48s/it]\u001b[A"
          ]
        },
        {
          "output_type": "stream",
          "name": "stdout",
          "text": [
            "epoch 1: loss: 0.89 train_f1: 0.19 test_f1: 0.19 kw_f1: 0.00\n"
          ]
        },
        {
          "output_type": "stream",
          "name": "stderr",
          "text": [
            "\n",
            " 40%|████      | 2/5 [02:39<03:59, 79.82s/it]\u001b[A"
          ]
        },
        {
          "output_type": "stream",
          "name": "stdout",
          "text": [
            "epoch 2: loss: 0.72 train_f1: 0.19 test_f1: 0.19 kw_f1: 0.00\n"
          ]
        },
        {
          "output_type": "stream",
          "name": "stderr",
          "text": [
            "\n",
            " 60%|██████    | 3/5 [03:58<02:38, 79.46s/it]\u001b[A"
          ]
        },
        {
          "output_type": "stream",
          "name": "stdout",
          "text": [
            "epoch 3: loss: 0.60 train_f1: 0.19 test_f1: 0.19 kw_f1: 0.00\n"
          ]
        },
        {
          "output_type": "stream",
          "name": "stderr",
          "text": [
            "\n",
            " 80%|████████  | 4/5 [05:17<01:19, 79.29s/it]\u001b[A"
          ]
        },
        {
          "output_type": "stream",
          "name": "stdout",
          "text": [
            "epoch 4: loss: 0.51 train_f1: 0.19 test_f1: 0.19 kw_f1: 0.00\n"
          ]
        },
        {
          "output_type": "stream",
          "name": "stderr",
          "text": [
            "\n",
            "100%|██████████| 5/5 [06:36<00:00, 79.32s/it]"
          ]
        },
        {
          "output_type": "stream",
          "name": "stdout",
          "text": [
            "epoch 5: loss: 0.43 train_f1: 0.19 test_f1: 0.19 kw_f1: 0.00\n",
            "EEG combo: EEG6 - Precision: 0.00, Recall: 0.00, F1 Score: 0.00\n",
            "Training with EEG combo: EEG7\n"
          ]
        },
        {
          "output_type": "stream",
          "name": "stderr",
          "text": [
            "\n",
            "\n",
            "  0%|          | 0/5 [00:00<?, ?it/s]\u001b[A\n",
            " 20%|██        | 1/5 [01:19<05:17, 79.48s/it]\u001b[A"
          ]
        },
        {
          "output_type": "stream",
          "name": "stdout",
          "text": [
            "epoch 1: loss: 0.92 train_f1: 0.15 test_f1: 0.19 kw_f1: 0.00\n"
          ]
        },
        {
          "output_type": "stream",
          "name": "stderr",
          "text": [
            "\n",
            " 40%|████      | 2/5 [02:38<03:57, 79.10s/it]\u001b[A"
          ]
        },
        {
          "output_type": "stream",
          "name": "stdout",
          "text": [
            "epoch 2: loss: 0.74 train_f1: 0.20 test_f1: 0.20 kw_f1: 0.00\n"
          ]
        },
        {
          "output_type": "stream",
          "name": "stderr",
          "text": [
            "\n",
            " 60%|██████    | 3/5 [03:57<02:38, 79.07s/it]\u001b[A"
          ]
        },
        {
          "output_type": "stream",
          "name": "stdout",
          "text": [
            "epoch 3: loss: 0.62 train_f1: 0.20 test_f1: 0.19 kw_f1: 0.00\n"
          ]
        },
        {
          "output_type": "stream",
          "name": "stderr",
          "text": [
            "\n",
            " 80%|████████  | 4/5 [05:16<01:19, 79.06s/it]\u001b[A"
          ]
        },
        {
          "output_type": "stream",
          "name": "stdout",
          "text": [
            "epoch 4: loss: 0.52 train_f1: 0.19 test_f1: 0.19 kw_f1: 0.00\n"
          ]
        },
        {
          "output_type": "stream",
          "name": "stderr",
          "text": [
            "\n",
            "100%|██████████| 5/5 [06:35<00:00, 79.07s/it]"
          ]
        },
        {
          "output_type": "stream",
          "name": "stdout",
          "text": [
            "epoch 5: loss: 0.45 train_f1: 0.19 test_f1: 0.19 kw_f1: 0.00\n",
            "EEG combo: EEG7 - Precision: 0.00, Recall: 0.00, F1 Score: 0.00\n",
            "Training with EEG combo: EEG8\n"
          ]
        },
        {
          "output_type": "stream",
          "name": "stderr",
          "text": [
            "\n",
            "\n",
            "  0%|          | 0/5 [00:00<?, ?it/s]\u001b[A\n",
            " 20%|██        | 1/5 [01:20<05:21, 80.41s/it]\u001b[A"
          ]
        },
        {
          "output_type": "stream",
          "name": "stdout",
          "text": [
            "epoch 1: loss: 0.89 train_f1: 0.16 test_f1: 0.20 kw_f1: 1.35\n"
          ]
        },
        {
          "output_type": "stream",
          "name": "stderr",
          "text": [
            "\n",
            " 40%|████      | 2/5 [02:39<03:59, 79.72s/it]\u001b[A"
          ]
        },
        {
          "output_type": "stream",
          "name": "stdout",
          "text": [
            "epoch 2: loss: 0.72 train_f1: 0.21 test_f1: 0.19 kw_f1: 0.00\n"
          ]
        },
        {
          "output_type": "stream",
          "name": "stderr",
          "text": [
            "\n",
            " 60%|██████    | 3/5 [03:58<02:38, 79.43s/it]\u001b[A"
          ]
        },
        {
          "output_type": "stream",
          "name": "stdout",
          "text": [
            "epoch 3: loss: 0.60 train_f1: 0.19 test_f1: 0.19 kw_f1: 0.00\n"
          ]
        },
        {
          "output_type": "stream",
          "name": "stderr",
          "text": [
            "\n",
            " 80%|████████  | 4/5 [05:17<01:19, 79.30s/it]\u001b[A"
          ]
        },
        {
          "output_type": "stream",
          "name": "stdout",
          "text": [
            "epoch 4: loss: 0.51 train_f1: 0.19 test_f1: 0.19 kw_f1: 0.00\n"
          ]
        },
        {
          "output_type": "stream",
          "name": "stderr",
          "text": [
            "\n",
            "100%|██████████| 5/5 [06:37<00:00, 79.42s/it]"
          ]
        },
        {
          "output_type": "stream",
          "name": "stdout",
          "text": [
            "epoch 5: loss: 0.44 train_f1: 0.19 test_f1: 0.19 kw_f1: 0.00\n",
            "EEG combo: EEG8 - Precision: 0.00, Recall: 0.00, F1 Score: 0.00\n",
            "Training with EEG combo: EEG1.2\n"
          ]
        },
        {
          "output_type": "stream",
          "name": "stderr",
          "text": [
            "\n",
            "\n",
            "  0%|          | 0/5 [00:00<?, ?it/s]\u001b[A\n",
            " 20%|██        | 1/5 [01:19<05:18, 79.71s/it]\u001b[A"
          ]
        },
        {
          "output_type": "stream",
          "name": "stdout",
          "text": [
            "epoch 1: loss: 0.90 train_f1: 0.18 test_f1: 0.19 kw_f1: 0.00\n"
          ]
        },
        {
          "output_type": "stream",
          "name": "stderr",
          "text": [
            "\n",
            " 40%|████      | 2/5 [02:38<03:58, 79.34s/it]\u001b[A"
          ]
        },
        {
          "output_type": "stream",
          "name": "stdout",
          "text": [
            "epoch 2: loss: 0.73 train_f1: 0.19 test_f1: 0.19 kw_f1: 0.00\n"
          ]
        },
        {
          "output_type": "stream",
          "name": "stderr",
          "text": [
            "\n",
            " 60%|██████    | 3/5 [03:57<02:38, 79.20s/it]\u001b[A"
          ]
        },
        {
          "output_type": "stream",
          "name": "stdout",
          "text": [
            "epoch 3: loss: 0.61 train_f1: 0.19 test_f1: 0.19 kw_f1: 0.00\n"
          ]
        },
        {
          "output_type": "stream",
          "name": "stderr",
          "text": [
            "\n",
            " 80%|████████  | 4/5 [05:16<01:19, 79.19s/it]\u001b[A"
          ]
        },
        {
          "output_type": "stream",
          "name": "stdout",
          "text": [
            "epoch 4: loss: 0.51 train_f1: 0.19 test_f1: 0.19 kw_f1: 0.00\n"
          ]
        },
        {
          "output_type": "stream",
          "name": "stderr",
          "text": [
            "\n",
            "100%|██████████| 5/5 [06:37<00:00, 79.42s/it]"
          ]
        },
        {
          "output_type": "stream",
          "name": "stdout",
          "text": [
            "epoch 5: loss: 0.44 train_f1: 0.19 test_f1: 0.19 kw_f1: 0.00\n",
            "EEG combo: EEG1.2 - Precision: 0.00, Recall: 0.00, F1 Score: 0.00\n",
            "Training with EEG combo: EEG2.3\n"
          ]
        },
        {
          "output_type": "stream",
          "name": "stderr",
          "text": [
            "\n",
            "\n",
            "  0%|          | 0/5 [00:00<?, ?it/s]\u001b[A\n",
            " 20%|██        | 1/5 [01:19<05:17, 79.50s/it]\u001b[A"
          ]
        },
        {
          "output_type": "stream",
          "name": "stdout",
          "text": [
            "epoch 1: loss: 0.90 train_f1: 0.16 test_f1: 0.19 kw_f1: 0.00\n"
          ]
        },
        {
          "output_type": "stream",
          "name": "stderr",
          "text": [
            "\n",
            " 40%|████      | 2/5 [02:38<03:57, 79.32s/it]\u001b[A"
          ]
        },
        {
          "output_type": "stream",
          "name": "stdout",
          "text": [
            "epoch 2: loss: 0.73 train_f1: 0.19 test_f1: 0.19 kw_f1: 0.00\n"
          ]
        },
        {
          "output_type": "stream",
          "name": "stderr",
          "text": [
            "\n",
            " 60%|██████    | 3/5 [03:57<02:38, 79.14s/it]\u001b[A"
          ]
        },
        {
          "output_type": "stream",
          "name": "stdout",
          "text": [
            "epoch 3: loss: 0.61 train_f1: 0.19 test_f1: 0.19 kw_f1: 0.00\n"
          ]
        },
        {
          "output_type": "stream",
          "name": "stderr",
          "text": [
            "\n",
            " 80%|████████  | 4/5 [05:16<01:19, 79.06s/it]\u001b[A"
          ]
        },
        {
          "output_type": "stream",
          "name": "stdout",
          "text": [
            "epoch 4: loss: 0.52 train_f1: 0.19 test_f1: 0.19 kw_f1: 0.00\n"
          ]
        },
        {
          "output_type": "stream",
          "name": "stderr",
          "text": [
            "\n",
            "100%|██████████| 5/5 [06:35<00:00, 79.13s/it]"
          ]
        },
        {
          "output_type": "stream",
          "name": "stdout",
          "text": [
            "epoch 5: loss: 0.44 train_f1: 0.19 test_f1: 0.19 kw_f1: 0.00\n",
            "EEG combo: EEG2.3 - Precision: 0.00, Recall: 0.00, F1 Score: 0.00\n",
            "Training with EEG combo: EEG3.4\n"
          ]
        },
        {
          "output_type": "stream",
          "name": "stderr",
          "text": [
            "\n",
            "\n",
            "  0%|          | 0/5 [00:00<?, ?it/s]\u001b[A\n",
            " 20%|██        | 1/5 [01:20<05:21, 80.43s/it]\u001b[A"
          ]
        },
        {
          "output_type": "stream",
          "name": "stdout",
          "text": [
            "epoch 1: loss: 0.90 train_f1: 0.20 test_f1: 0.19 kw_f1: 0.40\n"
          ]
        },
        {
          "output_type": "stream",
          "name": "stderr",
          "text": [
            "\n",
            " 40%|████      | 2/5 [02:39<03:58, 79.65s/it]\u001b[A"
          ]
        },
        {
          "output_type": "stream",
          "name": "stdout",
          "text": [
            "epoch 2: loss: 0.72 train_f1: 0.19 test_f1: 0.19 kw_f1: 0.00\n"
          ]
        },
        {
          "output_type": "stream",
          "name": "stderr",
          "text": [
            "\n",
            " 60%|██████    | 3/5 [03:58<02:38, 79.26s/it]\u001b[A"
          ]
        },
        {
          "output_type": "stream",
          "name": "stdout",
          "text": [
            "epoch 3: loss: 0.60 train_f1: 0.19 test_f1: 0.19 kw_f1: 0.00\n"
          ]
        },
        {
          "output_type": "stream",
          "name": "stderr",
          "text": [
            "\n",
            " 80%|████████  | 4/5 [05:17<01:19, 79.24s/it]\u001b[A"
          ]
        },
        {
          "output_type": "stream",
          "name": "stdout",
          "text": [
            "epoch 4: loss: 0.51 train_f1: 0.19 test_f1: 0.19 kw_f1: 0.00\n"
          ]
        },
        {
          "output_type": "stream",
          "name": "stderr",
          "text": [
            "\n",
            "100%|██████████| 5/5 [06:36<00:00, 79.35s/it]"
          ]
        },
        {
          "output_type": "stream",
          "name": "stdout",
          "text": [
            "epoch 5: loss: 0.43 train_f1: 0.19 test_f1: 0.19 kw_f1: 0.00\n",
            "EEG combo: EEG3.4 - Precision: 0.00, Recall: 0.00, F1 Score: 0.00\n",
            "Training with EEG combo: EEG4.5\n"
          ]
        },
        {
          "output_type": "stream",
          "name": "stderr",
          "text": [
            "\n",
            "\n",
            "  0%|          | 0/5 [00:00<?, ?it/s]\u001b[A\n",
            " 20%|██        | 1/5 [01:19<05:17, 79.50s/it]\u001b[A"
          ]
        },
        {
          "output_type": "stream",
          "name": "stdout",
          "text": [
            "epoch 1: loss: 0.90 train_f1: 0.16 test_f1: 0.19 kw_f1: 0.00\n"
          ]
        },
        {
          "output_type": "stream",
          "name": "stderr",
          "text": [
            "\n",
            " 40%|████      | 2/5 [02:38<03:57, 79.24s/it]\u001b[A"
          ]
        },
        {
          "output_type": "stream",
          "name": "stdout",
          "text": [
            "epoch 2: loss: 0.73 train_f1: 0.19 test_f1: 0.19 kw_f1: 0.00\n"
          ]
        },
        {
          "output_type": "stream",
          "name": "stderr",
          "text": [
            "\n",
            " 60%|██████    | 3/5 [03:57<02:38, 79.22s/it]\u001b[A"
          ]
        },
        {
          "output_type": "stream",
          "name": "stdout",
          "text": [
            "epoch 3: loss: 0.61 train_f1: 0.19 test_f1: 0.19 kw_f1: 0.00\n"
          ]
        },
        {
          "output_type": "stream",
          "name": "stderr",
          "text": [
            "\n",
            " 80%|████████  | 4/5 [05:16<01:19, 79.22s/it]\u001b[A"
          ]
        },
        {
          "output_type": "stream",
          "name": "stdout",
          "text": [
            "epoch 4: loss: 0.51 train_f1: 0.19 test_f1: 0.19 kw_f1: 0.00\n"
          ]
        },
        {
          "output_type": "stream",
          "name": "stderr",
          "text": [
            "\n",
            "100%|██████████| 5/5 [06:36<00:00, 79.23s/it]"
          ]
        },
        {
          "output_type": "stream",
          "name": "stdout",
          "text": [
            "epoch 5: loss: 0.43 train_f1: 0.19 test_f1: 0.19 kw_f1: 0.00\n",
            "EEG combo: EEG4.5 - Precision: 0.00, Recall: 0.00, F1 Score: 0.00\n",
            "Training with EEG combo: EEG5.6\n"
          ]
        },
        {
          "output_type": "stream",
          "name": "stderr",
          "text": [
            "\n",
            "\n",
            "  0%|          | 0/5 [00:00<?, ?it/s]\u001b[A\n",
            " 20%|██        | 1/5 [01:19<05:18, 79.62s/it]\u001b[A"
          ]
        },
        {
          "output_type": "stream",
          "name": "stdout",
          "text": [
            "epoch 1: loss: 0.92 train_f1: 0.15 test_f1: 0.19 kw_f1: 0.00\n"
          ]
        },
        {
          "output_type": "stream",
          "name": "stderr",
          "text": [
            "\n",
            " 40%|████      | 2/5 [02:38<03:57, 79.33s/it]\u001b[A"
          ]
        },
        {
          "output_type": "stream",
          "name": "stdout",
          "text": [
            "epoch 2: loss: 0.74 train_f1: 0.19 test_f1: 0.19 kw_f1: 0.00\n"
          ]
        },
        {
          "output_type": "stream",
          "name": "stderr",
          "text": [
            "\n",
            " 60%|██████    | 3/5 [03:58<02:39, 79.58s/it]\u001b[A"
          ]
        },
        {
          "output_type": "stream",
          "name": "stdout",
          "text": [
            "epoch 3: loss: 0.62 train_f1: 0.19 test_f1: 0.19 kw_f1: 0.00\n"
          ]
        },
        {
          "output_type": "stream",
          "name": "stderr",
          "text": [
            "\n",
            " 80%|████████  | 4/5 [05:17<01:19, 79.36s/it]\u001b[A"
          ]
        },
        {
          "output_type": "stream",
          "name": "stdout",
          "text": [
            "epoch 4: loss: 0.52 train_f1: 0.19 test_f1: 0.19 kw_f1: 0.00\n"
          ]
        },
        {
          "output_type": "stream",
          "name": "stderr",
          "text": [
            "\n",
            "100%|██████████| 5/5 [06:36<00:00, 79.33s/it]"
          ]
        },
        {
          "output_type": "stream",
          "name": "stdout",
          "text": [
            "epoch 5: loss: 0.45 train_f1: 0.19 test_f1: 0.19 kw_f1: 0.00\n",
            "EEG combo: EEG5.6 - Precision: 0.00, Recall: 0.00, F1 Score: 0.00\n",
            "Training with EEG combo: EEG6.7\n"
          ]
        },
        {
          "output_type": "stream",
          "name": "stderr",
          "text": [
            "\n",
            "\n",
            "  0%|          | 0/5 [00:00<?, ?it/s]\u001b[A\n",
            " 20%|██        | 1/5 [01:19<05:17, 79.49s/it]\u001b[A"
          ]
        },
        {
          "output_type": "stream",
          "name": "stdout",
          "text": [
            "epoch 1: loss: 0.92 train_f1: 0.15 test_f1: 0.19 kw_f1: 0.00\n"
          ]
        },
        {
          "output_type": "stream",
          "name": "stderr",
          "text": [
            "\n",
            " 40%|████      | 2/5 [02:38<03:57, 79.27s/it]\u001b[A"
          ]
        },
        {
          "output_type": "stream",
          "name": "stdout",
          "text": [
            "epoch 2: loss: 0.74 train_f1: 0.20 test_f1: 0.19 kw_f1: 0.00\n"
          ]
        },
        {
          "output_type": "stream",
          "name": "stderr",
          "text": [
            "\n",
            " 60%|██████    | 3/5 [03:57<02:38, 79.21s/it]\u001b[A"
          ]
        },
        {
          "output_type": "stream",
          "name": "stdout",
          "text": [
            "epoch 3: loss: 0.62 train_f1: 0.19 test_f1: 0.19 kw_f1: 0.00\n"
          ]
        },
        {
          "output_type": "stream",
          "name": "stderr",
          "text": [
            "\n",
            " 80%|████████  | 4/5 [05:16<01:19, 79.14s/it]\u001b[A"
          ]
        },
        {
          "output_type": "stream",
          "name": "stdout",
          "text": [
            "epoch 4: loss: 0.52 train_f1: 0.19 test_f1: 0.19 kw_f1: 0.00\n"
          ]
        },
        {
          "output_type": "stream",
          "name": "stderr",
          "text": [
            "\n",
            "100%|██████████| 5/5 [06:35<00:00, 79.13s/it]"
          ]
        },
        {
          "output_type": "stream",
          "name": "stdout",
          "text": [
            "epoch 5: loss: 0.44 train_f1: 0.19 test_f1: 0.19 kw_f1: 0.00\n",
            "EEG combo: EEG6.7 - Precision: 0.00, Recall: 0.00, F1 Score: 0.00\n",
            "Training with EEG combo: EEG7.8\n"
          ]
        },
        {
          "output_type": "stream",
          "name": "stderr",
          "text": [
            "\n",
            "\n",
            "  0%|          | 0/5 [00:00<?, ?it/s]\u001b[A\n",
            " 20%|██        | 1/5 [01:19<05:17, 79.47s/it]\u001b[A"
          ]
        },
        {
          "output_type": "stream",
          "name": "stdout",
          "text": [
            "epoch 1: loss: 0.90 train_f1: 0.16 test_f1: 0.19 kw_f1: 0.00\n"
          ]
        },
        {
          "output_type": "stream",
          "name": "stderr",
          "text": [
            "\n",
            " 40%|████      | 2/5 [02:38<03:57, 79.21s/it]\u001b[A"
          ]
        },
        {
          "output_type": "stream",
          "name": "stdout",
          "text": [
            "epoch 2: loss: 0.73 train_f1: 0.19 test_f1: 0.19 kw_f1: 0.00\n"
          ]
        },
        {
          "output_type": "stream",
          "name": "stderr",
          "text": [
            "\n",
            " 60%|██████    | 3/5 [03:57<02:38, 79.17s/it]\u001b[A"
          ]
        },
        {
          "output_type": "stream",
          "name": "stdout",
          "text": [
            "epoch 3: loss: 0.61 train_f1: 0.19 test_f1: 0.19 kw_f1: 0.00\n"
          ]
        },
        {
          "output_type": "stream",
          "name": "stderr",
          "text": [
            "\n",
            " 80%|████████  | 4/5 [05:16<01:19, 79.13s/it]\u001b[A"
          ]
        },
        {
          "output_type": "stream",
          "name": "stdout",
          "text": [
            "epoch 4: loss: 0.51 train_f1: 0.19 test_f1: 0.19 kw_f1: 0.00\n"
          ]
        },
        {
          "output_type": "stream",
          "name": "stderr",
          "text": [
            "\n",
            "100%|██████████| 5/5 [06:35<00:00, 79.17s/it]"
          ]
        },
        {
          "output_type": "stream",
          "name": "stdout",
          "text": [
            "epoch 5: loss: 0.43 train_f1: 0.19 test_f1: 0.19 kw_f1: 0.00\n",
            "EEG combo: EEG7.8 - Precision: 0.00, Recall: 0.00, F1 Score: 0.00\n"
          ]
        },
        {
          "output_type": "stream",
          "name": "stderr",
          "text": [
            "\n"
          ]
        }
      ]
    },
    {
      "cell_type": "markdown",
      "source": [
        " ###定义词级别和句子级别的注意力层"
      ],
      "metadata": {
        "collapsed": false,
        "pycharm": {
          "name": "#%% md\n"
        },
        "id": "eFvIYtSqCBYw"
      }
    },
    {
      "cell_type": "markdown",
      "source": [
        "层注意力 2.0"
      ],
      "metadata": {
        "collapsed": false,
        "id": "ndaZZOUHCBYw"
      }
    },
    {
      "cell_type": "code",
      "execution_count": null,
      "outputs": [],
      "source": [
        "import torch\n",
        "import torch.nn as nn\n",
        "import torch.nn.functional as F\n",
        "from transformers import BertModel\n",
        "from sklearn.metrics import f1_score\n",
        "from tqdm import tqdm\n",
        "from torch.utils.data import DataLoader"
      ],
      "metadata": {
        "pycharm": {
          "name": "#%%\n"
        },
        "id": "6gsoKH3gCBYx"
      }
    },
    {
      "cell_type": "code",
      "execution_count": null,
      "outputs": [
        {
          "name": "stderr",
          "output_type": "stream",
          "text": [
            "A parameter name that contains `beta` will be renamed internally to `bias`. Please use a different name to suppress this warning.\n",
            "A parameter name that contains `gamma` will be renamed internally to `weight`. Please use a different name to suppress this warning.\n",
            "A parameter name that contains `beta` will be renamed internally to `bias`. Please use a different name to suppress this warning.\n",
            "A parameter name that contains `gamma` will be renamed internally to `weight`. Please use a different name to suppress this warning.\n",
            "A parameter name that contains `beta` will be renamed internally to `bias`. Please use a different name to suppress this warning.\n",
            "A parameter name that contains `gamma` will be renamed internally to `weight`. Please use a different name to suppress this warning.\n",
            "A parameter name that contains `beta` will be renamed internally to `bias`. Please use a different name to suppress this warning.\n",
            "A parameter name that contains `gamma` will be renamed internally to `weight`. Please use a different name to suppress this warning.\n",
            "A parameter name that contains `beta` will be renamed internally to `bias`. Please use a different name to suppress this warning.\n",
            "A parameter name that contains `gamma` will be renamed internally to `weight`. Please use a different name to suppress this warning.\n",
            "A parameter name that contains `beta` will be renamed internally to `bias`. Please use a different name to suppress this warning.\n",
            "A parameter name that contains `gamma` will be renamed internally to `weight`. Please use a different name to suppress this warning.\n",
            "A parameter name that contains `beta` will be renamed internally to `bias`. Please use a different name to suppress this warning.\n",
            "A parameter name that contains `gamma` will be renamed internally to `weight`. Please use a different name to suppress this warning.\n",
            "A parameter name that contains `beta` will be renamed internally to `bias`. Please use a different name to suppress this warning.\n",
            "A parameter name that contains `gamma` will be renamed internally to `weight`. Please use a different name to suppress this warning.\n",
            "A parameter name that contains `beta` will be renamed internally to `bias`. Please use a different name to suppress this warning.\n",
            "A parameter name that contains `gamma` will be renamed internally to `weight`. Please use a different name to suppress this warning.\n",
            "A parameter name that contains `beta` will be renamed internally to `bias`. Please use a different name to suppress this warning.\n",
            "A parameter name that contains `gamma` will be renamed internally to `weight`. Please use a different name to suppress this warning.\n",
            "A parameter name that contains `beta` will be renamed internally to `bias`. Please use a different name to suppress this warning.\n",
            "A parameter name that contains `gamma` will be renamed internally to `weight`. Please use a different name to suppress this warning.\n",
            "A parameter name that contains `beta` will be renamed internally to `bias`. Please use a different name to suppress this warning.\n",
            "A parameter name that contains `gamma` will be renamed internally to `weight`. Please use a different name to suppress this warning.\n",
            "A parameter name that contains `beta` will be renamed internally to `bias`. Please use a different name to suppress this warning.\n",
            "A parameter name that contains `gamma` will be renamed internally to `weight`. Please use a different name to suppress this warning.\n",
            "A parameter name that contains `beta` will be renamed internally to `bias`. Please use a different name to suppress this warning.\n",
            "A parameter name that contains `gamma` will be renamed internally to `weight`. Please use a different name to suppress this warning.\n",
            "A parameter name that contains `beta` will be renamed internally to `bias`. Please use a different name to suppress this warning.\n",
            "A parameter name that contains `gamma` will be renamed internally to `weight`. Please use a different name to suppress this warning.\n",
            "A parameter name that contains `beta` will be renamed internally to `bias`. Please use a different name to suppress this warning.\n",
            "A parameter name that contains `gamma` will be renamed internally to `weight`. Please use a different name to suppress this warning.\n",
            "A parameter name that contains `beta` will be renamed internally to `bias`. Please use a different name to suppress this warning.\n",
            "A parameter name that contains `gamma` will be renamed internally to `weight`. Please use a different name to suppress this warning.\n",
            "A parameter name that contains `beta` will be renamed internally to `bias`. Please use a different name to suppress this warning.\n",
            "A parameter name that contains `gamma` will be renamed internally to `weight`. Please use a different name to suppress this warning.\n",
            "A parameter name that contains `beta` will be renamed internally to `bias`. Please use a different name to suppress this warning.\n",
            "A parameter name that contains `gamma` will be renamed internally to `weight`. Please use a different name to suppress this warning.\n",
            "A parameter name that contains `beta` will be renamed internally to `bias`. Please use a different name to suppress this warning.\n",
            "A parameter name that contains `gamma` will be renamed internally to `weight`. Please use a different name to suppress this warning.\n",
            "A parameter name that contains `beta` will be renamed internally to `bias`. Please use a different name to suppress this warning.\n",
            "A parameter name that contains `gamma` will be renamed internally to `weight`. Please use a different name to suppress this warning.\n",
            "A parameter name that contains `beta` will be renamed internally to `bias`. Please use a different name to suppress this warning.\n",
            "A parameter name that contains `gamma` will be renamed internally to `weight`. Please use a different name to suppress this warning.\n",
            "A parameter name that contains `beta` will be renamed internally to `bias`. Please use a different name to suppress this warning.\n",
            "A parameter name that contains `gamma` will be renamed internally to `weight`. Please use a different name to suppress this warning.\n",
            "A parameter name that contains `beta` will be renamed internally to `bias`. Please use a different name to suppress this warning.\n",
            "A parameter name that contains `gamma` will be renamed internally to `weight`. Please use a different name to suppress this warning.\n",
            "A parameter name that contains `beta` will be renamed internally to `bias`. Please use a different name to suppress this warning.\n",
            "A parameter name that contains `gamma` will be renamed internally to `weight`. Please use a different name to suppress this warning.\n",
            "A parameter name that contains `beta` will be renamed internally to `bias`. Please use a different name to suppress this warning.\n",
            "A parameter name that contains `gamma` will be renamed internally to `weight`. Please use a different name to suppress this warning.\n"
          ]
        },
        {
          "name": "stdout",
          "output_type": "stream",
          "text": [
            "epoch1:  loss:0.28   train_f1_value:0.16  test_f1_value:0.19  kw_f1_value:0.25\n",
            "epoch2:  loss:0.24   train_f1_value:0.19  test_f1_value:0.19  kw_f1_value:0.00\n",
            "epoch3:  loss:0.23   train_f1_value:0.19  test_f1_value:0.19  kw_f1_value:0.37\n",
            "epoch4:  loss:0.22   train_f1_value:0.19  test_f1_value:0.19  kw_f1_value:0.25\n",
            "epoch5:  loss:0.21   train_f1_value:0.19  test_f1_value:0.19  kw_f1_value:0.37\n"
          ]
        }
      ],
      "source": [
        "import torch\n",
        "import torch.nn.functional as F\n",
        "from tqdm import tqdm\n",
        "from sklearn.metrics import f1_score\n",
        "from transformers import BertModel\n",
        "from torch import nn\n",
        "from torch.cuda.amp import autocast, GradScaler\n",
        "\n",
        "class Attention(nn.Module):\n",
        "    def __init__(self, hidden_dim):\n",
        "        super(Attention, self).__init__()\n",
        "        self.context = nn.Parameter(torch.FloatTensor(hidden_dim, 1))\n",
        "        nn.init.xavier_uniform_(self.context)\n",
        "\n",
        "    def forward(self, x, mask=None):\n",
        "        attention_in = torch.tanh(torch.matmul(x, self.context))\n",
        "        attention_in = torch.squeeze(attention_in, -1)\n",
        "        if mask is not None:\n",
        "            attention_in = attention_in * mask.float()\n",
        "        attention_weights = F.softmax(attention_in, dim=-1)\n",
        "        weighted_sum = torch.bmm(attention_weights.unsqueeze(1), x).squeeze(1)\n",
        "        return weighted_sum\n",
        "\n",
        "class BertHANModel(nn.Module):\n",
        "    def __init__(self, num_labels, hidden_dim=768, rnn_dim=256):\n",
        "        super(BertHANModel, self).__init__()\n",
        "        self.bert = BertModel.from_pretrained('bert-base-uncased')\n",
        "        self.word_attention = Attention(hidden_dim)\n",
        "        self.rnn = nn.GRU(hidden_dim, rnn_dim, batch_first=True, bidirectional=True)\n",
        "        self.sentence_attention = Attention(rnn_dim * 2)\n",
        "        self.classifier = nn.Linear(rnn_dim * 2 + 8, num_labels)  # 修改为17维\n",
        "\n",
        "    def forward(self, input_ids, attention_mask, extra_features):\n",
        "        bert_outputs = self.bert(input_ids, attention_mask=attention_mask)\n",
        "        sequence_output = bert_outputs[0]  # shape: (batch_size, seq_length, hidden_dim)\n",
        "\n",
        "        # Word-level attention\n",
        "        word_attention_output = self.word_attention(sequence_output)\n",
        "\n",
        "        # Sentence-level GRU\n",
        "        rnn_output, _ = self.rnn(word_attention_output.unsqueeze(1))\n",
        "\n",
        "        # Sentence-level attention\n",
        "        sentence_attention_output = self.sentence_attention(rnn_output)\n",
        "\n",
        "        # 确保 sentence_attention_output 是三维张量\n",
        "        if sentence_attention_output.dim() == 2:\n",
        "            # 将其调整为三维张量 [batch_size, seq_len, rnn_dim * 2]\n",
        "            sentence_attention_output = sentence_attention_output.unsqueeze(1).expand(-1, extra_features.size(1), -1)\n",
        "\n",
        "        # 只使用前 17 个 ET 特征\n",
        "        eye_tracking_features = extra_features[:, :, -8:]  # [batch_size, seq_len, 17]\n",
        "\n",
        "        # 打印维度以调试\n",
        "        # print(f\"Adjusted sentence_attention_output shape: {sentence_attention_output.shape}\")\n",
        "        # print(f\"eye_tracking_features shape: {eye_tracking_features.shape}\")\n",
        "\n",
        "        # 拼接特征\n",
        "        combined_output = torch.cat((sentence_attention_output, eye_tracking_features), dim=-1)  # [batch_size, seq_len, rnn_dim * 2 + 17]\n",
        "\n",
        "        logits = self.classifier(combined_output)  # shape: (batch_size, seq_len, num_labels)\n",
        "\n",
        "        return logits  # 返回 shape: (batch_size, seq_length, num_labels)\n",
        "\n",
        "\n",
        "\n",
        "\n",
        "\n",
        "def calculate_f1(y_pred, y_true):\n",
        "    y_true = y_true.view(-1)\n",
        "    y_pred = y_pred.view(-1)\n",
        "    y_true = y_true.detach().cpu().numpy()\n",
        "    y_pred = y_pred.detach().cpu().numpy()\n",
        "    mask = np.where(y_true != 0)\n",
        "    y_true = y_true[mask]\n",
        "    y_pred = y_pred[mask]\n",
        "    return y_pred, y_true\n",
        "\n",
        "def TagConvert(raw_tags, words_set, poss=None):\n",
        "    true_tags = []\n",
        "    for i in range(raw_tags.shape[0]):\n",
        "        kw_list = []\n",
        "        nkw_list = \"\"\n",
        "        for j in range(len(raw_tags[i])):\n",
        "            item = raw_tags[i][j]\n",
        "            if item == 0:\n",
        "                continue\n",
        "            if poss != None and j in poss[i]:\n",
        "                continue\n",
        "            if item == 4:\n",
        "                kw_list.append(str(words_set[j][i]))\n",
        "            if item == 1:\n",
        "                nkw_list += str(words_set[j][i])\n",
        "            if item == 2:\n",
        "                nkw_list += \" \"\n",
        "                nkw_list += str(words_set[j][i])\n",
        "            if item == 3:\n",
        "                nkw_list += \" \"\n",
        "                nkw_list += str(words_set[j][i])\n",
        "                kw_list.append(nkw_list)\n",
        "                nkw_list = \"\"\n",
        "        true_tags.append(kw_list)\n",
        "    return true_tags\n",
        "\n",
        "def evaluate(predict_data, target_data, topk=3):\n",
        "    TRUE_COUNT, PRED_COUNT, GOLD_COUNT = 0.0, 0.0, 0.0\n",
        "    for index, words in enumerate(predict_data):\n",
        "        y_pred, y_true = None, target_data[index]\n",
        "        if type(predict_data) == str:\n",
        "            words = sorted(words.items(), key=lambda item: (-item[1], item[0]))\n",
        "            y_pred = [i[0] for i in words]\n",
        "        elif type(predict_data) == list:\n",
        "            y_pred = words\n",
        "        y_pred = y_pred[0: topk]\n",
        "        TRUE_NUM = len(set(y_pred) & set(y_true))\n",
        "        TRUE_COUNT += TRUE_NUM\n",
        "        PRED_COUNT += len(y_pred)\n",
        "        GOLD_COUNT += len(y_true)\n",
        "    if PRED_COUNT != 0:\n",
        "        p = (TRUE_COUNT / PRED_COUNT)\n",
        "    else:\n",
        "        p = 0\n",
        "    if GOLD_COUNT != 0:\n",
        "        r = (TRUE_COUNT / GOLD_COUNT)\n",
        "    else:\n",
        "        r = 0\n",
        "    if (r + p) != 0:\n",
        "        f1 = ((2 * r * p) / (r + p))\n",
        "    else:\n",
        "        f1 = 0\n",
        "    p = round(p * 100, 2)\n",
        "    r = round(r * 100, 2)\n",
        "    f1 = round(f1 * 100, 2)\n",
        "    return p, r, f1\n",
        "\n",
        "# 假设已经定义了数据集和数据加载器\n",
        "# train_dataloader = ...\n",
        "# test_dataloader = ...\n",
        "\n",
        "# 训练和评估\n",
        "device = torch.device('cuda' if torch.cuda.is_available() else 'cpu')\n",
        "model = BertHANModel(num_labels=6)\n",
        "model = model.to(device)\n",
        "optim = torch.optim.AdamW(model.parameters(), lr=5e-5, weight_decay=1e-2)\n",
        "loss_fn = nn.CrossEntropyLoss(reduction='none', ignore_index=0)\n",
        "loss_fn = loss_fn.to(device)\n",
        "\n",
        "epochs = 5\n",
        "best_f1 = 0.0\n",
        "scaler = GradScaler()\n",
        "\n",
        "for epoch in range(epochs):\n",
        "    loss_value = 0.0\n",
        "    model.train()\n",
        "    label_true, label_pred = [], []\n",
        "    for i, batch in enumerate(train_dataloader):\n",
        "        optim.zero_grad()\n",
        "#input_ids, attention_masks, _, features, tags = batch\n",
        "        input_ids = batch[0].to(device)\n",
        "        attention_masks = batch[1].to(device)\n",
        "        features = batch[3].to(device)\n",
        "        tags = batch[4].to(device)\n",
        "\n",
        "        with autocast():\n",
        "            pred_tags = model(input_ids, attention_masks,features)\n",
        "\n",
        "            # 展平 pred_tags 和 tags 以匹配形状\n",
        "            pred_tags = pred_tags.reshape(-1, pred_tags.size(-1))\n",
        "            tags = tags.reshape(-1)\n",
        "\n",
        "            #print(f\"pred_tags shape: {pred_tags.shape}, tags shape: {tags.shape}\")\n",
        "\n",
        "            loss = loss_fn(pred_tags, tags)\n",
        "            loss = loss.mean()\n",
        "\n",
        "        scaler.scale(loss).backward()\n",
        "        scaler.step(optim)\n",
        "        scaler.update()\n",
        "\n",
        "        pred_tags = F.softmax(pred_tags, dim=-1)\n",
        "        pred_tags = torch.argmax(pred_tags, dim=-1)\n",
        "        y_pred, y_true = calculate_f1(pred_tags, tags)\n",
        "        label_true.extend(y_true)\n",
        "        label_pred.extend(y_pred)\n",
        "        loss_value += loss.item()\n",
        "\n",
        "    label_train_f1 = f1_score(label_true, label_pred, average='macro')\n",
        "\n",
        "    model.eval()\n",
        "    kw_true, kw_pred = [], []\n",
        "    label_true, label_pred = [], []\n",
        "    for i, batch in enumerate(test_dataloader):\n",
        "        input_ids = batch[0].to(device)\n",
        "        attention_masks = batch[1].to(device)\n",
        "        tokens = batch[2]  # tokens 不是 Tensor，直接使用\n",
        "        features = batch[3].to(device)\n",
        "        tags = batch[4].to(device)\n",
        "\n",
        "        with torch.no_grad():\n",
        "            for module in model.modules():\n",
        "                if isinstance(module, nn.Dropout):\n",
        "                    module.p = 0\n",
        "                    module.train(False)\n",
        "            with autocast():\n",
        "                pred_tags = model(input_ids, attention_masks,features)\n",
        "                pred_tags = F.softmax(pred_tags, dim=-1)\n",
        "                pred_tags = torch.argmax(pred_tags, dim=-1)\n",
        "\n",
        "        y_pred, y_true = calculate_f1(pred_tags, tags)\n",
        "        label_true.extend(y_true)\n",
        "        label_pred.extend(y_pred)\n",
        "\n",
        "        poss = []\n",
        "        for i in range(len(tags)):\n",
        "            pos = []\n",
        "            for j in range(len(tags[i])):\n",
        "                if tags[i][j] == 0:\n",
        "                    pos.append(j)\n",
        "            poss.append(pos)\n",
        "\n",
        "        kw_true.extend(TagConvert(tags, tokens))\n",
        "        kw_pred.extend(TagConvert(pred_tags, tokens, poss))\n",
        "\n",
        "    label_f1 = f1_score(label_true, label_pred, average='macro')\n",
        "    P, R, F1 = evaluate(kw_true, kw_pred)\n",
        "\n",
        "    if F1 > best_f1:\n",
        "        best_f1 = F1\n",
        "        torch.save(model.state_dict(), './pretrain_pt/bert_HAtten_EGG.pt')\n",
        "\n",
        "    print(\"epoch{}:  loss:{:.2f}   train_f1_value:{:.2f}  test_f1_value:{:.2f}  kw_f1_value:{:.2f}\".format(\n",
        "        epoch + 1, loss_value / len(train_dataloader), label_train_f1, label_f1, F1\n",
        "    ))\n",
        "\n",
        "    torch.cuda.empty_cache()\n"
      ],
      "metadata": {
        "pycharm": {
          "name": "#%%\n"
        },
        "id": "5hPkvl3VCBYx",
        "outputId": "cbdcc222-d744-4a5f-9b3d-fc8025ec42fb"
      }
    },
    {
      "cell_type": "code",
      "execution_count": null,
      "outputs": [
        {
          "name": "stderr",
          "output_type": "stream",
          "text": [
            "A parameter name that contains `beta` will be renamed internally to `bias`. Please use a different name to suppress this warning.\n",
            "A parameter name that contains `gamma` will be renamed internally to `weight`. Please use a different name to suppress this warning.\n",
            "A parameter name that contains `beta` will be renamed internally to `bias`. Please use a different name to suppress this warning.\n",
            "A parameter name that contains `gamma` will be renamed internally to `weight`. Please use a different name to suppress this warning.\n",
            "A parameter name that contains `beta` will be renamed internally to `bias`. Please use a different name to suppress this warning.\n",
            "A parameter name that contains `gamma` will be renamed internally to `weight`. Please use a different name to suppress this warning.\n",
            "A parameter name that contains `beta` will be renamed internally to `bias`. Please use a different name to suppress this warning.\n",
            "A parameter name that contains `gamma` will be renamed internally to `weight`. Please use a different name to suppress this warning.\n",
            "A parameter name that contains `beta` will be renamed internally to `bias`. Please use a different name to suppress this warning.\n",
            "A parameter name that contains `gamma` will be renamed internally to `weight`. Please use a different name to suppress this warning.\n",
            "A parameter name that contains `beta` will be renamed internally to `bias`. Please use a different name to suppress this warning.\n",
            "A parameter name that contains `gamma` will be renamed internally to `weight`. Please use a different name to suppress this warning.\n",
            "A parameter name that contains `beta` will be renamed internally to `bias`. Please use a different name to suppress this warning.\n",
            "A parameter name that contains `gamma` will be renamed internally to `weight`. Please use a different name to suppress this warning.\n",
            "A parameter name that contains `beta` will be renamed internally to `bias`. Please use a different name to suppress this warning.\n",
            "A parameter name that contains `gamma` will be renamed internally to `weight`. Please use a different name to suppress this warning.\n",
            "A parameter name that contains `beta` will be renamed internally to `bias`. Please use a different name to suppress this warning.\n",
            "A parameter name that contains `gamma` will be renamed internally to `weight`. Please use a different name to suppress this warning.\n",
            "A parameter name that contains `beta` will be renamed internally to `bias`. Please use a different name to suppress this warning.\n",
            "A parameter name that contains `gamma` will be renamed internally to `weight`. Please use a different name to suppress this warning.\n",
            "A parameter name that contains `beta` will be renamed internally to `bias`. Please use a different name to suppress this warning.\n",
            "A parameter name that contains `gamma` will be renamed internally to `weight`. Please use a different name to suppress this warning.\n",
            "A parameter name that contains `beta` will be renamed internally to `bias`. Please use a different name to suppress this warning.\n",
            "A parameter name that contains `gamma` will be renamed internally to `weight`. Please use a different name to suppress this warning.\n",
            "A parameter name that contains `beta` will be renamed internally to `bias`. Please use a different name to suppress this warning.\n",
            "A parameter name that contains `gamma` will be renamed internally to `weight`. Please use a different name to suppress this warning.\n",
            "A parameter name that contains `beta` will be renamed internally to `bias`. Please use a different name to suppress this warning.\n",
            "A parameter name that contains `gamma` will be renamed internally to `weight`. Please use a different name to suppress this warning.\n",
            "A parameter name that contains `beta` will be renamed internally to `bias`. Please use a different name to suppress this warning.\n",
            "A parameter name that contains `gamma` will be renamed internally to `weight`. Please use a different name to suppress this warning.\n",
            "A parameter name that contains `beta` will be renamed internally to `bias`. Please use a different name to suppress this warning.\n",
            "A parameter name that contains `gamma` will be renamed internally to `weight`. Please use a different name to suppress this warning.\n",
            "A parameter name that contains `beta` will be renamed internally to `bias`. Please use a different name to suppress this warning.\n",
            "A parameter name that contains `gamma` will be renamed internally to `weight`. Please use a different name to suppress this warning.\n",
            "A parameter name that contains `beta` will be renamed internally to `bias`. Please use a different name to suppress this warning.\n",
            "A parameter name that contains `gamma` will be renamed internally to `weight`. Please use a different name to suppress this warning.\n",
            "A parameter name that contains `beta` will be renamed internally to `bias`. Please use a different name to suppress this warning.\n",
            "A parameter name that contains `gamma` will be renamed internally to `weight`. Please use a different name to suppress this warning.\n",
            "A parameter name that contains `beta` will be renamed internally to `bias`. Please use a different name to suppress this warning.\n",
            "A parameter name that contains `gamma` will be renamed internally to `weight`. Please use a different name to suppress this warning.\n",
            "A parameter name that contains `beta` will be renamed internally to `bias`. Please use a different name to suppress this warning.\n",
            "A parameter name that contains `gamma` will be renamed internally to `weight`. Please use a different name to suppress this warning.\n",
            "A parameter name that contains `beta` will be renamed internally to `bias`. Please use a different name to suppress this warning.\n",
            "A parameter name that contains `gamma` will be renamed internally to `weight`. Please use a different name to suppress this warning.\n",
            "A parameter name that contains `beta` will be renamed internally to `bias`. Please use a different name to suppress this warning.\n",
            "A parameter name that contains `gamma` will be renamed internally to `weight`. Please use a different name to suppress this warning.\n",
            "A parameter name that contains `beta` will be renamed internally to `bias`. Please use a different name to suppress this warning.\n",
            "A parameter name that contains `gamma` will be renamed internally to `weight`. Please use a different name to suppress this warning.\n",
            "A parameter name that contains `beta` will be renamed internally to `bias`. Please use a different name to suppress this warning.\n",
            "A parameter name that contains `gamma` will be renamed internally to `weight`. Please use a different name to suppress this warning.\n",
            "A parameter name that contains `beta` will be renamed internally to `bias`. Please use a different name to suppress this warning.\n",
            "A parameter name that contains `gamma` will be renamed internally to `weight`. Please use a different name to suppress this warning.\n"
          ]
        },
        {
          "name": "stdout",
          "output_type": "stream",
          "text": [
            "label_f1: 0.19, Precision: 0.18, Recall: 37.50, F1: 0.37\n"
          ]
        }
      ],
      "source": [
        "def load_model(model_path, num_labels):\n",
        "    device = torch.device('cuda' if torch.cuda.is_available() else 'cpu')\n",
        "    model = BertHANModel(num_labels=num_labels)\n",
        "    model.load_state_dict(torch.load(model_path))\n",
        "    model = model.to(device)\n",
        "    model.eval()\n",
        "    return model\n",
        "\n",
        "def calculate_f1(y_pred, y_true):\n",
        "    y_true = y_true.view(-1)\n",
        "    y_pred = y_pred.view(-1)\n",
        "    y_true = y_true.detach().cpu().numpy()\n",
        "    y_pred = y_pred.detach().cpu().numpy()\n",
        "    mask = np.where(y_true != 0)\n",
        "    y_true = y_true[mask]\n",
        "    y_pred = y_pred[mask]\n",
        "    return y_pred, y_true\n",
        "\n",
        "def TagConvert(raw_tags, words_set, poss=None):\n",
        "    true_tags = []\n",
        "    for i in range(raw_tags.shape[0]):\n",
        "        kw_list = []\n",
        "        nkw_list = \"\"\n",
        "        for j in range(len(raw_tags[i])):\n",
        "            item = raw_tags[i][j]\n",
        "            if item == 0:\n",
        "                continue\n",
        "            if poss != None and j in poss[i]:\n",
        "                continue\n",
        "            if item == 4:\n",
        "                kw_list.append(str(words_set[j][i]))\n",
        "            if item == 1:\n",
        "                nkw_list += str(words_set[j][i])\n",
        "            if item == 2:\n",
        "                nkw_list += \" \"\n",
        "                nkw_list += str(words_set[j][i])\n",
        "            if item == 3:\n",
        "                nkw_list += \" \"\n",
        "                nkw_list += str(words_set[j][i])\n",
        "                kw_list.append(nkw_list)\n",
        "                nkw_list = \"\"\n",
        "        true_tags.append(kw_list)\n",
        "    return true_tags\n",
        "\n",
        "def evaluate(predict_data, target_data, topk=3):\n",
        "    TRUE_COUNT, PRED_COUNT, GOLD_COUNT = 0.0, 0.0, 0.0\n",
        "    for index, words in enumerate(predict_data):\n",
        "        y_pred, y_true = None, target_data[index]\n",
        "        if type(predict_data) == str:\n",
        "            words = sorted(words.items(), key=lambda item: (-item[1], item[0]))\n",
        "            y_pred = [i[0] for i in words]\n",
        "        elif type(predict_data) == list:\n",
        "            y_pred = words\n",
        "        y_pred = y_pred[0: topk]\n",
        "        TRUE_NUM = len(set(y_pred) & set(y_true))\n",
        "        TRUE_COUNT += TRUE_NUM\n",
        "        PRED_COUNT += len(y_pred)\n",
        "        GOLD_COUNT += len(y_true)\n",
        "    if PRED_COUNT != 0:\n",
        "        p = (TRUE_COUNT / PRED_COUNT)\n",
        "    else:\n",
        "        p = 0\n",
        "    if GOLD_COUNT != 0:\n",
        "        r = (TRUE_COUNT / GOLD_COUNT)\n",
        "    else:\n",
        "        r = 0\n",
        "    if (r + p) != 0:\n",
        "        f1 = ((2 * r * p) / (r + p))\n",
        "    else:\n",
        "        f1 = 0\n",
        "    p = round(p * 100, 2)\n",
        "    r = round(r * 100, 2)\n",
        "    f1 = round(f1 * 100, 2)\n",
        "    return p, r, f1\n",
        "\n",
        "def predict_and_evaluate(model, dataloader):\n",
        "    device = torch.device('cuda' if torch.cuda.is_available() else 'cpu')\n",
        "    label_true, label_pred = [], []\n",
        "    kw_true, kw_pred = [], []\n",
        "\n",
        "    model.eval()\n",
        "    with torch.no_grad():\n",
        "        for batch in dataloader:\n",
        "\n",
        "            input_ids = batch[0].to(device)\n",
        "            attention_masks = batch[1].to(device)\n",
        "            tokens = batch[2]  # tokens 不是 Tensor，直接使用\n",
        "            features = batch[3].to(device)\n",
        "            tags = batch[4].to(device)\n",
        "\n",
        "            pred_tags = model(input_ids, attention_masks,features)\n",
        "            pred_tags = torch.argmax(pred_tags, dim=-1)\n",
        "\n",
        "            y_pred, y_true = calculate_f1(pred_tags, tags)\n",
        "            label_true.extend(y_true)\n",
        "            label_pred.extend(y_pred)\n",
        "\n",
        "            poss = []\n",
        "            for i in range(len(tags)):\n",
        "                pos = []\n",
        "                for j in range(len(tags[i])):\n",
        "                    if tags[i][j] == 0:\n",
        "                        pos.append(j)\n",
        "                poss.append(pos)\n",
        "            kw_true.extend(TagConvert(tags, tokens))\n",
        "            kw_pred.extend(TagConvert(pred_tags, tokens, poss))\n",
        "\n",
        "    label_f1 = f1_score(label_true, label_pred, average='macro')\n",
        "    P, R, F1 = evaluate(kw_true, kw_pred)\n",
        "    return label_f1, P, R, F1\n",
        "\n",
        "# 加载模型\n",
        "model_path = './pretrain_pt/bert_HAtten_EGG.pt'\n",
        "num_labels = 6\n",
        "model = load_model(model_path, num_labels)\n",
        "\n",
        "# 假设 test_dataloader 已经定义好\n",
        "label_f1, P, R, F1 = predict_and_evaluate(model, test_dataloader)\n",
        "\n",
        "print(f\"label_f1: {label_f1:.2f}, Precision: {P:.2f}, Recall: {R:.2f}, F1: {F1:.2f}\")"
      ],
      "metadata": {
        "pycharm": {
          "name": "#%%\n"
        },
        "id": "4Frqt1FDCBYz",
        "outputId": "b1fc894b-6542-4540-edbe-e456ecf81b90"
      }
    },
    {
      "cell_type": "code",
      "source": [
        "####################层注意力+不同EEG组合"
      ],
      "metadata": {
        "id": "ea8r-dKiLhev"
      },
      "execution_count": null,
      "outputs": []
    },
    {
      "cell_type": "code",
      "source": [
        "import torch\n",
        "import torch.nn.functional as F\n",
        "from tqdm import tqdm\n",
        "from sklearn.metrics import f1_score\n",
        "from transformers import BertModel\n",
        "from torch import nn\n",
        "from torch.cuda.amp import autocast, GradScaler\n",
        "import torch\n",
        "import torch.nn.functional as F\n",
        "from tqdm import tqdm\n",
        "from sklearn.metrics import f1_score\n",
        "from transformers import BertModel\n",
        "from torch import nn\n",
        "from torch.cuda.amp import autocast, GradScaler\n",
        "\n",
        "# 定义 Attention 机制\n",
        "class Attention(nn.Module):\n",
        "    def __init__(self, hidden_dim):\n",
        "        super(Attention, self).__init__()\n",
        "        self.context = nn.Parameter(torch.FloatTensor(hidden_dim, 1))\n",
        "        nn.init.xavier_uniform_(self.context)\n",
        "\n",
        "    def forward(self, x, mask=None):\n",
        "        attention_in = torch.tanh(torch.matmul(x, self.context))\n",
        "        attention_in = torch.squeeze(attention_in, -1)\n",
        "        if mask is not None:\n",
        "            attention_in = attention_in * mask.float()\n",
        "        attention_weights = F.softmax(attention_in, dim=-1)\n",
        "        weighted_sum = torch.bmm(attention_weights.unsqueeze(1), x).squeeze(1)\n",
        "        return weighted_sum\n",
        "\n",
        "# 定义 BertHANModel\n",
        "class BertHANModel(nn.Module):\n",
        "    def __init__(self, num_labels, hidden_dim=768, rnn_dim=256, eeg_dim=8):\n",
        "        super(BertHANModel, self).__init__()\n",
        "        self.bert = BertModel.from_pretrained('bert-base-uncased')\n",
        "        self.word_attention = Attention(hidden_dim)\n",
        "        self.rnn = nn.GRU(hidden_dim, rnn_dim, batch_first=True, bidirectional=True)\n",
        "        self.sentence_attention = Attention(rnn_dim * 2)\n",
        "        self.classifier = nn.Linear(rnn_dim * 2 + eeg_dim, num_labels)\n",
        "\n",
        "    def forward(self, input_ids, attention_mask, extra_features):\n",
        "        bert_outputs = self.bert(input_ids, attention_mask=attention_mask)\n",
        "        sequence_output = bert_outputs[0]  # shape: (batch_size, seq_length, hidden_dim)\n",
        "\n",
        "        # Word-level attention\n",
        "        word_attention_output = self.word_attention(sequence_output)\n",
        "\n",
        "        # Sentence-level GRU\n",
        "        rnn_output, _ = self.rnn(word_attention_output.unsqueeze(1))\n",
        "\n",
        "        # Sentence-level attention\n",
        "        sentence_attention_output = self.sentence_attention(rnn_output)\n",
        "\n",
        "        # 确保 sentence_attention_output 是三维张量\n",
        "        if sentence_attention_output.dim() == 2:\n",
        "            sentence_attention_output = sentence_attention_output.unsqueeze(1).expand(-1, extra_features.size(1), -1)\n",
        "\n",
        "        # 拼接特征\n",
        "        combined_output = torch.cat((sentence_attention_output, extra_features), dim=-1)  # [batch_size, seq_len, rnn_dim * 2 + eeg_dim]\n",
        "\n",
        "        logits = self.classifier(combined_output)  # shape: (batch_size, seq_len, num_labels)\n",
        "\n",
        "        return logits  # 返回 shape: (batch_size, seq_length, num_labels)\n",
        "\n",
        "# 根据 EEG 组合标签获取相应的维度索引\n",
        "def get_eeg_dim(combo):\n",
        "    mappings = {\n",
        "        'EEG1': (0, 1),\n",
        "        'EEG2': (1, 2),\n",
        "        'EEG3': (2, 3),\n",
        "        'EEG4': (3, 4),\n",
        "        'EEG5': (4, 5),\n",
        "        'EEG6': (5, 6),\n",
        "        'EEG7': (6, 7),\n",
        "        'EEG8': (7, 8),\n",
        "        'EEG1.2': (0, 2),\n",
        "        'EEG2.3': (1, 3),\n",
        "        'EEG3.4': (2, 4),\n",
        "        'EEG4.5': (3, 5),\n",
        "        'EEG5.6': (4, 6),\n",
        "        'EEG6.7': (5, 7),\n",
        "        'EEG7.8': (6, 8),\n",
        "    }\n",
        "    return mappings[combo]\n",
        "\n",
        "# 训练和评估函数\n",
        "def train_and_evaluate(eeg_combo):\n",
        "    device = torch.device('cuda' if torch.cuda.is_available() else 'cpu')\n",
        "    eeg_start, eeg_end = get_eeg_dim(eeg_combo)\n",
        "    eeg_dim = eeg_end - eeg_start\n",
        "\n",
        "    model = BertHANModel(num_labels=6, eeg_dim=eeg_dim)\n",
        "    model = model.to(device)\n",
        "    optim = torch.optim.AdamW(model.parameters(), lr=5e-5, weight_decay=1e-2)\n",
        "    loss_fn = nn.CrossEntropyLoss(reduction='none', ignore_index=0)\n",
        "    loss_fn = loss_fn.to(device)\n",
        "\n",
        "    epochs = 5\n",
        "    best_f1 = 0.0\n",
        "    scaler = GradScaler()\n",
        "\n",
        "    for epoch in range(epochs):\n",
        "        loss_value = 0.0\n",
        "        model.train()\n",
        "        label_true, label_pred = [], []\n",
        "        for i, batch in enumerate(train_dataloader):\n",
        "            optim.zero_grad()\n",
        "            input_ids = batch[0].to(device)\n",
        "            attention_masks = batch[1].to(device)\n",
        "            features = batch[3][:, :, eeg_start:eeg_end].to(device)\n",
        "            tags = batch[4].to(device)\n",
        "\n",
        "            with autocast():\n",
        "                pred_tags = model(input_ids, attention_masks, features)\n",
        "\n",
        "                # 展平 pred_tags 和 tags 以匹配形状\n",
        "                pred_tags = pred_tags.reshape(-1, pred_tags.size(-1))\n",
        "                tags = tags.reshape(-1)\n",
        "\n",
        "                loss = loss_fn(pred_tags, tags)\n",
        "                loss = loss.mean()\n",
        "\n",
        "            scaler.scale(loss).backward()\n",
        "            scaler.step(optim)\n",
        "            scaler.update()\n",
        "\n",
        "            pred_tags = F.softmax(pred_tags, dim=-1)\n",
        "            pred_tags = torch.argmax(pred_tags, dim=-1)\n",
        "            y_pred, y_true = calculate_f1(pred_tags, tags)\n",
        "            label_true.extend(y_true)\n",
        "            label_pred.extend(y_pred)\n",
        "            loss_value += loss.item()\n",
        "\n",
        "        label_train_f1 = f1_score(label_true, label_pred, average='macro')\n",
        "\n",
        "        model.eval()\n",
        "        kw_true, kw_pred = [], []\n",
        "        label_true, label_pred = [], []\n",
        "        for i, batch in enumerate(test_dataloader):\n",
        "            input_ids = batch[0].to(device)\n",
        "            attention_masks = batch[1].to(device)\n",
        "            tokens = batch[2]  # tokens 不是 Tensor，直接使用\n",
        "            features = batch[3][:, :, eeg_start:eeg_end].to(device)\n",
        "            tags = batch[4].to(device)\n",
        "\n",
        "            with torch.no_grad():\n",
        "                for module in model.modules():\n",
        "                    if isinstance(module, nn.Dropout):\n",
        "                        module.p = 0\n",
        "                        module.train(False)\n",
        "                with autocast():\n",
        "                    pred_tags = model(input_ids, attention_masks, features)\n",
        "                    pred_tags = F.softmax(pred_tags, dim=-1)\n",
        "                    pred_tags = torch.argmax(pred_tags, dim=-1)\n",
        "\n",
        "            y_pred, y_true = calculate_f1(pred_tags, tags)\n",
        "            label_true.extend(y_true)\n",
        "            label_pred.extend(y_pred)\n",
        "\n",
        "            poss = []\n",
        "            for i in range(len(tags)):\n",
        "                pos = []\n",
        "                for j in range(len(tags[i])):\n",
        "                    if tags[i][j] == 0:\n",
        "                        pos.append(j)\n",
        "                poss.append(pos)\n",
        "\n",
        "            kw_true.extend(TagConvert(tags, tokens))\n",
        "            kw_pred.extend(TagConvert(pred_tags, tokens, poss))\n",
        "\n",
        "        label_f1 = f1_score(label_true, label_pred, average='macro')\n",
        "        P, R, F1 = evaluate(kw_true, kw_pred)\n",
        "\n",
        "        if F1 > best_f1:\n",
        "            best_f1 = F1\n",
        "            torch.save(model.state_dict(), f'/content/drive/MyDrive/ner/pretrain_pt/bert_HAtten_{eeg_combo}.pt')\n",
        "\n",
        "        print(f\"epoch {epoch + 1}: loss: {loss_value / len(train_dataloader):.2f} train_f1: {label_train_f1:.2f} test_f1: {label_f1:.2f} kw_f1: {F1:.2f}\")\n",
        "\n",
        "        torch.cuda.empty_cache()\n",
        "\n",
        "    return P, R, F1\n",
        "\n",
        "# 使用不同的 EEG 组合进行训练和评估\n",
        "eeg_combos = ['EEG1', 'EEG2', 'EEG3', 'EEG4', 'EEG5', 'EEG6', 'EEG7', 'EEG8',\n",
        "              'EEG1.2', 'EEG2.3', 'EEG3.4', 'EEG4.5', 'EEG5.6', 'EEG6.7', 'EEG7.8']\n",
        "\n",
        "for eeg_combo in eeg_combos:\n",
        "    print(f\"Training with EEG combo: {eeg_combo}\")\n",
        "    P, R, F1 = train_and_evaluate(eeg_combo)\n",
        "    print(f\"EEG combo: {eeg_combo} - Precision: {P:.2f}, Recall: {R:.2f}, F1 Score: {F1:.2f}\")\n"
      ],
      "metadata": {
        "colab": {
          "base_uri": "https://localhost:8080/"
        },
        "id": "HZMPAOPfLlN1",
        "outputId": "9c02a04f-9ab1-496f-da95-f8244dbd27fc"
      },
      "execution_count": null,
      "outputs": [
        {
          "output_type": "stream",
          "name": "stdout",
          "text": [
            "Training with EEG combo: EEG1\n",
            "epoch 1: loss: 0.27 train_f1: 0.19 test_f1: 0.19 kw_f1: 0.00\n",
            "epoch 2: loss: 0.24 train_f1: 0.19 test_f1: 0.19 kw_f1: 0.00\n",
            "epoch 3: loss: 0.23 train_f1: 0.19 test_f1: 0.19 kw_f1: 0.24\n",
            "epoch 4: loss: 0.22 train_f1: 0.19 test_f1: 0.19 kw_f1: 0.24\n",
            "epoch 5: loss: 0.22 train_f1: 0.19 test_f1: 0.19 kw_f1: 0.24\n",
            "EEG combo: EEG1 - Precision: 0.12, Recall: 28.57, F1 Score: 0.24\n",
            "Training with EEG combo: EEG2\n",
            "epoch 1: loss: 0.27 train_f1: 0.16 test_f1: 0.19 kw_f1: 0.00\n",
            "epoch 2: loss: 0.24 train_f1: 0.19 test_f1: 0.19 kw_f1: 0.00\n",
            "epoch 3: loss: 0.23 train_f1: 0.19 test_f1: 0.19 kw_f1: 0.57\n",
            "epoch 4: loss: 0.22 train_f1: 0.19 test_f1: 0.19 kw_f1: 0.49\n",
            "epoch 5: loss: 0.22 train_f1: 0.19 test_f1: 0.19 kw_f1: 0.24\n",
            "EEG combo: EEG2 - Precision: 0.12, Recall: 28.57, F1 Score: 0.24\n",
            "Training with EEG combo: EEG3\n",
            "epoch 1: loss: 0.28 train_f1: 0.16 test_f1: 0.19 kw_f1: 0.12\n",
            "epoch 2: loss: 0.24 train_f1: 0.19 test_f1: 0.19 kw_f1: 0.24\n",
            "epoch 3: loss: 0.23 train_f1: 0.19 test_f1: 0.19 kw_f1: 0.12\n",
            "epoch 4: loss: 0.22 train_f1: 0.19 test_f1: 0.19 kw_f1: 0.12\n",
            "epoch 5: loss: 0.22 train_f1: 0.19 test_f1: 0.19 kw_f1: 0.12\n",
            "EEG combo: EEG3 - Precision: 0.06, Recall: 27.27, F1 Score: 0.12\n",
            "Training with EEG combo: EEG4\n",
            "epoch 1: loss: 0.28 train_f1: 0.16 test_f1: 0.19 kw_f1: 0.00\n",
            "epoch 2: loss: 0.24 train_f1: 0.19 test_f1: 0.19 kw_f1: 0.12\n",
            "epoch 3: loss: 0.23 train_f1: 0.19 test_f1: 0.19 kw_f1: 0.12\n",
            "epoch 4: loss: 0.22 train_f1: 0.19 test_f1: 0.19 kw_f1: 0.12\n",
            "epoch 5: loss: 0.22 train_f1: 0.19 test_f1: 0.19 kw_f1: 0.24\n",
            "EEG combo: EEG4 - Precision: 0.12, Recall: 28.57, F1 Score: 0.24\n",
            "Training with EEG combo: EEG5\n",
            "epoch 1: loss: 0.28 train_f1: 0.16 test_f1: 0.19 kw_f1: 1.16\n",
            "epoch 2: loss: 0.24 train_f1: 0.19 test_f1: 0.19 kw_f1: 0.25\n",
            "epoch 3: loss: 0.23 train_f1: 0.19 test_f1: 0.19 kw_f1: 0.00\n",
            "epoch 4: loss: 0.22 train_f1: 0.19 test_f1: 0.19 kw_f1: 0.12\n",
            "epoch 5: loss: 0.22 train_f1: 0.19 test_f1: 0.19 kw_f1: 0.61\n",
            "EEG combo: EEG5 - Precision: 0.31, Recall: 32.61, F1 Score: 0.61\n",
            "Training with EEG combo: EEG6\n",
            "epoch 1: loss: 0.27 train_f1: 0.16 test_f1: 0.19 kw_f1: 0.00\n",
            "epoch 2: loss: 0.24 train_f1: 0.19 test_f1: 0.19 kw_f1: 0.00\n",
            "epoch 3: loss: 0.23 train_f1: 0.19 test_f1: 0.19 kw_f1: 0.37\n",
            "epoch 4: loss: 0.22 train_f1: 0.19 test_f1: 0.19 kw_f1: 0.24\n",
            "epoch 5: loss: 0.22 train_f1: 0.19 test_f1: 0.19 kw_f1: 0.12\n",
            "EEG combo: EEG6 - Precision: 0.06, Recall: 27.27, F1 Score: 0.12\n",
            "Training with EEG combo: EEG7\n",
            "epoch 1: loss: 0.27 train_f1: 0.16 test_f1: 0.19 kw_f1: 0.00\n",
            "epoch 2: loss: 0.24 train_f1: 0.19 test_f1: 0.19 kw_f1: 0.37\n",
            "epoch 3: loss: 0.23 train_f1: 0.19 test_f1: 0.19 kw_f1: 0.00\n",
            "epoch 4: loss: 0.22 train_f1: 0.19 test_f1: 0.19 kw_f1: 0.12\n",
            "epoch 5: loss: 0.22 train_f1: 0.19 test_f1: 0.19 kw_f1: 0.24\n",
            "EEG combo: EEG7 - Precision: 0.12, Recall: 28.57, F1 Score: 0.24\n",
            "Training with EEG combo: EEG8\n",
            "epoch 1: loss: 0.28 train_f1: 0.19 test_f1: 0.19 kw_f1: 0.00\n",
            "epoch 2: loss: 0.24 train_f1: 0.19 test_f1: 0.19 kw_f1: 0.00\n",
            "epoch 3: loss: 0.23 train_f1: 0.19 test_f1: 0.19 kw_f1: 0.00\n",
            "epoch 4: loss: 0.22 train_f1: 0.19 test_f1: 0.19 kw_f1: 0.20\n",
            "epoch 5: loss: 0.22 train_f1: 0.19 test_f1: 0.19 kw_f1: 0.12\n",
            "EEG combo: EEG8 - Precision: 0.06, Recall: 30.00, F1 Score: 0.12\n",
            "Training with EEG combo: EEG1.2\n",
            "epoch 1: loss: 0.27 train_f1: 0.16 test_f1: 0.19 kw_f1: 0.12\n",
            "epoch 2: loss: 0.24 train_f1: 0.19 test_f1: 0.19 kw_f1: 0.12\n",
            "epoch 3: loss: 0.23 train_f1: 0.19 test_f1: 0.19 kw_f1: 0.24\n",
            "epoch 4: loss: 0.22 train_f1: 0.19 test_f1: 0.19 kw_f1: 0.24\n",
            "epoch 5: loss: 0.21 train_f1: 0.19 test_f1: 0.19 kw_f1: 0.12\n",
            "EEG combo: EEG1.2 - Precision: 0.06, Recall: 27.27, F1 Score: 0.12\n",
            "Training with EEG combo: EEG2.3\n",
            "epoch 1: loss: 0.28 train_f1: 0.19 test_f1: 0.19 kw_f1: 0.00\n",
            "epoch 2: loss: 0.24 train_f1: 0.19 test_f1: 0.19 kw_f1: 0.24\n",
            "epoch 3: loss: 0.23 train_f1: 0.19 test_f1: 0.19 kw_f1: 0.00\n",
            "epoch 4: loss: 0.22 train_f1: 0.19 test_f1: 0.19 kw_f1: 0.12\n",
            "epoch 5: loss: 0.22 train_f1: 0.19 test_f1: 0.19 kw_f1: 0.12\n",
            "EEG combo: EEG2.3 - Precision: 0.06, Recall: 27.27, F1 Score: 0.12\n",
            "Training with EEG combo: EEG3.4\n",
            "epoch 1: loss: 0.27 train_f1: 0.16 test_f1: 0.20 kw_f1: 2.38\n",
            "epoch 2: loss: 0.24 train_f1: 0.19 test_f1: 0.19 kw_f1: 0.12\n",
            "epoch 3: loss: 0.23 train_f1: 0.19 test_f1: 0.19 kw_f1: 0.12\n",
            "epoch 4: loss: 0.22 train_f1: 0.19 test_f1: 0.19 kw_f1: 0.61\n",
            "epoch 5: loss: 0.22 train_f1: 0.19 test_f1: 0.19 kw_f1: 0.12\n",
            "EEG combo: EEG3.4 - Precision: 0.06, Recall: 27.27, F1 Score: 0.12\n",
            "Training with EEG combo: EEG4.5\n",
            "epoch 1: loss: 0.27 train_f1: 0.16 test_f1: 0.19 kw_f1: 0.00\n",
            "epoch 2: loss: 0.24 train_f1: 0.19 test_f1: 0.19 kw_f1: 0.37\n",
            "epoch 3: loss: 0.23 train_f1: 0.19 test_f1: 0.19 kw_f1: 0.37\n",
            "epoch 4: loss: 0.22 train_f1: 0.19 test_f1: 0.19 kw_f1: 0.12\n",
            "epoch 5: loss: 0.22 train_f1: 0.19 test_f1: 0.19 kw_f1: 0.25\n",
            "EEG combo: EEG4.5 - Precision: 0.12, Recall: 35.29, F1 Score: 0.25\n",
            "Training with EEG combo: EEG5.6\n",
            "epoch 1: loss: 0.27 train_f1: 0.16 test_f1: 0.19 kw_f1: 0.00\n",
            "epoch 2: loss: 0.24 train_f1: 0.19 test_f1: 0.19 kw_f1: 0.00\n",
            "epoch 3: loss: 0.23 train_f1: 0.19 test_f1: 0.19 kw_f1: 0.00\n",
            "epoch 4: loss: 0.22 train_f1: 0.19 test_f1: 0.19 kw_f1: 0.12\n",
            "epoch 5: loss: 0.22 train_f1: 0.19 test_f1: 0.19 kw_f1: 0.12\n",
            "EEG combo: EEG5.6 - Precision: 0.06, Recall: 27.27, F1 Score: 0.12\n",
            "Training with EEG combo: EEG6.7\n",
            "epoch 1: loss: 0.28 train_f1: 0.16 test_f1: 0.19 kw_f1: 0.00\n",
            "epoch 2: loss: 0.24 train_f1: 0.19 test_f1: 0.19 kw_f1: 0.00\n",
            "epoch 3: loss: 0.23 train_f1: 0.19 test_f1: 0.19 kw_f1: 0.12\n",
            "epoch 4: loss: 0.22 train_f1: 0.19 test_f1: 0.19 kw_f1: 0.25\n",
            "epoch 5: loss: 0.22 train_f1: 0.19 test_f1: 0.19 kw_f1: 0.25\n",
            "EEG combo: EEG6.7 - Precision: 0.12, Recall: 31.58, F1 Score: 0.25\n",
            "Training with EEG combo: EEG7.8\n",
            "epoch 1: loss: 0.28 train_f1: 0.16 test_f1: 0.19 kw_f1: 0.45\n",
            "epoch 2: loss: 0.24 train_f1: 0.19 test_f1: 0.19 kw_f1: 0.61\n",
            "epoch 3: loss: 0.23 train_f1: 0.19 test_f1: 0.19 kw_f1: 0.37\n",
            "epoch 4: loss: 0.22 train_f1: 0.19 test_f1: 0.19 kw_f1: 0.12\n",
            "epoch 5: loss: 0.22 train_f1: 0.19 test_f1: 0.19 kw_f1: 0.12\n",
            "EEG combo: EEG7.8 - Precision: 0.06, Recall: 27.27, F1 Score: 0.12\n"
          ]
        }
      ]
    },
    {
      "cell_type": "code",
      "execution_count": null,
      "outputs": [],
      "source": [],
      "metadata": {
        "pycharm": {
          "name": "#%%\n"
        },
        "id": "XRT8rWFHCBY6"
      }
    }
  ],
  "metadata": {
    "kernelspec": {
      "display_name": "Python 3",
      "name": "python3"
    },
    "language_info": {
      "codemirror_mode": {
        "name": "ipython",
        "version": 3
      },
      "file_extension": ".py",
      "mimetype": "text/x-python",
      "name": "python",
      "nbconvert_exporter": "python",
      "pygments_lexer": "ipython3",
      "version": "3.9.13"
    },
    "orig_nbformat": 4,
    "colab": {
      "provenance": [],
      "machine_shape": "hm",
      "gpuType": "L4",
      "toc_visible": true
    },
    "accelerator": "GPU",
    "widgets": {
      "application/vnd.jupyter.widget-state+json": {
        "b5c14c8f499f4c469c1951bad667f19c": {
          "model_module": "@jupyter-widgets/controls",
          "model_name": "HBoxModel",
          "model_module_version": "1.5.0",
          "state": {
            "_dom_classes": [],
            "_model_module": "@jupyter-widgets/controls",
            "_model_module_version": "1.5.0",
            "_model_name": "HBoxModel",
            "_view_count": null,
            "_view_module": "@jupyter-widgets/controls",
            "_view_module_version": "1.5.0",
            "_view_name": "HBoxView",
            "box_style": "",
            "children": [
              "IPY_MODEL_39a9fe352d214969963c3b33d35c74bb",
              "IPY_MODEL_d36d06a280ed4bce8c1a59fd9893da22",
              "IPY_MODEL_f6ac4be0ccbc42a8994bf43f9ea1cf6a"
            ],
            "layout": "IPY_MODEL_49679ebbd195488898ecae061602e817"
          }
        },
        "39a9fe352d214969963c3b33d35c74bb": {
          "model_module": "@jupyter-widgets/controls",
          "model_name": "HTMLModel",
          "model_module_version": "1.5.0",
          "state": {
            "_dom_classes": [],
            "_model_module": "@jupyter-widgets/controls",
            "_model_module_version": "1.5.0",
            "_model_name": "HTMLModel",
            "_view_count": null,
            "_view_module": "@jupyter-widgets/controls",
            "_view_module_version": "1.5.0",
            "_view_name": "HTMLView",
            "description": "",
            "description_tooltip": null,
            "layout": "IPY_MODEL_44c80b78ad524cad8507fbea1c8bfaf9",
            "placeholder": "​",
            "style": "IPY_MODEL_cabd66ce13be4875bc93ce39b780e705",
            "value": "tokenizer_config.json: 100%"
          }
        },
        "d36d06a280ed4bce8c1a59fd9893da22": {
          "model_module": "@jupyter-widgets/controls",
          "model_name": "FloatProgressModel",
          "model_module_version": "1.5.0",
          "state": {
            "_dom_classes": [],
            "_model_module": "@jupyter-widgets/controls",
            "_model_module_version": "1.5.0",
            "_model_name": "FloatProgressModel",
            "_view_count": null,
            "_view_module": "@jupyter-widgets/controls",
            "_view_module_version": "1.5.0",
            "_view_name": "ProgressView",
            "bar_style": "success",
            "description": "",
            "description_tooltip": null,
            "layout": "IPY_MODEL_4c3dab6b28b74c5a993af68dbd2a97dd",
            "max": 48,
            "min": 0,
            "orientation": "horizontal",
            "style": "IPY_MODEL_fd0f7a40e7c445eb94b50bf4dd5344a2",
            "value": 48
          }
        },
        "f6ac4be0ccbc42a8994bf43f9ea1cf6a": {
          "model_module": "@jupyter-widgets/controls",
          "model_name": "HTMLModel",
          "model_module_version": "1.5.0",
          "state": {
            "_dom_classes": [],
            "_model_module": "@jupyter-widgets/controls",
            "_model_module_version": "1.5.0",
            "_model_name": "HTMLModel",
            "_view_count": null,
            "_view_module": "@jupyter-widgets/controls",
            "_view_module_version": "1.5.0",
            "_view_name": "HTMLView",
            "description": "",
            "description_tooltip": null,
            "layout": "IPY_MODEL_da485b05d3114c429eba44fa2bcf1499",
            "placeholder": "​",
            "style": "IPY_MODEL_bf0cbd69a92545579569e396e25871e0",
            "value": " 48.0/48.0 [00:00&lt;00:00, 4.17kB/s]"
          }
        },
        "49679ebbd195488898ecae061602e817": {
          "model_module": "@jupyter-widgets/base",
          "model_name": "LayoutModel",
          "model_module_version": "1.2.0",
          "state": {
            "_model_module": "@jupyter-widgets/base",
            "_model_module_version": "1.2.0",
            "_model_name": "LayoutModel",
            "_view_count": null,
            "_view_module": "@jupyter-widgets/base",
            "_view_module_version": "1.2.0",
            "_view_name": "LayoutView",
            "align_content": null,
            "align_items": null,
            "align_self": null,
            "border": null,
            "bottom": null,
            "display": null,
            "flex": null,
            "flex_flow": null,
            "grid_area": null,
            "grid_auto_columns": null,
            "grid_auto_flow": null,
            "grid_auto_rows": null,
            "grid_column": null,
            "grid_gap": null,
            "grid_row": null,
            "grid_template_areas": null,
            "grid_template_columns": null,
            "grid_template_rows": null,
            "height": null,
            "justify_content": null,
            "justify_items": null,
            "left": null,
            "margin": null,
            "max_height": null,
            "max_width": null,
            "min_height": null,
            "min_width": null,
            "object_fit": null,
            "object_position": null,
            "order": null,
            "overflow": null,
            "overflow_x": null,
            "overflow_y": null,
            "padding": null,
            "right": null,
            "top": null,
            "visibility": null,
            "width": null
          }
        },
        "44c80b78ad524cad8507fbea1c8bfaf9": {
          "model_module": "@jupyter-widgets/base",
          "model_name": "LayoutModel",
          "model_module_version": "1.2.0",
          "state": {
            "_model_module": "@jupyter-widgets/base",
            "_model_module_version": "1.2.0",
            "_model_name": "LayoutModel",
            "_view_count": null,
            "_view_module": "@jupyter-widgets/base",
            "_view_module_version": "1.2.0",
            "_view_name": "LayoutView",
            "align_content": null,
            "align_items": null,
            "align_self": null,
            "border": null,
            "bottom": null,
            "display": null,
            "flex": null,
            "flex_flow": null,
            "grid_area": null,
            "grid_auto_columns": null,
            "grid_auto_flow": null,
            "grid_auto_rows": null,
            "grid_column": null,
            "grid_gap": null,
            "grid_row": null,
            "grid_template_areas": null,
            "grid_template_columns": null,
            "grid_template_rows": null,
            "height": null,
            "justify_content": null,
            "justify_items": null,
            "left": null,
            "margin": null,
            "max_height": null,
            "max_width": null,
            "min_height": null,
            "min_width": null,
            "object_fit": null,
            "object_position": null,
            "order": null,
            "overflow": null,
            "overflow_x": null,
            "overflow_y": null,
            "padding": null,
            "right": null,
            "top": null,
            "visibility": null,
            "width": null
          }
        },
        "cabd66ce13be4875bc93ce39b780e705": {
          "model_module": "@jupyter-widgets/controls",
          "model_name": "DescriptionStyleModel",
          "model_module_version": "1.5.0",
          "state": {
            "_model_module": "@jupyter-widgets/controls",
            "_model_module_version": "1.5.0",
            "_model_name": "DescriptionStyleModel",
            "_view_count": null,
            "_view_module": "@jupyter-widgets/base",
            "_view_module_version": "1.2.0",
            "_view_name": "StyleView",
            "description_width": ""
          }
        },
        "4c3dab6b28b74c5a993af68dbd2a97dd": {
          "model_module": "@jupyter-widgets/base",
          "model_name": "LayoutModel",
          "model_module_version": "1.2.0",
          "state": {
            "_model_module": "@jupyter-widgets/base",
            "_model_module_version": "1.2.0",
            "_model_name": "LayoutModel",
            "_view_count": null,
            "_view_module": "@jupyter-widgets/base",
            "_view_module_version": "1.2.0",
            "_view_name": "LayoutView",
            "align_content": null,
            "align_items": null,
            "align_self": null,
            "border": null,
            "bottom": null,
            "display": null,
            "flex": null,
            "flex_flow": null,
            "grid_area": null,
            "grid_auto_columns": null,
            "grid_auto_flow": null,
            "grid_auto_rows": null,
            "grid_column": null,
            "grid_gap": null,
            "grid_row": null,
            "grid_template_areas": null,
            "grid_template_columns": null,
            "grid_template_rows": null,
            "height": null,
            "justify_content": null,
            "justify_items": null,
            "left": null,
            "margin": null,
            "max_height": null,
            "max_width": null,
            "min_height": null,
            "min_width": null,
            "object_fit": null,
            "object_position": null,
            "order": null,
            "overflow": null,
            "overflow_x": null,
            "overflow_y": null,
            "padding": null,
            "right": null,
            "top": null,
            "visibility": null,
            "width": null
          }
        },
        "fd0f7a40e7c445eb94b50bf4dd5344a2": {
          "model_module": "@jupyter-widgets/controls",
          "model_name": "ProgressStyleModel",
          "model_module_version": "1.5.0",
          "state": {
            "_model_module": "@jupyter-widgets/controls",
            "_model_module_version": "1.5.0",
            "_model_name": "ProgressStyleModel",
            "_view_count": null,
            "_view_module": "@jupyter-widgets/base",
            "_view_module_version": "1.2.0",
            "_view_name": "StyleView",
            "bar_color": null,
            "description_width": ""
          }
        },
        "da485b05d3114c429eba44fa2bcf1499": {
          "model_module": "@jupyter-widgets/base",
          "model_name": "LayoutModel",
          "model_module_version": "1.2.0",
          "state": {
            "_model_module": "@jupyter-widgets/base",
            "_model_module_version": "1.2.0",
            "_model_name": "LayoutModel",
            "_view_count": null,
            "_view_module": "@jupyter-widgets/base",
            "_view_module_version": "1.2.0",
            "_view_name": "LayoutView",
            "align_content": null,
            "align_items": null,
            "align_self": null,
            "border": null,
            "bottom": null,
            "display": null,
            "flex": null,
            "flex_flow": null,
            "grid_area": null,
            "grid_auto_columns": null,
            "grid_auto_flow": null,
            "grid_auto_rows": null,
            "grid_column": null,
            "grid_gap": null,
            "grid_row": null,
            "grid_template_areas": null,
            "grid_template_columns": null,
            "grid_template_rows": null,
            "height": null,
            "justify_content": null,
            "justify_items": null,
            "left": null,
            "margin": null,
            "max_height": null,
            "max_width": null,
            "min_height": null,
            "min_width": null,
            "object_fit": null,
            "object_position": null,
            "order": null,
            "overflow": null,
            "overflow_x": null,
            "overflow_y": null,
            "padding": null,
            "right": null,
            "top": null,
            "visibility": null,
            "width": null
          }
        },
        "bf0cbd69a92545579569e396e25871e0": {
          "model_module": "@jupyter-widgets/controls",
          "model_name": "DescriptionStyleModel",
          "model_module_version": "1.5.0",
          "state": {
            "_model_module": "@jupyter-widgets/controls",
            "_model_module_version": "1.5.0",
            "_model_name": "DescriptionStyleModel",
            "_view_count": null,
            "_view_module": "@jupyter-widgets/base",
            "_view_module_version": "1.2.0",
            "_view_name": "StyleView",
            "description_width": ""
          }
        },
        "20d450d3aa214c2696578c8a35c6ba13": {
          "model_module": "@jupyter-widgets/controls",
          "model_name": "HBoxModel",
          "model_module_version": "1.5.0",
          "state": {
            "_dom_classes": [],
            "_model_module": "@jupyter-widgets/controls",
            "_model_module_version": "1.5.0",
            "_model_name": "HBoxModel",
            "_view_count": null,
            "_view_module": "@jupyter-widgets/controls",
            "_view_module_version": "1.5.0",
            "_view_name": "HBoxView",
            "box_style": "",
            "children": [
              "IPY_MODEL_71da912b425b48c18446d79a07b5a8f4",
              "IPY_MODEL_889af1dc133b474d817dd907cb786141",
              "IPY_MODEL_c62ee48881834710a83536ea477c62d7"
            ],
            "layout": "IPY_MODEL_6b50e28e53dc42ed82d3ff3e31b2cd51"
          }
        },
        "71da912b425b48c18446d79a07b5a8f4": {
          "model_module": "@jupyter-widgets/controls",
          "model_name": "HTMLModel",
          "model_module_version": "1.5.0",
          "state": {
            "_dom_classes": [],
            "_model_module": "@jupyter-widgets/controls",
            "_model_module_version": "1.5.0",
            "_model_name": "HTMLModel",
            "_view_count": null,
            "_view_module": "@jupyter-widgets/controls",
            "_view_module_version": "1.5.0",
            "_view_name": "HTMLView",
            "description": "",
            "description_tooltip": null,
            "layout": "IPY_MODEL_a67d133d2e154bb68f2c4f8148a2043a",
            "placeholder": "​",
            "style": "IPY_MODEL_16b2a853baaf425eba0aa1d0c84419bc",
            "value": "vocab.txt: 100%"
          }
        },
        "889af1dc133b474d817dd907cb786141": {
          "model_module": "@jupyter-widgets/controls",
          "model_name": "FloatProgressModel",
          "model_module_version": "1.5.0",
          "state": {
            "_dom_classes": [],
            "_model_module": "@jupyter-widgets/controls",
            "_model_module_version": "1.5.0",
            "_model_name": "FloatProgressModel",
            "_view_count": null,
            "_view_module": "@jupyter-widgets/controls",
            "_view_module_version": "1.5.0",
            "_view_name": "ProgressView",
            "bar_style": "success",
            "description": "",
            "description_tooltip": null,
            "layout": "IPY_MODEL_bda185cf32f6477597c91c00e1ef13e2",
            "max": 231508,
            "min": 0,
            "orientation": "horizontal",
            "style": "IPY_MODEL_d228d9467aad41b488e4d64af53ba9df",
            "value": 231508
          }
        },
        "c62ee48881834710a83536ea477c62d7": {
          "model_module": "@jupyter-widgets/controls",
          "model_name": "HTMLModel",
          "model_module_version": "1.5.0",
          "state": {
            "_dom_classes": [],
            "_model_module": "@jupyter-widgets/controls",
            "_model_module_version": "1.5.0",
            "_model_name": "HTMLModel",
            "_view_count": null,
            "_view_module": "@jupyter-widgets/controls",
            "_view_module_version": "1.5.0",
            "_view_name": "HTMLView",
            "description": "",
            "description_tooltip": null,
            "layout": "IPY_MODEL_296bf4a93e724e86a36b48a9037aca22",
            "placeholder": "​",
            "style": "IPY_MODEL_ea446f7648d74c629ee61af93f208ed7",
            "value": " 232k/232k [00:00&lt;00:00, 16.3MB/s]"
          }
        },
        "6b50e28e53dc42ed82d3ff3e31b2cd51": {
          "model_module": "@jupyter-widgets/base",
          "model_name": "LayoutModel",
          "model_module_version": "1.2.0",
          "state": {
            "_model_module": "@jupyter-widgets/base",
            "_model_module_version": "1.2.0",
            "_model_name": "LayoutModel",
            "_view_count": null,
            "_view_module": "@jupyter-widgets/base",
            "_view_module_version": "1.2.0",
            "_view_name": "LayoutView",
            "align_content": null,
            "align_items": null,
            "align_self": null,
            "border": null,
            "bottom": null,
            "display": null,
            "flex": null,
            "flex_flow": null,
            "grid_area": null,
            "grid_auto_columns": null,
            "grid_auto_flow": null,
            "grid_auto_rows": null,
            "grid_column": null,
            "grid_gap": null,
            "grid_row": null,
            "grid_template_areas": null,
            "grid_template_columns": null,
            "grid_template_rows": null,
            "height": null,
            "justify_content": null,
            "justify_items": null,
            "left": null,
            "margin": null,
            "max_height": null,
            "max_width": null,
            "min_height": null,
            "min_width": null,
            "object_fit": null,
            "object_position": null,
            "order": null,
            "overflow": null,
            "overflow_x": null,
            "overflow_y": null,
            "padding": null,
            "right": null,
            "top": null,
            "visibility": null,
            "width": null
          }
        },
        "a67d133d2e154bb68f2c4f8148a2043a": {
          "model_module": "@jupyter-widgets/base",
          "model_name": "LayoutModel",
          "model_module_version": "1.2.0",
          "state": {
            "_model_module": "@jupyter-widgets/base",
            "_model_module_version": "1.2.0",
            "_model_name": "LayoutModel",
            "_view_count": null,
            "_view_module": "@jupyter-widgets/base",
            "_view_module_version": "1.2.0",
            "_view_name": "LayoutView",
            "align_content": null,
            "align_items": null,
            "align_self": null,
            "border": null,
            "bottom": null,
            "display": null,
            "flex": null,
            "flex_flow": null,
            "grid_area": null,
            "grid_auto_columns": null,
            "grid_auto_flow": null,
            "grid_auto_rows": null,
            "grid_column": null,
            "grid_gap": null,
            "grid_row": null,
            "grid_template_areas": null,
            "grid_template_columns": null,
            "grid_template_rows": null,
            "height": null,
            "justify_content": null,
            "justify_items": null,
            "left": null,
            "margin": null,
            "max_height": null,
            "max_width": null,
            "min_height": null,
            "min_width": null,
            "object_fit": null,
            "object_position": null,
            "order": null,
            "overflow": null,
            "overflow_x": null,
            "overflow_y": null,
            "padding": null,
            "right": null,
            "top": null,
            "visibility": null,
            "width": null
          }
        },
        "16b2a853baaf425eba0aa1d0c84419bc": {
          "model_module": "@jupyter-widgets/controls",
          "model_name": "DescriptionStyleModel",
          "model_module_version": "1.5.0",
          "state": {
            "_model_module": "@jupyter-widgets/controls",
            "_model_module_version": "1.5.0",
            "_model_name": "DescriptionStyleModel",
            "_view_count": null,
            "_view_module": "@jupyter-widgets/base",
            "_view_module_version": "1.2.0",
            "_view_name": "StyleView",
            "description_width": ""
          }
        },
        "bda185cf32f6477597c91c00e1ef13e2": {
          "model_module": "@jupyter-widgets/base",
          "model_name": "LayoutModel",
          "model_module_version": "1.2.0",
          "state": {
            "_model_module": "@jupyter-widgets/base",
            "_model_module_version": "1.2.0",
            "_model_name": "LayoutModel",
            "_view_count": null,
            "_view_module": "@jupyter-widgets/base",
            "_view_module_version": "1.2.0",
            "_view_name": "LayoutView",
            "align_content": null,
            "align_items": null,
            "align_self": null,
            "border": null,
            "bottom": null,
            "display": null,
            "flex": null,
            "flex_flow": null,
            "grid_area": null,
            "grid_auto_columns": null,
            "grid_auto_flow": null,
            "grid_auto_rows": null,
            "grid_column": null,
            "grid_gap": null,
            "grid_row": null,
            "grid_template_areas": null,
            "grid_template_columns": null,
            "grid_template_rows": null,
            "height": null,
            "justify_content": null,
            "justify_items": null,
            "left": null,
            "margin": null,
            "max_height": null,
            "max_width": null,
            "min_height": null,
            "min_width": null,
            "object_fit": null,
            "object_position": null,
            "order": null,
            "overflow": null,
            "overflow_x": null,
            "overflow_y": null,
            "padding": null,
            "right": null,
            "top": null,
            "visibility": null,
            "width": null
          }
        },
        "d228d9467aad41b488e4d64af53ba9df": {
          "model_module": "@jupyter-widgets/controls",
          "model_name": "ProgressStyleModel",
          "model_module_version": "1.5.0",
          "state": {
            "_model_module": "@jupyter-widgets/controls",
            "_model_module_version": "1.5.0",
            "_model_name": "ProgressStyleModel",
            "_view_count": null,
            "_view_module": "@jupyter-widgets/base",
            "_view_module_version": "1.2.0",
            "_view_name": "StyleView",
            "bar_color": null,
            "description_width": ""
          }
        },
        "296bf4a93e724e86a36b48a9037aca22": {
          "model_module": "@jupyter-widgets/base",
          "model_name": "LayoutModel",
          "model_module_version": "1.2.0",
          "state": {
            "_model_module": "@jupyter-widgets/base",
            "_model_module_version": "1.2.0",
            "_model_name": "LayoutModel",
            "_view_count": null,
            "_view_module": "@jupyter-widgets/base",
            "_view_module_version": "1.2.0",
            "_view_name": "LayoutView",
            "align_content": null,
            "align_items": null,
            "align_self": null,
            "border": null,
            "bottom": null,
            "display": null,
            "flex": null,
            "flex_flow": null,
            "grid_area": null,
            "grid_auto_columns": null,
            "grid_auto_flow": null,
            "grid_auto_rows": null,
            "grid_column": null,
            "grid_gap": null,
            "grid_row": null,
            "grid_template_areas": null,
            "grid_template_columns": null,
            "grid_template_rows": null,
            "height": null,
            "justify_content": null,
            "justify_items": null,
            "left": null,
            "margin": null,
            "max_height": null,
            "max_width": null,
            "min_height": null,
            "min_width": null,
            "object_fit": null,
            "object_position": null,
            "order": null,
            "overflow": null,
            "overflow_x": null,
            "overflow_y": null,
            "padding": null,
            "right": null,
            "top": null,
            "visibility": null,
            "width": null
          }
        },
        "ea446f7648d74c629ee61af93f208ed7": {
          "model_module": "@jupyter-widgets/controls",
          "model_name": "DescriptionStyleModel",
          "model_module_version": "1.5.0",
          "state": {
            "_model_module": "@jupyter-widgets/controls",
            "_model_module_version": "1.5.0",
            "_model_name": "DescriptionStyleModel",
            "_view_count": null,
            "_view_module": "@jupyter-widgets/base",
            "_view_module_version": "1.2.0",
            "_view_name": "StyleView",
            "description_width": ""
          }
        },
        "1fcd6ec9e69e46fc939a019dfd2d936c": {
          "model_module": "@jupyter-widgets/controls",
          "model_name": "HBoxModel",
          "model_module_version": "1.5.0",
          "state": {
            "_dom_classes": [],
            "_model_module": "@jupyter-widgets/controls",
            "_model_module_version": "1.5.0",
            "_model_name": "HBoxModel",
            "_view_count": null,
            "_view_module": "@jupyter-widgets/controls",
            "_view_module_version": "1.5.0",
            "_view_name": "HBoxView",
            "box_style": "",
            "children": [
              "IPY_MODEL_4cc18343ba1e4399894fa5e1d93bda40",
              "IPY_MODEL_e6bd1f7ded394d73807bdf2ef311c6ed",
              "IPY_MODEL_f7b381800452409da7c96f5a1d00fc49"
            ],
            "layout": "IPY_MODEL_a236cbd637ca4caeb82b19f7b3f8cc17"
          }
        },
        "4cc18343ba1e4399894fa5e1d93bda40": {
          "model_module": "@jupyter-widgets/controls",
          "model_name": "HTMLModel",
          "model_module_version": "1.5.0",
          "state": {
            "_dom_classes": [],
            "_model_module": "@jupyter-widgets/controls",
            "_model_module_version": "1.5.0",
            "_model_name": "HTMLModel",
            "_view_count": null,
            "_view_module": "@jupyter-widgets/controls",
            "_view_module_version": "1.5.0",
            "_view_name": "HTMLView",
            "description": "",
            "description_tooltip": null,
            "layout": "IPY_MODEL_cea9d5f068c84289b6194302b3fffca3",
            "placeholder": "​",
            "style": "IPY_MODEL_3b05ae68f7a140ba95de1a733f15af41",
            "value": "tokenizer.json: 100%"
          }
        },
        "e6bd1f7ded394d73807bdf2ef311c6ed": {
          "model_module": "@jupyter-widgets/controls",
          "model_name": "FloatProgressModel",
          "model_module_version": "1.5.0",
          "state": {
            "_dom_classes": [],
            "_model_module": "@jupyter-widgets/controls",
            "_model_module_version": "1.5.0",
            "_model_name": "FloatProgressModel",
            "_view_count": null,
            "_view_module": "@jupyter-widgets/controls",
            "_view_module_version": "1.5.0",
            "_view_name": "ProgressView",
            "bar_style": "success",
            "description": "",
            "description_tooltip": null,
            "layout": "IPY_MODEL_09e0a8da3dca4ccfbf0dd7fbe9ef10cb",
            "max": 466062,
            "min": 0,
            "orientation": "horizontal",
            "style": "IPY_MODEL_a5abcfa71df44500b579991c6c8b5359",
            "value": 466062
          }
        },
        "f7b381800452409da7c96f5a1d00fc49": {
          "model_module": "@jupyter-widgets/controls",
          "model_name": "HTMLModel",
          "model_module_version": "1.5.0",
          "state": {
            "_dom_classes": [],
            "_model_module": "@jupyter-widgets/controls",
            "_model_module_version": "1.5.0",
            "_model_name": "HTMLModel",
            "_view_count": null,
            "_view_module": "@jupyter-widgets/controls",
            "_view_module_version": "1.5.0",
            "_view_name": "HTMLView",
            "description": "",
            "description_tooltip": null,
            "layout": "IPY_MODEL_fd26a064752d4b0b84de726202149416",
            "placeholder": "​",
            "style": "IPY_MODEL_dac4ada09a914f22a278c40243942631",
            "value": " 466k/466k [00:00&lt;00:00, 2.11MB/s]"
          }
        },
        "a236cbd637ca4caeb82b19f7b3f8cc17": {
          "model_module": "@jupyter-widgets/base",
          "model_name": "LayoutModel",
          "model_module_version": "1.2.0",
          "state": {
            "_model_module": "@jupyter-widgets/base",
            "_model_module_version": "1.2.0",
            "_model_name": "LayoutModel",
            "_view_count": null,
            "_view_module": "@jupyter-widgets/base",
            "_view_module_version": "1.2.0",
            "_view_name": "LayoutView",
            "align_content": null,
            "align_items": null,
            "align_self": null,
            "border": null,
            "bottom": null,
            "display": null,
            "flex": null,
            "flex_flow": null,
            "grid_area": null,
            "grid_auto_columns": null,
            "grid_auto_flow": null,
            "grid_auto_rows": null,
            "grid_column": null,
            "grid_gap": null,
            "grid_row": null,
            "grid_template_areas": null,
            "grid_template_columns": null,
            "grid_template_rows": null,
            "height": null,
            "justify_content": null,
            "justify_items": null,
            "left": null,
            "margin": null,
            "max_height": null,
            "max_width": null,
            "min_height": null,
            "min_width": null,
            "object_fit": null,
            "object_position": null,
            "order": null,
            "overflow": null,
            "overflow_x": null,
            "overflow_y": null,
            "padding": null,
            "right": null,
            "top": null,
            "visibility": null,
            "width": null
          }
        },
        "cea9d5f068c84289b6194302b3fffca3": {
          "model_module": "@jupyter-widgets/base",
          "model_name": "LayoutModel",
          "model_module_version": "1.2.0",
          "state": {
            "_model_module": "@jupyter-widgets/base",
            "_model_module_version": "1.2.0",
            "_model_name": "LayoutModel",
            "_view_count": null,
            "_view_module": "@jupyter-widgets/base",
            "_view_module_version": "1.2.0",
            "_view_name": "LayoutView",
            "align_content": null,
            "align_items": null,
            "align_self": null,
            "border": null,
            "bottom": null,
            "display": null,
            "flex": null,
            "flex_flow": null,
            "grid_area": null,
            "grid_auto_columns": null,
            "grid_auto_flow": null,
            "grid_auto_rows": null,
            "grid_column": null,
            "grid_gap": null,
            "grid_row": null,
            "grid_template_areas": null,
            "grid_template_columns": null,
            "grid_template_rows": null,
            "height": null,
            "justify_content": null,
            "justify_items": null,
            "left": null,
            "margin": null,
            "max_height": null,
            "max_width": null,
            "min_height": null,
            "min_width": null,
            "object_fit": null,
            "object_position": null,
            "order": null,
            "overflow": null,
            "overflow_x": null,
            "overflow_y": null,
            "padding": null,
            "right": null,
            "top": null,
            "visibility": null,
            "width": null
          }
        },
        "3b05ae68f7a140ba95de1a733f15af41": {
          "model_module": "@jupyter-widgets/controls",
          "model_name": "DescriptionStyleModel",
          "model_module_version": "1.5.0",
          "state": {
            "_model_module": "@jupyter-widgets/controls",
            "_model_module_version": "1.5.0",
            "_model_name": "DescriptionStyleModel",
            "_view_count": null,
            "_view_module": "@jupyter-widgets/base",
            "_view_module_version": "1.2.0",
            "_view_name": "StyleView",
            "description_width": ""
          }
        },
        "09e0a8da3dca4ccfbf0dd7fbe9ef10cb": {
          "model_module": "@jupyter-widgets/base",
          "model_name": "LayoutModel",
          "model_module_version": "1.2.0",
          "state": {
            "_model_module": "@jupyter-widgets/base",
            "_model_module_version": "1.2.0",
            "_model_name": "LayoutModel",
            "_view_count": null,
            "_view_module": "@jupyter-widgets/base",
            "_view_module_version": "1.2.0",
            "_view_name": "LayoutView",
            "align_content": null,
            "align_items": null,
            "align_self": null,
            "border": null,
            "bottom": null,
            "display": null,
            "flex": null,
            "flex_flow": null,
            "grid_area": null,
            "grid_auto_columns": null,
            "grid_auto_flow": null,
            "grid_auto_rows": null,
            "grid_column": null,
            "grid_gap": null,
            "grid_row": null,
            "grid_template_areas": null,
            "grid_template_columns": null,
            "grid_template_rows": null,
            "height": null,
            "justify_content": null,
            "justify_items": null,
            "left": null,
            "margin": null,
            "max_height": null,
            "max_width": null,
            "min_height": null,
            "min_width": null,
            "object_fit": null,
            "object_position": null,
            "order": null,
            "overflow": null,
            "overflow_x": null,
            "overflow_y": null,
            "padding": null,
            "right": null,
            "top": null,
            "visibility": null,
            "width": null
          }
        },
        "a5abcfa71df44500b579991c6c8b5359": {
          "model_module": "@jupyter-widgets/controls",
          "model_name": "ProgressStyleModel",
          "model_module_version": "1.5.0",
          "state": {
            "_model_module": "@jupyter-widgets/controls",
            "_model_module_version": "1.5.0",
            "_model_name": "ProgressStyleModel",
            "_view_count": null,
            "_view_module": "@jupyter-widgets/base",
            "_view_module_version": "1.2.0",
            "_view_name": "StyleView",
            "bar_color": null,
            "description_width": ""
          }
        },
        "fd26a064752d4b0b84de726202149416": {
          "model_module": "@jupyter-widgets/base",
          "model_name": "LayoutModel",
          "model_module_version": "1.2.0",
          "state": {
            "_model_module": "@jupyter-widgets/base",
            "_model_module_version": "1.2.0",
            "_model_name": "LayoutModel",
            "_view_count": null,
            "_view_module": "@jupyter-widgets/base",
            "_view_module_version": "1.2.0",
            "_view_name": "LayoutView",
            "align_content": null,
            "align_items": null,
            "align_self": null,
            "border": null,
            "bottom": null,
            "display": null,
            "flex": null,
            "flex_flow": null,
            "grid_area": null,
            "grid_auto_columns": null,
            "grid_auto_flow": null,
            "grid_auto_rows": null,
            "grid_column": null,
            "grid_gap": null,
            "grid_row": null,
            "grid_template_areas": null,
            "grid_template_columns": null,
            "grid_template_rows": null,
            "height": null,
            "justify_content": null,
            "justify_items": null,
            "left": null,
            "margin": null,
            "max_height": null,
            "max_width": null,
            "min_height": null,
            "min_width": null,
            "object_fit": null,
            "object_position": null,
            "order": null,
            "overflow": null,
            "overflow_x": null,
            "overflow_y": null,
            "padding": null,
            "right": null,
            "top": null,
            "visibility": null,
            "width": null
          }
        },
        "dac4ada09a914f22a278c40243942631": {
          "model_module": "@jupyter-widgets/controls",
          "model_name": "DescriptionStyleModel",
          "model_module_version": "1.5.0",
          "state": {
            "_model_module": "@jupyter-widgets/controls",
            "_model_module_version": "1.5.0",
            "_model_name": "DescriptionStyleModel",
            "_view_count": null,
            "_view_module": "@jupyter-widgets/base",
            "_view_module_version": "1.2.0",
            "_view_name": "StyleView",
            "description_width": ""
          }
        },
        "ab6accd5f6cc41838c17ed7fb0ed8f27": {
          "model_module": "@jupyter-widgets/controls",
          "model_name": "HBoxModel",
          "model_module_version": "1.5.0",
          "state": {
            "_dom_classes": [],
            "_model_module": "@jupyter-widgets/controls",
            "_model_module_version": "1.5.0",
            "_model_name": "HBoxModel",
            "_view_count": null,
            "_view_module": "@jupyter-widgets/controls",
            "_view_module_version": "1.5.0",
            "_view_name": "HBoxView",
            "box_style": "",
            "children": [
              "IPY_MODEL_0754ef5ef05f4c47b675befce7004f83",
              "IPY_MODEL_7c367f4571324f86b4d7edc9510b6952",
              "IPY_MODEL_fbb2f44452454557a5bcc849d3338685"
            ],
            "layout": "IPY_MODEL_ae9711d9a9634644bc8756bac30567f0"
          }
        },
        "0754ef5ef05f4c47b675befce7004f83": {
          "model_module": "@jupyter-widgets/controls",
          "model_name": "HTMLModel",
          "model_module_version": "1.5.0",
          "state": {
            "_dom_classes": [],
            "_model_module": "@jupyter-widgets/controls",
            "_model_module_version": "1.5.0",
            "_model_name": "HTMLModel",
            "_view_count": null,
            "_view_module": "@jupyter-widgets/controls",
            "_view_module_version": "1.5.0",
            "_view_name": "HTMLView",
            "description": "",
            "description_tooltip": null,
            "layout": "IPY_MODEL_280dcf02afdf45e1bf7e361d119a59c5",
            "placeholder": "​",
            "style": "IPY_MODEL_3374d027dd48425f87f66fd2af824646",
            "value": "config.json: 100%"
          }
        },
        "7c367f4571324f86b4d7edc9510b6952": {
          "model_module": "@jupyter-widgets/controls",
          "model_name": "FloatProgressModel",
          "model_module_version": "1.5.0",
          "state": {
            "_dom_classes": [],
            "_model_module": "@jupyter-widgets/controls",
            "_model_module_version": "1.5.0",
            "_model_name": "FloatProgressModel",
            "_view_count": null,
            "_view_module": "@jupyter-widgets/controls",
            "_view_module_version": "1.5.0",
            "_view_name": "ProgressView",
            "bar_style": "success",
            "description": "",
            "description_tooltip": null,
            "layout": "IPY_MODEL_5e041cfe45ce4f91b15e4d0c143e3d95",
            "max": 570,
            "min": 0,
            "orientation": "horizontal",
            "style": "IPY_MODEL_797c7560433d459e947e45e21697c748",
            "value": 570
          }
        },
        "fbb2f44452454557a5bcc849d3338685": {
          "model_module": "@jupyter-widgets/controls",
          "model_name": "HTMLModel",
          "model_module_version": "1.5.0",
          "state": {
            "_dom_classes": [],
            "_model_module": "@jupyter-widgets/controls",
            "_model_module_version": "1.5.0",
            "_model_name": "HTMLModel",
            "_view_count": null,
            "_view_module": "@jupyter-widgets/controls",
            "_view_module_version": "1.5.0",
            "_view_name": "HTMLView",
            "description": "",
            "description_tooltip": null,
            "layout": "IPY_MODEL_c18decfd88574968bffff06587c4cbc0",
            "placeholder": "​",
            "style": "IPY_MODEL_8fa2a6aa55504ea8982f79b568a2b4ce",
            "value": " 570/570 [00:00&lt;00:00, 47.9kB/s]"
          }
        },
        "ae9711d9a9634644bc8756bac30567f0": {
          "model_module": "@jupyter-widgets/base",
          "model_name": "LayoutModel",
          "model_module_version": "1.2.0",
          "state": {
            "_model_module": "@jupyter-widgets/base",
            "_model_module_version": "1.2.0",
            "_model_name": "LayoutModel",
            "_view_count": null,
            "_view_module": "@jupyter-widgets/base",
            "_view_module_version": "1.2.0",
            "_view_name": "LayoutView",
            "align_content": null,
            "align_items": null,
            "align_self": null,
            "border": null,
            "bottom": null,
            "display": null,
            "flex": null,
            "flex_flow": null,
            "grid_area": null,
            "grid_auto_columns": null,
            "grid_auto_flow": null,
            "grid_auto_rows": null,
            "grid_column": null,
            "grid_gap": null,
            "grid_row": null,
            "grid_template_areas": null,
            "grid_template_columns": null,
            "grid_template_rows": null,
            "height": null,
            "justify_content": null,
            "justify_items": null,
            "left": null,
            "margin": null,
            "max_height": null,
            "max_width": null,
            "min_height": null,
            "min_width": null,
            "object_fit": null,
            "object_position": null,
            "order": null,
            "overflow": null,
            "overflow_x": null,
            "overflow_y": null,
            "padding": null,
            "right": null,
            "top": null,
            "visibility": null,
            "width": null
          }
        },
        "280dcf02afdf45e1bf7e361d119a59c5": {
          "model_module": "@jupyter-widgets/base",
          "model_name": "LayoutModel",
          "model_module_version": "1.2.0",
          "state": {
            "_model_module": "@jupyter-widgets/base",
            "_model_module_version": "1.2.0",
            "_model_name": "LayoutModel",
            "_view_count": null,
            "_view_module": "@jupyter-widgets/base",
            "_view_module_version": "1.2.0",
            "_view_name": "LayoutView",
            "align_content": null,
            "align_items": null,
            "align_self": null,
            "border": null,
            "bottom": null,
            "display": null,
            "flex": null,
            "flex_flow": null,
            "grid_area": null,
            "grid_auto_columns": null,
            "grid_auto_flow": null,
            "grid_auto_rows": null,
            "grid_column": null,
            "grid_gap": null,
            "grid_row": null,
            "grid_template_areas": null,
            "grid_template_columns": null,
            "grid_template_rows": null,
            "height": null,
            "justify_content": null,
            "justify_items": null,
            "left": null,
            "margin": null,
            "max_height": null,
            "max_width": null,
            "min_height": null,
            "min_width": null,
            "object_fit": null,
            "object_position": null,
            "order": null,
            "overflow": null,
            "overflow_x": null,
            "overflow_y": null,
            "padding": null,
            "right": null,
            "top": null,
            "visibility": null,
            "width": null
          }
        },
        "3374d027dd48425f87f66fd2af824646": {
          "model_module": "@jupyter-widgets/controls",
          "model_name": "DescriptionStyleModel",
          "model_module_version": "1.5.0",
          "state": {
            "_model_module": "@jupyter-widgets/controls",
            "_model_module_version": "1.5.0",
            "_model_name": "DescriptionStyleModel",
            "_view_count": null,
            "_view_module": "@jupyter-widgets/base",
            "_view_module_version": "1.2.0",
            "_view_name": "StyleView",
            "description_width": ""
          }
        },
        "5e041cfe45ce4f91b15e4d0c143e3d95": {
          "model_module": "@jupyter-widgets/base",
          "model_name": "LayoutModel",
          "model_module_version": "1.2.0",
          "state": {
            "_model_module": "@jupyter-widgets/base",
            "_model_module_version": "1.2.0",
            "_model_name": "LayoutModel",
            "_view_count": null,
            "_view_module": "@jupyter-widgets/base",
            "_view_module_version": "1.2.0",
            "_view_name": "LayoutView",
            "align_content": null,
            "align_items": null,
            "align_self": null,
            "border": null,
            "bottom": null,
            "display": null,
            "flex": null,
            "flex_flow": null,
            "grid_area": null,
            "grid_auto_columns": null,
            "grid_auto_flow": null,
            "grid_auto_rows": null,
            "grid_column": null,
            "grid_gap": null,
            "grid_row": null,
            "grid_template_areas": null,
            "grid_template_columns": null,
            "grid_template_rows": null,
            "height": null,
            "justify_content": null,
            "justify_items": null,
            "left": null,
            "margin": null,
            "max_height": null,
            "max_width": null,
            "min_height": null,
            "min_width": null,
            "object_fit": null,
            "object_position": null,
            "order": null,
            "overflow": null,
            "overflow_x": null,
            "overflow_y": null,
            "padding": null,
            "right": null,
            "top": null,
            "visibility": null,
            "width": null
          }
        },
        "797c7560433d459e947e45e21697c748": {
          "model_module": "@jupyter-widgets/controls",
          "model_name": "ProgressStyleModel",
          "model_module_version": "1.5.0",
          "state": {
            "_model_module": "@jupyter-widgets/controls",
            "_model_module_version": "1.5.0",
            "_model_name": "ProgressStyleModel",
            "_view_count": null,
            "_view_module": "@jupyter-widgets/base",
            "_view_module_version": "1.2.0",
            "_view_name": "StyleView",
            "bar_color": null,
            "description_width": ""
          }
        },
        "c18decfd88574968bffff06587c4cbc0": {
          "model_module": "@jupyter-widgets/base",
          "model_name": "LayoutModel",
          "model_module_version": "1.2.0",
          "state": {
            "_model_module": "@jupyter-widgets/base",
            "_model_module_version": "1.2.0",
            "_model_name": "LayoutModel",
            "_view_count": null,
            "_view_module": "@jupyter-widgets/base",
            "_view_module_version": "1.2.0",
            "_view_name": "LayoutView",
            "align_content": null,
            "align_items": null,
            "align_self": null,
            "border": null,
            "bottom": null,
            "display": null,
            "flex": null,
            "flex_flow": null,
            "grid_area": null,
            "grid_auto_columns": null,
            "grid_auto_flow": null,
            "grid_auto_rows": null,
            "grid_column": null,
            "grid_gap": null,
            "grid_row": null,
            "grid_template_areas": null,
            "grid_template_columns": null,
            "grid_template_rows": null,
            "height": null,
            "justify_content": null,
            "justify_items": null,
            "left": null,
            "margin": null,
            "max_height": null,
            "max_width": null,
            "min_height": null,
            "min_width": null,
            "object_fit": null,
            "object_position": null,
            "order": null,
            "overflow": null,
            "overflow_x": null,
            "overflow_y": null,
            "padding": null,
            "right": null,
            "top": null,
            "visibility": null,
            "width": null
          }
        },
        "8fa2a6aa55504ea8982f79b568a2b4ce": {
          "model_module": "@jupyter-widgets/controls",
          "model_name": "DescriptionStyleModel",
          "model_module_version": "1.5.0",
          "state": {
            "_model_module": "@jupyter-widgets/controls",
            "_model_module_version": "1.5.0",
            "_model_name": "DescriptionStyleModel",
            "_view_count": null,
            "_view_module": "@jupyter-widgets/base",
            "_view_module_version": "1.2.0",
            "_view_name": "StyleView",
            "description_width": ""
          }
        },
        "fbaf2a2a9a7c4964993ed7775f4f5c28": {
          "model_module": "@jupyter-widgets/controls",
          "model_name": "HBoxModel",
          "model_module_version": "1.5.0",
          "state": {
            "_dom_classes": [],
            "_model_module": "@jupyter-widgets/controls",
            "_model_module_version": "1.5.0",
            "_model_name": "HBoxModel",
            "_view_count": null,
            "_view_module": "@jupyter-widgets/controls",
            "_view_module_version": "1.5.0",
            "_view_name": "HBoxView",
            "box_style": "",
            "children": [
              "IPY_MODEL_3fa9c482ec9e47bb927ba2f351b04542",
              "IPY_MODEL_567b5c14bd80483c986629222242ca76",
              "IPY_MODEL_581b608708b945f683d48dbad1a56c8a"
            ],
            "layout": "IPY_MODEL_297d256840e04317945ef21ffd35b3c8"
          }
        },
        "3fa9c482ec9e47bb927ba2f351b04542": {
          "model_module": "@jupyter-widgets/controls",
          "model_name": "HTMLModel",
          "model_module_version": "1.5.0",
          "state": {
            "_dom_classes": [],
            "_model_module": "@jupyter-widgets/controls",
            "_model_module_version": "1.5.0",
            "_model_name": "HTMLModel",
            "_view_count": null,
            "_view_module": "@jupyter-widgets/controls",
            "_view_module_version": "1.5.0",
            "_view_name": "HTMLView",
            "description": "",
            "description_tooltip": null,
            "layout": "IPY_MODEL_055c4868364b4bfea88636ec119c7e3a",
            "placeholder": "​",
            "style": "IPY_MODEL_2ba6d58853a244c3bdd9f181530c9734",
            "value": "model.safetensors: 100%"
          }
        },
        "567b5c14bd80483c986629222242ca76": {
          "model_module": "@jupyter-widgets/controls",
          "model_name": "FloatProgressModel",
          "model_module_version": "1.5.0",
          "state": {
            "_dom_classes": [],
            "_model_module": "@jupyter-widgets/controls",
            "_model_module_version": "1.5.0",
            "_model_name": "FloatProgressModel",
            "_view_count": null,
            "_view_module": "@jupyter-widgets/controls",
            "_view_module_version": "1.5.0",
            "_view_name": "ProgressView",
            "bar_style": "success",
            "description": "",
            "description_tooltip": null,
            "layout": "IPY_MODEL_894218738cbf435a9d731d041addb642",
            "max": 440449768,
            "min": 0,
            "orientation": "horizontal",
            "style": "IPY_MODEL_ee240004d45f483dbd629aa88eeb03e1",
            "value": 440449768
          }
        },
        "581b608708b945f683d48dbad1a56c8a": {
          "model_module": "@jupyter-widgets/controls",
          "model_name": "HTMLModel",
          "model_module_version": "1.5.0",
          "state": {
            "_dom_classes": [],
            "_model_module": "@jupyter-widgets/controls",
            "_model_module_version": "1.5.0",
            "_model_name": "HTMLModel",
            "_view_count": null,
            "_view_module": "@jupyter-widgets/controls",
            "_view_module_version": "1.5.0",
            "_view_name": "HTMLView",
            "description": "",
            "description_tooltip": null,
            "layout": "IPY_MODEL_f437a4cdd74644328f7e55f56559a07e",
            "placeholder": "​",
            "style": "IPY_MODEL_27fe867707924c24925b0587e7e2776a",
            "value": " 440M/440M [00:00&lt;00:00, 234MB/s]"
          }
        },
        "297d256840e04317945ef21ffd35b3c8": {
          "model_module": "@jupyter-widgets/base",
          "model_name": "LayoutModel",
          "model_module_version": "1.2.0",
          "state": {
            "_model_module": "@jupyter-widgets/base",
            "_model_module_version": "1.2.0",
            "_model_name": "LayoutModel",
            "_view_count": null,
            "_view_module": "@jupyter-widgets/base",
            "_view_module_version": "1.2.0",
            "_view_name": "LayoutView",
            "align_content": null,
            "align_items": null,
            "align_self": null,
            "border": null,
            "bottom": null,
            "display": null,
            "flex": null,
            "flex_flow": null,
            "grid_area": null,
            "grid_auto_columns": null,
            "grid_auto_flow": null,
            "grid_auto_rows": null,
            "grid_column": null,
            "grid_gap": null,
            "grid_row": null,
            "grid_template_areas": null,
            "grid_template_columns": null,
            "grid_template_rows": null,
            "height": null,
            "justify_content": null,
            "justify_items": null,
            "left": null,
            "margin": null,
            "max_height": null,
            "max_width": null,
            "min_height": null,
            "min_width": null,
            "object_fit": null,
            "object_position": null,
            "order": null,
            "overflow": null,
            "overflow_x": null,
            "overflow_y": null,
            "padding": null,
            "right": null,
            "top": null,
            "visibility": null,
            "width": null
          }
        },
        "055c4868364b4bfea88636ec119c7e3a": {
          "model_module": "@jupyter-widgets/base",
          "model_name": "LayoutModel",
          "model_module_version": "1.2.0",
          "state": {
            "_model_module": "@jupyter-widgets/base",
            "_model_module_version": "1.2.0",
            "_model_name": "LayoutModel",
            "_view_count": null,
            "_view_module": "@jupyter-widgets/base",
            "_view_module_version": "1.2.0",
            "_view_name": "LayoutView",
            "align_content": null,
            "align_items": null,
            "align_self": null,
            "border": null,
            "bottom": null,
            "display": null,
            "flex": null,
            "flex_flow": null,
            "grid_area": null,
            "grid_auto_columns": null,
            "grid_auto_flow": null,
            "grid_auto_rows": null,
            "grid_column": null,
            "grid_gap": null,
            "grid_row": null,
            "grid_template_areas": null,
            "grid_template_columns": null,
            "grid_template_rows": null,
            "height": null,
            "justify_content": null,
            "justify_items": null,
            "left": null,
            "margin": null,
            "max_height": null,
            "max_width": null,
            "min_height": null,
            "min_width": null,
            "object_fit": null,
            "object_position": null,
            "order": null,
            "overflow": null,
            "overflow_x": null,
            "overflow_y": null,
            "padding": null,
            "right": null,
            "top": null,
            "visibility": null,
            "width": null
          }
        },
        "2ba6d58853a244c3bdd9f181530c9734": {
          "model_module": "@jupyter-widgets/controls",
          "model_name": "DescriptionStyleModel",
          "model_module_version": "1.5.0",
          "state": {
            "_model_module": "@jupyter-widgets/controls",
            "_model_module_version": "1.5.0",
            "_model_name": "DescriptionStyleModel",
            "_view_count": null,
            "_view_module": "@jupyter-widgets/base",
            "_view_module_version": "1.2.0",
            "_view_name": "StyleView",
            "description_width": ""
          }
        },
        "894218738cbf435a9d731d041addb642": {
          "model_module": "@jupyter-widgets/base",
          "model_name": "LayoutModel",
          "model_module_version": "1.2.0",
          "state": {
            "_model_module": "@jupyter-widgets/base",
            "_model_module_version": "1.2.0",
            "_model_name": "LayoutModel",
            "_view_count": null,
            "_view_module": "@jupyter-widgets/base",
            "_view_module_version": "1.2.0",
            "_view_name": "LayoutView",
            "align_content": null,
            "align_items": null,
            "align_self": null,
            "border": null,
            "bottom": null,
            "display": null,
            "flex": null,
            "flex_flow": null,
            "grid_area": null,
            "grid_auto_columns": null,
            "grid_auto_flow": null,
            "grid_auto_rows": null,
            "grid_column": null,
            "grid_gap": null,
            "grid_row": null,
            "grid_template_areas": null,
            "grid_template_columns": null,
            "grid_template_rows": null,
            "height": null,
            "justify_content": null,
            "justify_items": null,
            "left": null,
            "margin": null,
            "max_height": null,
            "max_width": null,
            "min_height": null,
            "min_width": null,
            "object_fit": null,
            "object_position": null,
            "order": null,
            "overflow": null,
            "overflow_x": null,
            "overflow_y": null,
            "padding": null,
            "right": null,
            "top": null,
            "visibility": null,
            "width": null
          }
        },
        "ee240004d45f483dbd629aa88eeb03e1": {
          "model_module": "@jupyter-widgets/controls",
          "model_name": "ProgressStyleModel",
          "model_module_version": "1.5.0",
          "state": {
            "_model_module": "@jupyter-widgets/controls",
            "_model_module_version": "1.5.0",
            "_model_name": "ProgressStyleModel",
            "_view_count": null,
            "_view_module": "@jupyter-widgets/base",
            "_view_module_version": "1.2.0",
            "_view_name": "StyleView",
            "bar_color": null,
            "description_width": ""
          }
        },
        "f437a4cdd74644328f7e55f56559a07e": {
          "model_module": "@jupyter-widgets/base",
          "model_name": "LayoutModel",
          "model_module_version": "1.2.0",
          "state": {
            "_model_module": "@jupyter-widgets/base",
            "_model_module_version": "1.2.0",
            "_model_name": "LayoutModel",
            "_view_count": null,
            "_view_module": "@jupyter-widgets/base",
            "_view_module_version": "1.2.0",
            "_view_name": "LayoutView",
            "align_content": null,
            "align_items": null,
            "align_self": null,
            "border": null,
            "bottom": null,
            "display": null,
            "flex": null,
            "flex_flow": null,
            "grid_area": null,
            "grid_auto_columns": null,
            "grid_auto_flow": null,
            "grid_auto_rows": null,
            "grid_column": null,
            "grid_gap": null,
            "grid_row": null,
            "grid_template_areas": null,
            "grid_template_columns": null,
            "grid_template_rows": null,
            "height": null,
            "justify_content": null,
            "justify_items": null,
            "left": null,
            "margin": null,
            "max_height": null,
            "max_width": null,
            "min_height": null,
            "min_width": null,
            "object_fit": null,
            "object_position": null,
            "order": null,
            "overflow": null,
            "overflow_x": null,
            "overflow_y": null,
            "padding": null,
            "right": null,
            "top": null,
            "visibility": null,
            "width": null
          }
        },
        "27fe867707924c24925b0587e7e2776a": {
          "model_module": "@jupyter-widgets/controls",
          "model_name": "DescriptionStyleModel",
          "model_module_version": "1.5.0",
          "state": {
            "_model_module": "@jupyter-widgets/controls",
            "_model_module_version": "1.5.0",
            "_model_name": "DescriptionStyleModel",
            "_view_count": null,
            "_view_module": "@jupyter-widgets/base",
            "_view_module_version": "1.2.0",
            "_view_name": "StyleView",
            "description_width": ""
          }
        }
      }
    }
  },
  "nbformat": 4,
  "nbformat_minor": 0
}